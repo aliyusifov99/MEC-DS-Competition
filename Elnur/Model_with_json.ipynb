{
 "cells": [
  {
   "cell_type": "code",
   "execution_count": 1,
   "metadata": {
    "collapsed": true
   },
   "outputs": [],
   "source": [
    "import pandas as pd\n",
    "import seaborn as sns\n",
    "import geopandas as gpd"
   ]
  },
  {
   "cell_type": "code",
   "execution_count": 2,
   "outputs": [],
   "source": [
    "# df_json = pd.read_json('london.json')\n",
    "df_geo_json = gpd.read_file('london.json')\n",
    "df = pd.read_csv('training_WeeklyAggregate.csv')"
   ],
   "metadata": {
    "collapsed": false,
    "pycharm": {
     "name": "#%%\n"
    }
   }
  },
  {
   "cell_type": "code",
   "execution_count": 3,
   "outputs": [
    {
     "data": {
      "text/plain": "     msoa_code        msoa_name la_code      la_name  geoeast  geonorth  \\\n0    E02000508   Hillingdon 015    00AS   Hillingdon   506163    183536   \n1    E02000716       Newham 003    00BB       Newham   541978    186009   \n2    E02000747       Newham 034    00BB       Newham   539578    181317   \n3    E02000748       Newham 035    00BB       Newham   542500    181152   \n4    E02000749       Newham 036    00BB       Newham   541047    181103   \n..         ...              ...     ...          ...      ...       ...   \n978  E02000974  Westminster 015    00BK  Westminster   527028    181254   \n979  E02000975  Westminster 016    00BK  Westminster   526396    181129   \n980  E02000980  Westminster 021    00BK  Westminster   529921    178656   \n981  E02000981  Westminster 022    00BK  Westminster   529123    178488   \n982  E02000983  Westminster 024    00BK  Westminster   529464    178054   \n\n     popeast  popnorth  area_km2 MOVEMENT_ID             DISPLAY_NAME  \\\n0     505978    183811  2.746600           0     Hillingdon, 00AS (0)   \n1     541870    185568  1.565170           1         Newham, 00BB (1)   \n2     539891    181438  2.082410           2         Newham, 00BB (2)   \n3     542439    181339  1.331750           3         Newham, 00BB (3)   \n4     540847    181294  1.419020           4         Newham, 00BB (4)   \n..       ...       ...       ...         ...                      ...   \n978   527172    181179  0.689337         978  Westminster, 00BK (978)   \n979   526375    181042  0.484638         979  Westminster, 00BK (979)   \n980   529758    178698  0.539208         980  Westminster, 00BK (980)   \n981   529140    178401  0.363777         981  Westminster, 00BK (981)   \n982   529488    178111  0.559636         982  Westminster, 00BK (982)   \n\n                                              geometry  \n0    MULTIPOLYGON (((-0.47794 51.55485, -0.47665 51...  \n1    MULTIPOLYGON (((0.05255 51.56171, 0.05310 51.5...  \n2    MULTIPOLYGON (((0.01001 51.52181, 0.01003 51.5...  \n3    MULTIPOLYGON (((0.05392 51.51611, 0.05174 51.5...  \n4    MULTIPOLYGON (((0.03241 51.51704, 0.03179 51.5...  \n..                                                 ...  \n978  MULTIPOLYGON (((-0.17019 51.51994, -0.16019 51...  \n979  MULTIPOLYGON (((-0.17867 51.52008, -0.17898 51...  \n980  MULTIPOLYGON (((-0.12279 51.49453, -0.12305 51...  \n981  MULTIPOLYGON (((-0.14126 51.49455, -0.14080 51...  \n982  MULTIPOLYGON (((-0.12710 51.48764, -0.12957 51...  \n\n[983 rows x 12 columns]",
      "text/html": "<div>\n<style scoped>\n    .dataframe tbody tr th:only-of-type {\n        vertical-align: middle;\n    }\n\n    .dataframe tbody tr th {\n        vertical-align: top;\n    }\n\n    .dataframe thead th {\n        text-align: right;\n    }\n</style>\n<table border=\"1\" class=\"dataframe\">\n  <thead>\n    <tr style=\"text-align: right;\">\n      <th></th>\n      <th>msoa_code</th>\n      <th>msoa_name</th>\n      <th>la_code</th>\n      <th>la_name</th>\n      <th>geoeast</th>\n      <th>geonorth</th>\n      <th>popeast</th>\n      <th>popnorth</th>\n      <th>area_km2</th>\n      <th>MOVEMENT_ID</th>\n      <th>DISPLAY_NAME</th>\n      <th>geometry</th>\n    </tr>\n  </thead>\n  <tbody>\n    <tr>\n      <th>0</th>\n      <td>E02000508</td>\n      <td>Hillingdon 015</td>\n      <td>00AS</td>\n      <td>Hillingdon</td>\n      <td>506163</td>\n      <td>183536</td>\n      <td>505978</td>\n      <td>183811</td>\n      <td>2.746600</td>\n      <td>0</td>\n      <td>Hillingdon, 00AS (0)</td>\n      <td>MULTIPOLYGON (((-0.47794 51.55485, -0.47665 51...</td>\n    </tr>\n    <tr>\n      <th>1</th>\n      <td>E02000716</td>\n      <td>Newham 003</td>\n      <td>00BB</td>\n      <td>Newham</td>\n      <td>541978</td>\n      <td>186009</td>\n      <td>541870</td>\n      <td>185568</td>\n      <td>1.565170</td>\n      <td>1</td>\n      <td>Newham, 00BB (1)</td>\n      <td>MULTIPOLYGON (((0.05255 51.56171, 0.05310 51.5...</td>\n    </tr>\n    <tr>\n      <th>2</th>\n      <td>E02000747</td>\n      <td>Newham 034</td>\n      <td>00BB</td>\n      <td>Newham</td>\n      <td>539578</td>\n      <td>181317</td>\n      <td>539891</td>\n      <td>181438</td>\n      <td>2.082410</td>\n      <td>2</td>\n      <td>Newham, 00BB (2)</td>\n      <td>MULTIPOLYGON (((0.01001 51.52181, 0.01003 51.5...</td>\n    </tr>\n    <tr>\n      <th>3</th>\n      <td>E02000748</td>\n      <td>Newham 035</td>\n      <td>00BB</td>\n      <td>Newham</td>\n      <td>542500</td>\n      <td>181152</td>\n      <td>542439</td>\n      <td>181339</td>\n      <td>1.331750</td>\n      <td>3</td>\n      <td>Newham, 00BB (3)</td>\n      <td>MULTIPOLYGON (((0.05392 51.51611, 0.05174 51.5...</td>\n    </tr>\n    <tr>\n      <th>4</th>\n      <td>E02000749</td>\n      <td>Newham 036</td>\n      <td>00BB</td>\n      <td>Newham</td>\n      <td>541047</td>\n      <td>181103</td>\n      <td>540847</td>\n      <td>181294</td>\n      <td>1.419020</td>\n      <td>4</td>\n      <td>Newham, 00BB (4)</td>\n      <td>MULTIPOLYGON (((0.03241 51.51704, 0.03179 51.5...</td>\n    </tr>\n    <tr>\n      <th>...</th>\n      <td>...</td>\n      <td>...</td>\n      <td>...</td>\n      <td>...</td>\n      <td>...</td>\n      <td>...</td>\n      <td>...</td>\n      <td>...</td>\n      <td>...</td>\n      <td>...</td>\n      <td>...</td>\n      <td>...</td>\n    </tr>\n    <tr>\n      <th>978</th>\n      <td>E02000974</td>\n      <td>Westminster 015</td>\n      <td>00BK</td>\n      <td>Westminster</td>\n      <td>527028</td>\n      <td>181254</td>\n      <td>527172</td>\n      <td>181179</td>\n      <td>0.689337</td>\n      <td>978</td>\n      <td>Westminster, 00BK (978)</td>\n      <td>MULTIPOLYGON (((-0.17019 51.51994, -0.16019 51...</td>\n    </tr>\n    <tr>\n      <th>979</th>\n      <td>E02000975</td>\n      <td>Westminster 016</td>\n      <td>00BK</td>\n      <td>Westminster</td>\n      <td>526396</td>\n      <td>181129</td>\n      <td>526375</td>\n      <td>181042</td>\n      <td>0.484638</td>\n      <td>979</td>\n      <td>Westminster, 00BK (979)</td>\n      <td>MULTIPOLYGON (((-0.17867 51.52008, -0.17898 51...</td>\n    </tr>\n    <tr>\n      <th>980</th>\n      <td>E02000980</td>\n      <td>Westminster 021</td>\n      <td>00BK</td>\n      <td>Westminster</td>\n      <td>529921</td>\n      <td>178656</td>\n      <td>529758</td>\n      <td>178698</td>\n      <td>0.539208</td>\n      <td>980</td>\n      <td>Westminster, 00BK (980)</td>\n      <td>MULTIPOLYGON (((-0.12279 51.49453, -0.12305 51...</td>\n    </tr>\n    <tr>\n      <th>981</th>\n      <td>E02000981</td>\n      <td>Westminster 022</td>\n      <td>00BK</td>\n      <td>Westminster</td>\n      <td>529123</td>\n      <td>178488</td>\n      <td>529140</td>\n      <td>178401</td>\n      <td>0.363777</td>\n      <td>981</td>\n      <td>Westminster, 00BK (981)</td>\n      <td>MULTIPOLYGON (((-0.14126 51.49455, -0.14080 51...</td>\n    </tr>\n    <tr>\n      <th>982</th>\n      <td>E02000983</td>\n      <td>Westminster 024</td>\n      <td>00BK</td>\n      <td>Westminster</td>\n      <td>529464</td>\n      <td>178054</td>\n      <td>529488</td>\n      <td>178111</td>\n      <td>0.559636</td>\n      <td>982</td>\n      <td>Westminster, 00BK (982)</td>\n      <td>MULTIPOLYGON (((-0.12710 51.48764, -0.12957 51...</td>\n    </tr>\n  </tbody>\n</table>\n<p>983 rows × 12 columns</p>\n</div>"
     },
     "execution_count": 3,
     "metadata": {},
     "output_type": "execute_result"
    }
   ],
   "source": [
    "df_geo_json"
   ],
   "metadata": {
    "collapsed": false,
    "pycharm": {
     "name": "#%%\n"
    }
   }
  },
  {
   "cell_type": "code",
   "execution_count": 4,
   "outputs": [
    {
     "data": {
      "text/plain": "1"
     },
     "execution_count": 4,
     "metadata": {},
     "output_type": "execute_result"
    }
   ],
   "source": [
    "sum(df_geo_json['MOVEMENT_ID']=='0')"
   ],
   "metadata": {
    "collapsed": false,
    "pycharm": {
     "name": "#%%\n"
    }
   }
  },
  {
   "cell_type": "code",
   "execution_count": 5,
   "outputs": [
    {
     "data": {
      "text/plain": "982"
     },
     "execution_count": 5,
     "metadata": {},
     "output_type": "execute_result"
    }
   ],
   "source": [
    "df['sourceid'].max()"
   ],
   "metadata": {
    "collapsed": false,
    "pycharm": {
     "name": "#%%\n"
    }
   }
  },
  {
   "cell_type": "code",
   "execution_count": 6,
   "outputs": [
    {
     "data": {
      "text/plain": "0"
     },
     "execution_count": 6,
     "metadata": {},
     "output_type": "execute_result"
    }
   ],
   "source": [
    "df['sourceid'].min()"
   ],
   "metadata": {
    "collapsed": false,
    "pycharm": {
     "name": "#%%\n"
    }
   }
  },
  {
   "cell_type": "code",
   "execution_count": 7,
   "outputs": [
    {
     "name": "stdout",
     "output_type": "stream",
     "text": [
      "<class 'geopandas.geodataframe.GeoDataFrame'>\n",
      "RangeIndex: 983 entries, 0 to 982\n",
      "Data columns (total 12 columns):\n",
      " #   Column        Non-Null Count  Dtype   \n",
      "---  ------        --------------  -----   \n",
      " 0   msoa_code     983 non-null    object  \n",
      " 1   msoa_name     983 non-null    object  \n",
      " 2   la_code       983 non-null    object  \n",
      " 3   la_name       983 non-null    object  \n",
      " 4   geoeast       983 non-null    int64   \n",
      " 5   geonorth      983 non-null    int64   \n",
      " 6   popeast       983 non-null    int64   \n",
      " 7   popnorth      983 non-null    int64   \n",
      " 8   area_km2      983 non-null    float64 \n",
      " 9   MOVEMENT_ID   983 non-null    object  \n",
      " 10  DISPLAY_NAME  983 non-null    object  \n",
      " 11  geometry      983 non-null    geometry\n",
      "dtypes: float64(1), geometry(1), int64(4), object(6)\n",
      "memory usage: 92.3+ KB\n"
     ]
    }
   ],
   "source": [
    "df_geo_json.info()"
   ],
   "metadata": {
    "collapsed": false,
    "pycharm": {
     "name": "#%%\n"
    }
   }
  },
  {
   "cell_type": "code",
   "execution_count": 8,
   "outputs": [
    {
     "name": "stdout",
     "output_type": "stream",
     "text": [
      "<class 'pandas.core.frame.DataFrame'>\n",
      "RangeIndex: 9830 entries, 0 to 9829\n",
      "Data columns (total 4 columns):\n",
      " #   Column            Non-Null Count  Dtype  \n",
      "---  ------            --------------  -----  \n",
      " 0   sourceid          9830 non-null   int64  \n",
      " 1   dstid             9830 non-null   int64  \n",
      " 2   dow               9830 non-null   int64  \n",
      " 3   mean_travel_time  9830 non-null   float64\n",
      "dtypes: float64(1), int64(3)\n",
      "memory usage: 307.3 KB\n"
     ]
    }
   ],
   "source": [
    "df.info()"
   ],
   "metadata": {
    "collapsed": false,
    "pycharm": {
     "name": "#%%\n"
    }
   }
  },
  {
   "cell_type": "code",
   "execution_count": 9,
   "outputs": [
    {
     "data": {
      "text/plain": "Series([], Name: geoeast, dtype: int64)"
     },
     "execution_count": 9,
     "metadata": {},
     "output_type": "execute_result"
    }
   ],
   "source": [
    "df_geo_json['geoeast'][df_geo_json['MOVEMENT_ID']==str(df['sourceid'])]"
   ],
   "metadata": {
    "collapsed": false,
    "pycharm": {
     "name": "#%%\n"
    }
   }
  },
  {
   "cell_type": "code",
   "execution_count": 10,
   "outputs": [],
   "source": [
    "df.sort_values(by='sourceid', ascending=True, inplace=True, ignore_index=True)"
   ],
   "metadata": {
    "collapsed": false,
    "pycharm": {
     "name": "#%%\n"
    }
   }
  },
  {
   "cell_type": "code",
   "execution_count": 11,
   "outputs": [
    {
     "data": {
      "text/plain": "      sourceid  dstid  dow  mean_travel_time\n0            0    136    5           2557.68\n1            0    680    7           1754.80\n2            0    755    7           2850.00\n3            0    696    5           1338.51\n4            0    487    6           1011.56\n...        ...    ...  ...               ...\n9825       982     96    1           1639.58\n9826       982    332    5            554.16\n9827       982    442    3           2705.68\n9828       982    355    2           1373.61\n9829       982    768    2           1601.39\n\n[9830 rows x 4 columns]",
      "text/html": "<div>\n<style scoped>\n    .dataframe tbody tr th:only-of-type {\n        vertical-align: middle;\n    }\n\n    .dataframe tbody tr th {\n        vertical-align: top;\n    }\n\n    .dataframe thead th {\n        text-align: right;\n    }\n</style>\n<table border=\"1\" class=\"dataframe\">\n  <thead>\n    <tr style=\"text-align: right;\">\n      <th></th>\n      <th>sourceid</th>\n      <th>dstid</th>\n      <th>dow</th>\n      <th>mean_travel_time</th>\n    </tr>\n  </thead>\n  <tbody>\n    <tr>\n      <th>0</th>\n      <td>0</td>\n      <td>136</td>\n      <td>5</td>\n      <td>2557.68</td>\n    </tr>\n    <tr>\n      <th>1</th>\n      <td>0</td>\n      <td>680</td>\n      <td>7</td>\n      <td>1754.80</td>\n    </tr>\n    <tr>\n      <th>2</th>\n      <td>0</td>\n      <td>755</td>\n      <td>7</td>\n      <td>2850.00</td>\n    </tr>\n    <tr>\n      <th>3</th>\n      <td>0</td>\n      <td>696</td>\n      <td>5</td>\n      <td>1338.51</td>\n    </tr>\n    <tr>\n      <th>4</th>\n      <td>0</td>\n      <td>487</td>\n      <td>6</td>\n      <td>1011.56</td>\n    </tr>\n    <tr>\n      <th>...</th>\n      <td>...</td>\n      <td>...</td>\n      <td>...</td>\n      <td>...</td>\n    </tr>\n    <tr>\n      <th>9825</th>\n      <td>982</td>\n      <td>96</td>\n      <td>1</td>\n      <td>1639.58</td>\n    </tr>\n    <tr>\n      <th>9826</th>\n      <td>982</td>\n      <td>332</td>\n      <td>5</td>\n      <td>554.16</td>\n    </tr>\n    <tr>\n      <th>9827</th>\n      <td>982</td>\n      <td>442</td>\n      <td>3</td>\n      <td>2705.68</td>\n    </tr>\n    <tr>\n      <th>9828</th>\n      <td>982</td>\n      <td>355</td>\n      <td>2</td>\n      <td>1373.61</td>\n    </tr>\n    <tr>\n      <th>9829</th>\n      <td>982</td>\n      <td>768</td>\n      <td>2</td>\n      <td>1601.39</td>\n    </tr>\n  </tbody>\n</table>\n<p>9830 rows × 4 columns</p>\n</div>"
     },
     "execution_count": 11,
     "metadata": {},
     "output_type": "execute_result"
    }
   ],
   "source": [
    "df"
   ],
   "metadata": {
    "collapsed": false,
    "pycharm": {
     "name": "#%%\n"
    }
   }
  },
  {
   "cell_type": "code",
   "execution_count": 12,
   "outputs": [
    {
     "data": {
      "text/plain": "     msoa_code        msoa_name la_code      la_name  geoeast  geonorth  \\\n0    E02000508   Hillingdon 015    00AS   Hillingdon   506163    183536   \n1    E02000716       Newham 003    00BB       Newham   541978    186009   \n2    E02000747       Newham 034    00BB       Newham   539578    181317   \n3    E02000748       Newham 035    00BB       Newham   542500    181152   \n4    E02000749       Newham 036    00BB       Newham   541047    181103   \n..         ...              ...     ...          ...      ...       ...   \n978  E02000974  Westminster 015    00BK  Westminster   527028    181254   \n979  E02000975  Westminster 016    00BK  Westminster   526396    181129   \n980  E02000980  Westminster 021    00BK  Westminster   529921    178656   \n981  E02000981  Westminster 022    00BK  Westminster   529123    178488   \n982  E02000983  Westminster 024    00BK  Westminster   529464    178054   \n\n     popeast  popnorth  area_km2 MOVEMENT_ID             DISPLAY_NAME  \\\n0     505978    183811  2.746600           0     Hillingdon, 00AS (0)   \n1     541870    185568  1.565170           1         Newham, 00BB (1)   \n2     539891    181438  2.082410           2         Newham, 00BB (2)   \n3     542439    181339  1.331750           3         Newham, 00BB (3)   \n4     540847    181294  1.419020           4         Newham, 00BB (4)   \n..       ...       ...       ...         ...                      ...   \n978   527172    181179  0.689337         978  Westminster, 00BK (978)   \n979   526375    181042  0.484638         979  Westminster, 00BK (979)   \n980   529758    178698  0.539208         980  Westminster, 00BK (980)   \n981   529140    178401  0.363777         981  Westminster, 00BK (981)   \n982   529488    178111  0.559636         982  Westminster, 00BK (982)   \n\n                                              geometry  \n0    MULTIPOLYGON (((-0.47794 51.55485, -0.47665 51...  \n1    MULTIPOLYGON (((0.05255 51.56171, 0.05310 51.5...  \n2    MULTIPOLYGON (((0.01001 51.52181, 0.01003 51.5...  \n3    MULTIPOLYGON (((0.05392 51.51611, 0.05174 51.5...  \n4    MULTIPOLYGON (((0.03241 51.51704, 0.03179 51.5...  \n..                                                 ...  \n978  MULTIPOLYGON (((-0.17019 51.51994, -0.16019 51...  \n979  MULTIPOLYGON (((-0.17867 51.52008, -0.17898 51...  \n980  MULTIPOLYGON (((-0.12279 51.49453, -0.12305 51...  \n981  MULTIPOLYGON (((-0.14126 51.49455, -0.14080 51...  \n982  MULTIPOLYGON (((-0.12710 51.48764, -0.12957 51...  \n\n[983 rows x 12 columns]",
      "text/html": "<div>\n<style scoped>\n    .dataframe tbody tr th:only-of-type {\n        vertical-align: middle;\n    }\n\n    .dataframe tbody tr th {\n        vertical-align: top;\n    }\n\n    .dataframe thead th {\n        text-align: right;\n    }\n</style>\n<table border=\"1\" class=\"dataframe\">\n  <thead>\n    <tr style=\"text-align: right;\">\n      <th></th>\n      <th>msoa_code</th>\n      <th>msoa_name</th>\n      <th>la_code</th>\n      <th>la_name</th>\n      <th>geoeast</th>\n      <th>geonorth</th>\n      <th>popeast</th>\n      <th>popnorth</th>\n      <th>area_km2</th>\n      <th>MOVEMENT_ID</th>\n      <th>DISPLAY_NAME</th>\n      <th>geometry</th>\n    </tr>\n  </thead>\n  <tbody>\n    <tr>\n      <th>0</th>\n      <td>E02000508</td>\n      <td>Hillingdon 015</td>\n      <td>00AS</td>\n      <td>Hillingdon</td>\n      <td>506163</td>\n      <td>183536</td>\n      <td>505978</td>\n      <td>183811</td>\n      <td>2.746600</td>\n      <td>0</td>\n      <td>Hillingdon, 00AS (0)</td>\n      <td>MULTIPOLYGON (((-0.47794 51.55485, -0.47665 51...</td>\n    </tr>\n    <tr>\n      <th>1</th>\n      <td>E02000716</td>\n      <td>Newham 003</td>\n      <td>00BB</td>\n      <td>Newham</td>\n      <td>541978</td>\n      <td>186009</td>\n      <td>541870</td>\n      <td>185568</td>\n      <td>1.565170</td>\n      <td>1</td>\n      <td>Newham, 00BB (1)</td>\n      <td>MULTIPOLYGON (((0.05255 51.56171, 0.05310 51.5...</td>\n    </tr>\n    <tr>\n      <th>2</th>\n      <td>E02000747</td>\n      <td>Newham 034</td>\n      <td>00BB</td>\n      <td>Newham</td>\n      <td>539578</td>\n      <td>181317</td>\n      <td>539891</td>\n      <td>181438</td>\n      <td>2.082410</td>\n      <td>2</td>\n      <td>Newham, 00BB (2)</td>\n      <td>MULTIPOLYGON (((0.01001 51.52181, 0.01003 51.5...</td>\n    </tr>\n    <tr>\n      <th>3</th>\n      <td>E02000748</td>\n      <td>Newham 035</td>\n      <td>00BB</td>\n      <td>Newham</td>\n      <td>542500</td>\n      <td>181152</td>\n      <td>542439</td>\n      <td>181339</td>\n      <td>1.331750</td>\n      <td>3</td>\n      <td>Newham, 00BB (3)</td>\n      <td>MULTIPOLYGON (((0.05392 51.51611, 0.05174 51.5...</td>\n    </tr>\n    <tr>\n      <th>4</th>\n      <td>E02000749</td>\n      <td>Newham 036</td>\n      <td>00BB</td>\n      <td>Newham</td>\n      <td>541047</td>\n      <td>181103</td>\n      <td>540847</td>\n      <td>181294</td>\n      <td>1.419020</td>\n      <td>4</td>\n      <td>Newham, 00BB (4)</td>\n      <td>MULTIPOLYGON (((0.03241 51.51704, 0.03179 51.5...</td>\n    </tr>\n    <tr>\n      <th>...</th>\n      <td>...</td>\n      <td>...</td>\n      <td>...</td>\n      <td>...</td>\n      <td>...</td>\n      <td>...</td>\n      <td>...</td>\n      <td>...</td>\n      <td>...</td>\n      <td>...</td>\n      <td>...</td>\n      <td>...</td>\n    </tr>\n    <tr>\n      <th>978</th>\n      <td>E02000974</td>\n      <td>Westminster 015</td>\n      <td>00BK</td>\n      <td>Westminster</td>\n      <td>527028</td>\n      <td>181254</td>\n      <td>527172</td>\n      <td>181179</td>\n      <td>0.689337</td>\n      <td>978</td>\n      <td>Westminster, 00BK (978)</td>\n      <td>MULTIPOLYGON (((-0.17019 51.51994, -0.16019 51...</td>\n    </tr>\n    <tr>\n      <th>979</th>\n      <td>E02000975</td>\n      <td>Westminster 016</td>\n      <td>00BK</td>\n      <td>Westminster</td>\n      <td>526396</td>\n      <td>181129</td>\n      <td>526375</td>\n      <td>181042</td>\n      <td>0.484638</td>\n      <td>979</td>\n      <td>Westminster, 00BK (979)</td>\n      <td>MULTIPOLYGON (((-0.17867 51.52008, -0.17898 51...</td>\n    </tr>\n    <tr>\n      <th>980</th>\n      <td>E02000980</td>\n      <td>Westminster 021</td>\n      <td>00BK</td>\n      <td>Westminster</td>\n      <td>529921</td>\n      <td>178656</td>\n      <td>529758</td>\n      <td>178698</td>\n      <td>0.539208</td>\n      <td>980</td>\n      <td>Westminster, 00BK (980)</td>\n      <td>MULTIPOLYGON (((-0.12279 51.49453, -0.12305 51...</td>\n    </tr>\n    <tr>\n      <th>981</th>\n      <td>E02000981</td>\n      <td>Westminster 022</td>\n      <td>00BK</td>\n      <td>Westminster</td>\n      <td>529123</td>\n      <td>178488</td>\n      <td>529140</td>\n      <td>178401</td>\n      <td>0.363777</td>\n      <td>981</td>\n      <td>Westminster, 00BK (981)</td>\n      <td>MULTIPOLYGON (((-0.14126 51.49455, -0.14080 51...</td>\n    </tr>\n    <tr>\n      <th>982</th>\n      <td>E02000983</td>\n      <td>Westminster 024</td>\n      <td>00BK</td>\n      <td>Westminster</td>\n      <td>529464</td>\n      <td>178054</td>\n      <td>529488</td>\n      <td>178111</td>\n      <td>0.559636</td>\n      <td>982</td>\n      <td>Westminster, 00BK (982)</td>\n      <td>MULTIPOLYGON (((-0.12710 51.48764, -0.12957 51...</td>\n    </tr>\n  </tbody>\n</table>\n<p>983 rows × 12 columns</p>\n</div>"
     },
     "execution_count": 12,
     "metadata": {},
     "output_type": "execute_result"
    }
   ],
   "source": [
    "df_geo_json"
   ],
   "metadata": {
    "collapsed": false,
    "pycharm": {
     "name": "#%%\n"
    }
   }
  },
  {
   "cell_type": "code",
   "execution_count": 13,
   "outputs": [],
   "source": [
    "df_json = df_geo_json[['geoeast','geonorth', 'popeast', 'popnorth', 'area_km2', 'MOVEMENT_ID']]"
   ],
   "metadata": {
    "collapsed": false,
    "pycharm": {
     "name": "#%%\n"
    }
   }
  },
  {
   "cell_type": "code",
   "execution_count": 14,
   "outputs": [],
   "source": [
    "df_json = pd.concat([df_json]*10, ignore_index=True)"
   ],
   "metadata": {
    "collapsed": false,
    "pycharm": {
     "name": "#%%\n"
    }
   }
  },
  {
   "cell_type": "code",
   "execution_count": 15,
   "outputs": [
    {
     "name": "stdout",
     "output_type": "stream",
     "text": [
      "<class 'pandas.core.frame.DataFrame'>\n",
      "RangeIndex: 9830 entries, 0 to 9829\n",
      "Data columns (total 6 columns):\n",
      " #   Column       Non-Null Count  Dtype  \n",
      "---  ------       --------------  -----  \n",
      " 0   geoeast      9830 non-null   int64  \n",
      " 1   geonorth     9830 non-null   int64  \n",
      " 2   popeast      9830 non-null   int64  \n",
      " 3   popnorth     9830 non-null   int64  \n",
      " 4   area_km2     9830 non-null   float64\n",
      " 5   MOVEMENT_ID  9830 non-null   object \n",
      "dtypes: float64(1), int64(4), object(1)\n",
      "memory usage: 460.9+ KB\n"
     ]
    }
   ],
   "source": [
    "df_json.info()"
   ],
   "metadata": {
    "collapsed": false,
    "pycharm": {
     "name": "#%%\n"
    }
   }
  },
  {
   "cell_type": "code",
   "execution_count": 16,
   "outputs": [
    {
     "name": "stdout",
     "output_type": "stream",
     "text": [
      "<class 'pandas.core.frame.DataFrame'>\n",
      "RangeIndex: 9830 entries, 0 to 9829\n",
      "Data columns (total 6 columns):\n",
      " #   Column       Non-Null Count  Dtype  \n",
      "---  ------       --------------  -----  \n",
      " 0   geoeast      9830 non-null   int64  \n",
      " 1   geonorth     9830 non-null   int64  \n",
      " 2   popeast      9830 non-null   int64  \n",
      " 3   popnorth     9830 non-null   int64  \n",
      " 4   area_km2     9830 non-null   float64\n",
      " 5   MOVEMENT_ID  9830 non-null   int32  \n",
      "dtypes: float64(1), int32(1), int64(4)\n",
      "memory usage: 422.5 KB\n"
     ]
    }
   ],
   "source": [
    "df_json['MOVEMENT_ID'] =  df_json['MOVEMENT_ID'].astype(int)\n",
    "df_json.info()"
   ],
   "metadata": {
    "collapsed": false,
    "pycharm": {
     "name": "#%%\n"
    }
   }
  },
  {
   "cell_type": "code",
   "execution_count": 17,
   "outputs": [],
   "source": [
    "df_json.sort_values(by='MOVEMENT_ID', ascending=True, inplace=True, ignore_index=True)"
   ],
   "metadata": {
    "collapsed": false,
    "pycharm": {
     "name": "#%%\n"
    }
   }
  },
  {
   "cell_type": "code",
   "execution_count": 18,
   "outputs": [
    {
     "data": {
      "text/plain": "      geoeast  geonorth  popeast  popnorth  area_km2  MOVEMENT_ID\n0      506163    183536   505978    183811  2.746600            0\n1      506163    183536   505978    183811  2.746600            0\n2      506163    183536   505978    183811  2.746600            0\n3      506163    183536   505978    183811  2.746600            0\n4      506163    183536   505978    183811  2.746600            0\n...       ...       ...      ...       ...       ...          ...\n9825   529464    178054   529488    178111  0.559636          982\n9826   529464    178054   529488    178111  0.559636          982\n9827   529464    178054   529488    178111  0.559636          982\n9828   529464    178054   529488    178111  0.559636          982\n9829   529464    178054   529488    178111  0.559636          982\n\n[9830 rows x 6 columns]",
      "text/html": "<div>\n<style scoped>\n    .dataframe tbody tr th:only-of-type {\n        vertical-align: middle;\n    }\n\n    .dataframe tbody tr th {\n        vertical-align: top;\n    }\n\n    .dataframe thead th {\n        text-align: right;\n    }\n</style>\n<table border=\"1\" class=\"dataframe\">\n  <thead>\n    <tr style=\"text-align: right;\">\n      <th></th>\n      <th>geoeast</th>\n      <th>geonorth</th>\n      <th>popeast</th>\n      <th>popnorth</th>\n      <th>area_km2</th>\n      <th>MOVEMENT_ID</th>\n    </tr>\n  </thead>\n  <tbody>\n    <tr>\n      <th>0</th>\n      <td>506163</td>\n      <td>183536</td>\n      <td>505978</td>\n      <td>183811</td>\n      <td>2.746600</td>\n      <td>0</td>\n    </tr>\n    <tr>\n      <th>1</th>\n      <td>506163</td>\n      <td>183536</td>\n      <td>505978</td>\n      <td>183811</td>\n      <td>2.746600</td>\n      <td>0</td>\n    </tr>\n    <tr>\n      <th>2</th>\n      <td>506163</td>\n      <td>183536</td>\n      <td>505978</td>\n      <td>183811</td>\n      <td>2.746600</td>\n      <td>0</td>\n    </tr>\n    <tr>\n      <th>3</th>\n      <td>506163</td>\n      <td>183536</td>\n      <td>505978</td>\n      <td>183811</td>\n      <td>2.746600</td>\n      <td>0</td>\n    </tr>\n    <tr>\n      <th>4</th>\n      <td>506163</td>\n      <td>183536</td>\n      <td>505978</td>\n      <td>183811</td>\n      <td>2.746600</td>\n      <td>0</td>\n    </tr>\n    <tr>\n      <th>...</th>\n      <td>...</td>\n      <td>...</td>\n      <td>...</td>\n      <td>...</td>\n      <td>...</td>\n      <td>...</td>\n    </tr>\n    <tr>\n      <th>9825</th>\n      <td>529464</td>\n      <td>178054</td>\n      <td>529488</td>\n      <td>178111</td>\n      <td>0.559636</td>\n      <td>982</td>\n    </tr>\n    <tr>\n      <th>9826</th>\n      <td>529464</td>\n      <td>178054</td>\n      <td>529488</td>\n      <td>178111</td>\n      <td>0.559636</td>\n      <td>982</td>\n    </tr>\n    <tr>\n      <th>9827</th>\n      <td>529464</td>\n      <td>178054</td>\n      <td>529488</td>\n      <td>178111</td>\n      <td>0.559636</td>\n      <td>982</td>\n    </tr>\n    <tr>\n      <th>9828</th>\n      <td>529464</td>\n      <td>178054</td>\n      <td>529488</td>\n      <td>178111</td>\n      <td>0.559636</td>\n      <td>982</td>\n    </tr>\n    <tr>\n      <th>9829</th>\n      <td>529464</td>\n      <td>178054</td>\n      <td>529488</td>\n      <td>178111</td>\n      <td>0.559636</td>\n      <td>982</td>\n    </tr>\n  </tbody>\n</table>\n<p>9830 rows × 6 columns</p>\n</div>"
     },
     "execution_count": 18,
     "metadata": {},
     "output_type": "execute_result"
    }
   ],
   "source": [
    "df_json"
   ],
   "metadata": {
    "collapsed": false,
    "pycharm": {
     "name": "#%%\n"
    }
   }
  },
  {
   "cell_type": "code",
   "execution_count": 19,
   "outputs": [],
   "source": [
    "df['src_geoeast'] = df_json['geoeast']\n",
    "df['src_geonorth'] = df_json['geonorth']\n",
    "df['src_popeast'] = df_json['popeast']\n",
    "df['src_popnorth'] = df_json['popnorth']\n",
    "df['src_area'] = df_json['area_km2']"
   ],
   "metadata": {
    "collapsed": false,
    "pycharm": {
     "name": "#%%\n"
    }
   }
  },
  {
   "cell_type": "code",
   "execution_count": 20,
   "outputs": [
    {
     "data": {
      "text/plain": "      sourceid  dstid  dow  mean_travel_time  src_geoeast  src_geonorth  \\\n0            0    136    5           2557.68       506163        183536   \n1            0    680    7           1754.80       506163        183536   \n2            0    755    7           2850.00       506163        183536   \n3            0    696    5           1338.51       506163        183536   \n4            0    487    6           1011.56       506163        183536   \n...        ...    ...  ...               ...          ...           ...   \n9825       982     96    1           1639.58       529464        178054   \n9826       982    332    5            554.16       529464        178054   \n9827       982    442    3           2705.68       529464        178054   \n9828       982    355    2           1373.61       529464        178054   \n9829       982    768    2           1601.39       529464        178054   \n\n      src_popeast  src_popnorth  src_area  \n0          505978        183811  2.746600  \n1          505978        183811  2.746600  \n2          505978        183811  2.746600  \n3          505978        183811  2.746600  \n4          505978        183811  2.746600  \n...           ...           ...       ...  \n9825       529488        178111  0.559636  \n9826       529488        178111  0.559636  \n9827       529488        178111  0.559636  \n9828       529488        178111  0.559636  \n9829       529488        178111  0.559636  \n\n[9830 rows x 9 columns]",
      "text/html": "<div>\n<style scoped>\n    .dataframe tbody tr th:only-of-type {\n        vertical-align: middle;\n    }\n\n    .dataframe tbody tr th {\n        vertical-align: top;\n    }\n\n    .dataframe thead th {\n        text-align: right;\n    }\n</style>\n<table border=\"1\" class=\"dataframe\">\n  <thead>\n    <tr style=\"text-align: right;\">\n      <th></th>\n      <th>sourceid</th>\n      <th>dstid</th>\n      <th>dow</th>\n      <th>mean_travel_time</th>\n      <th>src_geoeast</th>\n      <th>src_geonorth</th>\n      <th>src_popeast</th>\n      <th>src_popnorth</th>\n      <th>src_area</th>\n    </tr>\n  </thead>\n  <tbody>\n    <tr>\n      <th>0</th>\n      <td>0</td>\n      <td>136</td>\n      <td>5</td>\n      <td>2557.68</td>\n      <td>506163</td>\n      <td>183536</td>\n      <td>505978</td>\n      <td>183811</td>\n      <td>2.746600</td>\n    </tr>\n    <tr>\n      <th>1</th>\n      <td>0</td>\n      <td>680</td>\n      <td>7</td>\n      <td>1754.80</td>\n      <td>506163</td>\n      <td>183536</td>\n      <td>505978</td>\n      <td>183811</td>\n      <td>2.746600</td>\n    </tr>\n    <tr>\n      <th>2</th>\n      <td>0</td>\n      <td>755</td>\n      <td>7</td>\n      <td>2850.00</td>\n      <td>506163</td>\n      <td>183536</td>\n      <td>505978</td>\n      <td>183811</td>\n      <td>2.746600</td>\n    </tr>\n    <tr>\n      <th>3</th>\n      <td>0</td>\n      <td>696</td>\n      <td>5</td>\n      <td>1338.51</td>\n      <td>506163</td>\n      <td>183536</td>\n      <td>505978</td>\n      <td>183811</td>\n      <td>2.746600</td>\n    </tr>\n    <tr>\n      <th>4</th>\n      <td>0</td>\n      <td>487</td>\n      <td>6</td>\n      <td>1011.56</td>\n      <td>506163</td>\n      <td>183536</td>\n      <td>505978</td>\n      <td>183811</td>\n      <td>2.746600</td>\n    </tr>\n    <tr>\n      <th>...</th>\n      <td>...</td>\n      <td>...</td>\n      <td>...</td>\n      <td>...</td>\n      <td>...</td>\n      <td>...</td>\n      <td>...</td>\n      <td>...</td>\n      <td>...</td>\n    </tr>\n    <tr>\n      <th>9825</th>\n      <td>982</td>\n      <td>96</td>\n      <td>1</td>\n      <td>1639.58</td>\n      <td>529464</td>\n      <td>178054</td>\n      <td>529488</td>\n      <td>178111</td>\n      <td>0.559636</td>\n    </tr>\n    <tr>\n      <th>9826</th>\n      <td>982</td>\n      <td>332</td>\n      <td>5</td>\n      <td>554.16</td>\n      <td>529464</td>\n      <td>178054</td>\n      <td>529488</td>\n      <td>178111</td>\n      <td>0.559636</td>\n    </tr>\n    <tr>\n      <th>9827</th>\n      <td>982</td>\n      <td>442</td>\n      <td>3</td>\n      <td>2705.68</td>\n      <td>529464</td>\n      <td>178054</td>\n      <td>529488</td>\n      <td>178111</td>\n      <td>0.559636</td>\n    </tr>\n    <tr>\n      <th>9828</th>\n      <td>982</td>\n      <td>355</td>\n      <td>2</td>\n      <td>1373.61</td>\n      <td>529464</td>\n      <td>178054</td>\n      <td>529488</td>\n      <td>178111</td>\n      <td>0.559636</td>\n    </tr>\n    <tr>\n      <th>9829</th>\n      <td>982</td>\n      <td>768</td>\n      <td>2</td>\n      <td>1601.39</td>\n      <td>529464</td>\n      <td>178054</td>\n      <td>529488</td>\n      <td>178111</td>\n      <td>0.559636</td>\n    </tr>\n  </tbody>\n</table>\n<p>9830 rows × 9 columns</p>\n</div>"
     },
     "execution_count": 20,
     "metadata": {},
     "output_type": "execute_result"
    }
   ],
   "source": [
    "df"
   ],
   "metadata": {
    "collapsed": false,
    "pycharm": {
     "name": "#%%\n"
    }
   }
  },
  {
   "cell_type": "code",
   "execution_count": 22,
   "outputs": [],
   "source": [
    "df.sort_values(by='dstid', ascending=True, ignore_index=True, inplace=True)"
   ],
   "metadata": {
    "collapsed": false,
    "pycharm": {
     "name": "#%%\n"
    }
   }
  },
  {
   "cell_type": "code",
   "execution_count": 23,
   "outputs": [
    {
     "data": {
      "text/plain": "      sourceid  dstid  dow  mean_travel_time  src_geoeast  src_geonorth  \\\n0          693      0    5           1752.22       517234        189119   \n1          498      0    5           1042.44       515222        177901   \n2          711      0    5           1130.99       509610        190710   \n3          199      0    6           1309.26       513802        189943   \n4          371      0    6           1570.25       521788        188099   \n...        ...    ...  ...               ...          ...           ...   \n9825       896    982    6           2830.00       540140        190676   \n9826       534    982    4           2416.57       512816        184720   \n9827        49    982    1           2375.59       520326        193012   \n9828       665    982    5           1698.64       522111        180476   \n9829       350    982    2           1212.50       528085        172616   \n\n      src_popeast  src_popnorth  src_area  \n0          517348        189179  1.158250  \n1          515630        177142  4.866730  \n2          509784        190810  2.728040  \n3          514106        189603  2.123810  \n4          521897        188299  2.193460  \n...           ...           ...       ...  \n9825       540121        190679  1.491520  \n9826       513067        184803  1.728290  \n9827       520294        192969  1.794600  \n9828       522197        180405  0.496497  \n9829       528107        172608  0.491699  \n\n[9830 rows x 9 columns]",
      "text/html": "<div>\n<style scoped>\n    .dataframe tbody tr th:only-of-type {\n        vertical-align: middle;\n    }\n\n    .dataframe tbody tr th {\n        vertical-align: top;\n    }\n\n    .dataframe thead th {\n        text-align: right;\n    }\n</style>\n<table border=\"1\" class=\"dataframe\">\n  <thead>\n    <tr style=\"text-align: right;\">\n      <th></th>\n      <th>sourceid</th>\n      <th>dstid</th>\n      <th>dow</th>\n      <th>mean_travel_time</th>\n      <th>src_geoeast</th>\n      <th>src_geonorth</th>\n      <th>src_popeast</th>\n      <th>src_popnorth</th>\n      <th>src_area</th>\n    </tr>\n  </thead>\n  <tbody>\n    <tr>\n      <th>0</th>\n      <td>693</td>\n      <td>0</td>\n      <td>5</td>\n      <td>1752.22</td>\n      <td>517234</td>\n      <td>189119</td>\n      <td>517348</td>\n      <td>189179</td>\n      <td>1.158250</td>\n    </tr>\n    <tr>\n      <th>1</th>\n      <td>498</td>\n      <td>0</td>\n      <td>5</td>\n      <td>1042.44</td>\n      <td>515222</td>\n      <td>177901</td>\n      <td>515630</td>\n      <td>177142</td>\n      <td>4.866730</td>\n    </tr>\n    <tr>\n      <th>2</th>\n      <td>711</td>\n      <td>0</td>\n      <td>5</td>\n      <td>1130.99</td>\n      <td>509610</td>\n      <td>190710</td>\n      <td>509784</td>\n      <td>190810</td>\n      <td>2.728040</td>\n    </tr>\n    <tr>\n      <th>3</th>\n      <td>199</td>\n      <td>0</td>\n      <td>6</td>\n      <td>1309.26</td>\n      <td>513802</td>\n      <td>189943</td>\n      <td>514106</td>\n      <td>189603</td>\n      <td>2.123810</td>\n    </tr>\n    <tr>\n      <th>4</th>\n      <td>371</td>\n      <td>0</td>\n      <td>6</td>\n      <td>1570.25</td>\n      <td>521788</td>\n      <td>188099</td>\n      <td>521897</td>\n      <td>188299</td>\n      <td>2.193460</td>\n    </tr>\n    <tr>\n      <th>...</th>\n      <td>...</td>\n      <td>...</td>\n      <td>...</td>\n      <td>...</td>\n      <td>...</td>\n      <td>...</td>\n      <td>...</td>\n      <td>...</td>\n      <td>...</td>\n    </tr>\n    <tr>\n      <th>9825</th>\n      <td>896</td>\n      <td>982</td>\n      <td>6</td>\n      <td>2830.00</td>\n      <td>540140</td>\n      <td>190676</td>\n      <td>540121</td>\n      <td>190679</td>\n      <td>1.491520</td>\n    </tr>\n    <tr>\n      <th>9826</th>\n      <td>534</td>\n      <td>982</td>\n      <td>4</td>\n      <td>2416.57</td>\n      <td>512816</td>\n      <td>184720</td>\n      <td>513067</td>\n      <td>184803</td>\n      <td>1.728290</td>\n    </tr>\n    <tr>\n      <th>9827</th>\n      <td>49</td>\n      <td>982</td>\n      <td>1</td>\n      <td>2375.59</td>\n      <td>520326</td>\n      <td>193012</td>\n      <td>520294</td>\n      <td>192969</td>\n      <td>1.794600</td>\n    </tr>\n    <tr>\n      <th>9828</th>\n      <td>665</td>\n      <td>982</td>\n      <td>5</td>\n      <td>1698.64</td>\n      <td>522111</td>\n      <td>180476</td>\n      <td>522197</td>\n      <td>180405</td>\n      <td>0.496497</td>\n    </tr>\n    <tr>\n      <th>9829</th>\n      <td>350</td>\n      <td>982</td>\n      <td>2</td>\n      <td>1212.50</td>\n      <td>528085</td>\n      <td>172616</td>\n      <td>528107</td>\n      <td>172608</td>\n      <td>0.491699</td>\n    </tr>\n  </tbody>\n</table>\n<p>9830 rows × 9 columns</p>\n</div>"
     },
     "execution_count": 23,
     "metadata": {},
     "output_type": "execute_result"
    }
   ],
   "source": [
    "df"
   ],
   "metadata": {
    "collapsed": false,
    "pycharm": {
     "name": "#%%\n"
    }
   }
  },
  {
   "cell_type": "code",
   "execution_count": 25,
   "outputs": [
    {
     "name": "stdout",
     "output_type": "stream",
     "text": [
      "<class 'pandas.core.frame.DataFrame'>\n",
      "RangeIndex: 9830 entries, 0 to 9829\n",
      "Data columns (total 6 columns):\n",
      " #   Column       Non-Null Count  Dtype  \n",
      "---  ------       --------------  -----  \n",
      " 0   geoeast      9830 non-null   int64  \n",
      " 1   geonorth     9830 non-null   int64  \n",
      " 2   popeast      9830 non-null   int64  \n",
      " 3   popnorth     9830 non-null   int64  \n",
      " 4   area_km2     9830 non-null   float64\n",
      " 5   MOVEMENT_ID  9830 non-null   int32  \n",
      "dtypes: float64(1), int32(1), int64(4)\n",
      "memory usage: 422.5 KB\n"
     ]
    }
   ],
   "source": [
    "df_json[]"
   ],
   "metadata": {
    "collapsed": false,
    "pycharm": {
     "name": "#%%\n"
    }
   }
  },
  {
   "cell_type": "code",
   "execution_count": null,
   "outputs": [],
   "source": [],
   "metadata": {
    "collapsed": false,
    "pycharm": {
     "name": "#%%\n"
    }
   }
  }
 ],
 "metadata": {
  "kernelspec": {
   "display_name": "Python 3",
   "language": "python",
   "name": "python3"
  },
  "language_info": {
   "codemirror_mode": {
    "name": "ipython",
    "version": 2
   },
   "file_extension": ".py",
   "mimetype": "text/x-python",
   "name": "python",
   "nbconvert_exporter": "python",
   "pygments_lexer": "ipython2",
   "version": "2.7.6"
  }
 },
 "nbformat": 4,
 "nbformat_minor": 0
}