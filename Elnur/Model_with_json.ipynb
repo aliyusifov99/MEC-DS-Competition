{
 "cells": [
  {
   "cell_type": "code",
   "execution_count": 5,
   "metadata": {
    "collapsed": true
   },
   "outputs": [],
   "source": [
    "import pandas as pd\n",
    "import seaborn as sns\n",
    "import geopandas as gpd"
   ]
  },
  {
   "cell_type": "code",
   "execution_count": 6,
   "outputs": [],
   "source": [
    "df_json = pd.read_json('london.json')\n",
    "df_geo_json = gpd.read_file('london.json')"
   ],
   "metadata": {
    "collapsed": false,
    "pycharm": {
     "name": "#%%\n"
    }
   }
  },
  {
   "cell_type": "code",
   "execution_count": 7,
   "outputs": [
    {
     "data": {
      "text/plain": "     msoa_code        msoa_name la_code      la_name  geoeast  geonorth  \\\n0    E02000508   Hillingdon 015    00AS   Hillingdon   506163    183536   \n1    E02000716       Newham 003    00BB       Newham   541978    186009   \n2    E02000747       Newham 034    00BB       Newham   539578    181317   \n3    E02000748       Newham 035    00BB       Newham   542500    181152   \n4    E02000749       Newham 036    00BB       Newham   541047    181103   \n..         ...              ...     ...          ...      ...       ...   \n978  E02000974  Westminster 015    00BK  Westminster   527028    181254   \n979  E02000975  Westminster 016    00BK  Westminster   526396    181129   \n980  E02000980  Westminster 021    00BK  Westminster   529921    178656   \n981  E02000981  Westminster 022    00BK  Westminster   529123    178488   \n982  E02000983  Westminster 024    00BK  Westminster   529464    178054   \n\n     popeast  popnorth  area_km2 MOVEMENT_ID             DISPLAY_NAME  \\\n0     505978    183811  2.746600           0     Hillingdon, 00AS (0)   \n1     541870    185568  1.565170           1         Newham, 00BB (1)   \n2     539891    181438  2.082410           2         Newham, 00BB (2)   \n3     542439    181339  1.331750           3         Newham, 00BB (3)   \n4     540847    181294  1.419020           4         Newham, 00BB (4)   \n..       ...       ...       ...         ...                      ...   \n978   527172    181179  0.689337         978  Westminster, 00BK (978)   \n979   526375    181042  0.484638         979  Westminster, 00BK (979)   \n980   529758    178698  0.539208         980  Westminster, 00BK (980)   \n981   529140    178401  0.363777         981  Westminster, 00BK (981)   \n982   529488    178111  0.559636         982  Westminster, 00BK (982)   \n\n                                              geometry  \n0    MULTIPOLYGON (((-0.47794 51.55485, -0.47665 51...  \n1    MULTIPOLYGON (((0.05255 51.56171, 0.05310 51.5...  \n2    MULTIPOLYGON (((0.01001 51.52181, 0.01003 51.5...  \n3    MULTIPOLYGON (((0.05392 51.51611, 0.05174 51.5...  \n4    MULTIPOLYGON (((0.03241 51.51704, 0.03179 51.5...  \n..                                                 ...  \n978  MULTIPOLYGON (((-0.17019 51.51994, -0.16019 51...  \n979  MULTIPOLYGON (((-0.17867 51.52008, -0.17898 51...  \n980  MULTIPOLYGON (((-0.12279 51.49453, -0.12305 51...  \n981  MULTIPOLYGON (((-0.14126 51.49455, -0.14080 51...  \n982  MULTIPOLYGON (((-0.12710 51.48764, -0.12957 51...  \n\n[983 rows x 12 columns]",
      "text/html": "<div>\n<style scoped>\n    .dataframe tbody tr th:only-of-type {\n        vertical-align: middle;\n    }\n\n    .dataframe tbody tr th {\n        vertical-align: top;\n    }\n\n    .dataframe thead th {\n        text-align: right;\n    }\n</style>\n<table border=\"1\" class=\"dataframe\">\n  <thead>\n    <tr style=\"text-align: right;\">\n      <th></th>\n      <th>msoa_code</th>\n      <th>msoa_name</th>\n      <th>la_code</th>\n      <th>la_name</th>\n      <th>geoeast</th>\n      <th>geonorth</th>\n      <th>popeast</th>\n      <th>popnorth</th>\n      <th>area_km2</th>\n      <th>MOVEMENT_ID</th>\n      <th>DISPLAY_NAME</th>\n      <th>geometry</th>\n    </tr>\n  </thead>\n  <tbody>\n    <tr>\n      <th>0</th>\n      <td>E02000508</td>\n      <td>Hillingdon 015</td>\n      <td>00AS</td>\n      <td>Hillingdon</td>\n      <td>506163</td>\n      <td>183536</td>\n      <td>505978</td>\n      <td>183811</td>\n      <td>2.746600</td>\n      <td>0</td>\n      <td>Hillingdon, 00AS (0)</td>\n      <td>MULTIPOLYGON (((-0.47794 51.55485, -0.47665 51...</td>\n    </tr>\n    <tr>\n      <th>1</th>\n      <td>E02000716</td>\n      <td>Newham 003</td>\n      <td>00BB</td>\n      <td>Newham</td>\n      <td>541978</td>\n      <td>186009</td>\n      <td>541870</td>\n      <td>185568</td>\n      <td>1.565170</td>\n      <td>1</td>\n      <td>Newham, 00BB (1)</td>\n      <td>MULTIPOLYGON (((0.05255 51.56171, 0.05310 51.5...</td>\n    </tr>\n    <tr>\n      <th>2</th>\n      <td>E02000747</td>\n      <td>Newham 034</td>\n      <td>00BB</td>\n      <td>Newham</td>\n      <td>539578</td>\n      <td>181317</td>\n      <td>539891</td>\n      <td>181438</td>\n      <td>2.082410</td>\n      <td>2</td>\n      <td>Newham, 00BB (2)</td>\n      <td>MULTIPOLYGON (((0.01001 51.52181, 0.01003 51.5...</td>\n    </tr>\n    <tr>\n      <th>3</th>\n      <td>E02000748</td>\n      <td>Newham 035</td>\n      <td>00BB</td>\n      <td>Newham</td>\n      <td>542500</td>\n      <td>181152</td>\n      <td>542439</td>\n      <td>181339</td>\n      <td>1.331750</td>\n      <td>3</td>\n      <td>Newham, 00BB (3)</td>\n      <td>MULTIPOLYGON (((0.05392 51.51611, 0.05174 51.5...</td>\n    </tr>\n    <tr>\n      <th>4</th>\n      <td>E02000749</td>\n      <td>Newham 036</td>\n      <td>00BB</td>\n      <td>Newham</td>\n      <td>541047</td>\n      <td>181103</td>\n      <td>540847</td>\n      <td>181294</td>\n      <td>1.419020</td>\n      <td>4</td>\n      <td>Newham, 00BB (4)</td>\n      <td>MULTIPOLYGON (((0.03241 51.51704, 0.03179 51.5...</td>\n    </tr>\n    <tr>\n      <th>...</th>\n      <td>...</td>\n      <td>...</td>\n      <td>...</td>\n      <td>...</td>\n      <td>...</td>\n      <td>...</td>\n      <td>...</td>\n      <td>...</td>\n      <td>...</td>\n      <td>...</td>\n      <td>...</td>\n      <td>...</td>\n    </tr>\n    <tr>\n      <th>978</th>\n      <td>E02000974</td>\n      <td>Westminster 015</td>\n      <td>00BK</td>\n      <td>Westminster</td>\n      <td>527028</td>\n      <td>181254</td>\n      <td>527172</td>\n      <td>181179</td>\n      <td>0.689337</td>\n      <td>978</td>\n      <td>Westminster, 00BK (978)</td>\n      <td>MULTIPOLYGON (((-0.17019 51.51994, -0.16019 51...</td>\n    </tr>\n    <tr>\n      <th>979</th>\n      <td>E02000975</td>\n      <td>Westminster 016</td>\n      <td>00BK</td>\n      <td>Westminster</td>\n      <td>526396</td>\n      <td>181129</td>\n      <td>526375</td>\n      <td>181042</td>\n      <td>0.484638</td>\n      <td>979</td>\n      <td>Westminster, 00BK (979)</td>\n      <td>MULTIPOLYGON (((-0.17867 51.52008, -0.17898 51...</td>\n    </tr>\n    <tr>\n      <th>980</th>\n      <td>E02000980</td>\n      <td>Westminster 021</td>\n      <td>00BK</td>\n      <td>Westminster</td>\n      <td>529921</td>\n      <td>178656</td>\n      <td>529758</td>\n      <td>178698</td>\n      <td>0.539208</td>\n      <td>980</td>\n      <td>Westminster, 00BK (980)</td>\n      <td>MULTIPOLYGON (((-0.12279 51.49453, -0.12305 51...</td>\n    </tr>\n    <tr>\n      <th>981</th>\n      <td>E02000981</td>\n      <td>Westminster 022</td>\n      <td>00BK</td>\n      <td>Westminster</td>\n      <td>529123</td>\n      <td>178488</td>\n      <td>529140</td>\n      <td>178401</td>\n      <td>0.363777</td>\n      <td>981</td>\n      <td>Westminster, 00BK (981)</td>\n      <td>MULTIPOLYGON (((-0.14126 51.49455, -0.14080 51...</td>\n    </tr>\n    <tr>\n      <th>982</th>\n      <td>E02000983</td>\n      <td>Westminster 024</td>\n      <td>00BK</td>\n      <td>Westminster</td>\n      <td>529464</td>\n      <td>178054</td>\n      <td>529488</td>\n      <td>178111</td>\n      <td>0.559636</td>\n      <td>982</td>\n      <td>Westminster, 00BK (982)</td>\n      <td>MULTIPOLYGON (((-0.12710 51.48764, -0.12957 51...</td>\n    </tr>\n  </tbody>\n</table>\n<p>983 rows × 12 columns</p>\n</div>"
     },
     "execution_count": 7,
     "metadata": {},
     "output_type": "execute_result"
    }
   ],
   "source": [
    "df_geo_json"
   ],
   "metadata": {
    "collapsed": false,
    "pycharm": {
     "name": "#%%\n"
    }
   }
  },
  {
   "cell_type": "code",
   "execution_count": null,
   "outputs": [],
   "source": [],
   "metadata": {
    "collapsed": false,
    "pycharm": {
     "name": "#%%\n"
    }
   }
  }
 ],
 "metadata": {
  "kernelspec": {
   "display_name": "Python 3",
   "language": "python",
   "name": "python3"
  },
  "language_info": {
   "codemirror_mode": {
    "name": "ipython",
    "version": 2
   },
   "file_extension": ".py",
   "mimetype": "text/x-python",
   "name": "python",
   "nbconvert_exporter": "python",
   "pygments_lexer": "ipython2",
   "version": "2.7.6"
  }
 },
 "nbformat": 4,
 "nbformat_minor": 0
}