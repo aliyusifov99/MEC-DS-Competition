{
 "cells": [
  {
   "cell_type": "code",
   "execution_count": 39,
   "metadata": {
    "collapsed": true
   },
   "outputs": [],
   "source": [
    "import pandas as pd\n",
    "import seaborn as sns\n",
    "import geopandas as gpd\n",
    "import numpy as np"
   ]
  },
  {
   "cell_type": "code",
   "execution_count": 40,
   "outputs": [],
   "source": [
    "df_geo_json = gpd.read_file('london.json')\n",
    "df=pd.read_csv('training_WeeklyAggregate.csv')"
   ],
   "metadata": {
    "collapsed": false,
    "pycharm": {
     "name": "#%%\n"
    }
   }
  },
  {
   "cell_type": "code",
   "execution_count": 41,
   "outputs": [
    {
     "data": {
      "text/plain": "     msoa_code        msoa_name la_code      la_name  geoeast  geonorth  \\\n0    E02000508   Hillingdon 015    00AS   Hillingdon   506163    183536   \n1    E02000716       Newham 003    00BB       Newham   541978    186009   \n2    E02000747       Newham 034    00BB       Newham   539578    181317   \n3    E02000748       Newham 035    00BB       Newham   542500    181152   \n4    E02000749       Newham 036    00BB       Newham   541047    181103   \n..         ...              ...     ...          ...      ...       ...   \n978  E02000974  Westminster 015    00BK  Westminster   527028    181254   \n979  E02000975  Westminster 016    00BK  Westminster   526396    181129   \n980  E02000980  Westminster 021    00BK  Westminster   529921    178656   \n981  E02000981  Westminster 022    00BK  Westminster   529123    178488   \n982  E02000983  Westminster 024    00BK  Westminster   529464    178054   \n\n     popeast  popnorth  area_km2 MOVEMENT_ID             DISPLAY_NAME  \\\n0     505978    183811  2.746600           0     Hillingdon, 00AS (0)   \n1     541870    185568  1.565170           1         Newham, 00BB (1)   \n2     539891    181438  2.082410           2         Newham, 00BB (2)   \n3     542439    181339  1.331750           3         Newham, 00BB (3)   \n4     540847    181294  1.419020           4         Newham, 00BB (4)   \n..       ...       ...       ...         ...                      ...   \n978   527172    181179  0.689337         978  Westminster, 00BK (978)   \n979   526375    181042  0.484638         979  Westminster, 00BK (979)   \n980   529758    178698  0.539208         980  Westminster, 00BK (980)   \n981   529140    178401  0.363777         981  Westminster, 00BK (981)   \n982   529488    178111  0.559636         982  Westminster, 00BK (982)   \n\n                                              geometry  \n0    MULTIPOLYGON (((-0.47794 51.55485, -0.47665 51...  \n1    MULTIPOLYGON (((0.05255 51.56171, 0.05310 51.5...  \n2    MULTIPOLYGON (((0.01001 51.52181, 0.01003 51.5...  \n3    MULTIPOLYGON (((0.05392 51.51611, 0.05174 51.5...  \n4    MULTIPOLYGON (((0.03241 51.51704, 0.03179 51.5...  \n..                                                 ...  \n978  MULTIPOLYGON (((-0.17019 51.51994, -0.16019 51...  \n979  MULTIPOLYGON (((-0.17867 51.52008, -0.17898 51...  \n980  MULTIPOLYGON (((-0.12279 51.49453, -0.12305 51...  \n981  MULTIPOLYGON (((-0.14126 51.49455, -0.14080 51...  \n982  MULTIPOLYGON (((-0.12710 51.48764, -0.12957 51...  \n\n[983 rows x 12 columns]",
      "text/html": "<div>\n<style scoped>\n    .dataframe tbody tr th:only-of-type {\n        vertical-align: middle;\n    }\n\n    .dataframe tbody tr th {\n        vertical-align: top;\n    }\n\n    .dataframe thead th {\n        text-align: right;\n    }\n</style>\n<table border=\"1\" class=\"dataframe\">\n  <thead>\n    <tr style=\"text-align: right;\">\n      <th></th>\n      <th>msoa_code</th>\n      <th>msoa_name</th>\n      <th>la_code</th>\n      <th>la_name</th>\n      <th>geoeast</th>\n      <th>geonorth</th>\n      <th>popeast</th>\n      <th>popnorth</th>\n      <th>area_km2</th>\n      <th>MOVEMENT_ID</th>\n      <th>DISPLAY_NAME</th>\n      <th>geometry</th>\n    </tr>\n  </thead>\n  <tbody>\n    <tr>\n      <th>0</th>\n      <td>E02000508</td>\n      <td>Hillingdon 015</td>\n      <td>00AS</td>\n      <td>Hillingdon</td>\n      <td>506163</td>\n      <td>183536</td>\n      <td>505978</td>\n      <td>183811</td>\n      <td>2.746600</td>\n      <td>0</td>\n      <td>Hillingdon, 00AS (0)</td>\n      <td>MULTIPOLYGON (((-0.47794 51.55485, -0.47665 51...</td>\n    </tr>\n    <tr>\n      <th>1</th>\n      <td>E02000716</td>\n      <td>Newham 003</td>\n      <td>00BB</td>\n      <td>Newham</td>\n      <td>541978</td>\n      <td>186009</td>\n      <td>541870</td>\n      <td>185568</td>\n      <td>1.565170</td>\n      <td>1</td>\n      <td>Newham, 00BB (1)</td>\n      <td>MULTIPOLYGON (((0.05255 51.56171, 0.05310 51.5...</td>\n    </tr>\n    <tr>\n      <th>2</th>\n      <td>E02000747</td>\n      <td>Newham 034</td>\n      <td>00BB</td>\n      <td>Newham</td>\n      <td>539578</td>\n      <td>181317</td>\n      <td>539891</td>\n      <td>181438</td>\n      <td>2.082410</td>\n      <td>2</td>\n      <td>Newham, 00BB (2)</td>\n      <td>MULTIPOLYGON (((0.01001 51.52181, 0.01003 51.5...</td>\n    </tr>\n    <tr>\n      <th>3</th>\n      <td>E02000748</td>\n      <td>Newham 035</td>\n      <td>00BB</td>\n      <td>Newham</td>\n      <td>542500</td>\n      <td>181152</td>\n      <td>542439</td>\n      <td>181339</td>\n      <td>1.331750</td>\n      <td>3</td>\n      <td>Newham, 00BB (3)</td>\n      <td>MULTIPOLYGON (((0.05392 51.51611, 0.05174 51.5...</td>\n    </tr>\n    <tr>\n      <th>4</th>\n      <td>E02000749</td>\n      <td>Newham 036</td>\n      <td>00BB</td>\n      <td>Newham</td>\n      <td>541047</td>\n      <td>181103</td>\n      <td>540847</td>\n      <td>181294</td>\n      <td>1.419020</td>\n      <td>4</td>\n      <td>Newham, 00BB (4)</td>\n      <td>MULTIPOLYGON (((0.03241 51.51704, 0.03179 51.5...</td>\n    </tr>\n    <tr>\n      <th>...</th>\n      <td>...</td>\n      <td>...</td>\n      <td>...</td>\n      <td>...</td>\n      <td>...</td>\n      <td>...</td>\n      <td>...</td>\n      <td>...</td>\n      <td>...</td>\n      <td>...</td>\n      <td>...</td>\n      <td>...</td>\n    </tr>\n    <tr>\n      <th>978</th>\n      <td>E02000974</td>\n      <td>Westminster 015</td>\n      <td>00BK</td>\n      <td>Westminster</td>\n      <td>527028</td>\n      <td>181254</td>\n      <td>527172</td>\n      <td>181179</td>\n      <td>0.689337</td>\n      <td>978</td>\n      <td>Westminster, 00BK (978)</td>\n      <td>MULTIPOLYGON (((-0.17019 51.51994, -0.16019 51...</td>\n    </tr>\n    <tr>\n      <th>979</th>\n      <td>E02000975</td>\n      <td>Westminster 016</td>\n      <td>00BK</td>\n      <td>Westminster</td>\n      <td>526396</td>\n      <td>181129</td>\n      <td>526375</td>\n      <td>181042</td>\n      <td>0.484638</td>\n      <td>979</td>\n      <td>Westminster, 00BK (979)</td>\n      <td>MULTIPOLYGON (((-0.17867 51.52008, -0.17898 51...</td>\n    </tr>\n    <tr>\n      <th>980</th>\n      <td>E02000980</td>\n      <td>Westminster 021</td>\n      <td>00BK</td>\n      <td>Westminster</td>\n      <td>529921</td>\n      <td>178656</td>\n      <td>529758</td>\n      <td>178698</td>\n      <td>0.539208</td>\n      <td>980</td>\n      <td>Westminster, 00BK (980)</td>\n      <td>MULTIPOLYGON (((-0.12279 51.49453, -0.12305 51...</td>\n    </tr>\n    <tr>\n      <th>981</th>\n      <td>E02000981</td>\n      <td>Westminster 022</td>\n      <td>00BK</td>\n      <td>Westminster</td>\n      <td>529123</td>\n      <td>178488</td>\n      <td>529140</td>\n      <td>178401</td>\n      <td>0.363777</td>\n      <td>981</td>\n      <td>Westminster, 00BK (981)</td>\n      <td>MULTIPOLYGON (((-0.14126 51.49455, -0.14080 51...</td>\n    </tr>\n    <tr>\n      <th>982</th>\n      <td>E02000983</td>\n      <td>Westminster 024</td>\n      <td>00BK</td>\n      <td>Westminster</td>\n      <td>529464</td>\n      <td>178054</td>\n      <td>529488</td>\n      <td>178111</td>\n      <td>0.559636</td>\n      <td>982</td>\n      <td>Westminster, 00BK (982)</td>\n      <td>MULTIPOLYGON (((-0.12710 51.48764, -0.12957 51...</td>\n    </tr>\n  </tbody>\n</table>\n<p>983 rows × 12 columns</p>\n</div>"
     },
     "execution_count": 41,
     "metadata": {},
     "output_type": "execute_result"
    }
   ],
   "source": [
    "df_geo_json"
   ],
   "metadata": {
    "collapsed": false,
    "pycharm": {
     "name": "#%%\n"
    }
   }
  },
  {
   "cell_type": "code",
   "execution_count": 42,
   "outputs": [
    {
     "data": {
      "text/plain": "      sourceid  dstid  dow  mean_travel_time\n0           10    241    3           2334.43\n1           10    612    5           1529.83\n2           10    905    4           1390.04\n3           10    407    7            157.91\n4           10    603    4           1781.67\n...        ...    ...  ...               ...\n9825       657    207    6           1742.70\n9826       657    359    2           2693.21\n9827       657    656    7            298.18\n9828       657    540    7            312.27\n9829       657    560    1           1345.90\n\n[9830 rows x 4 columns]",
      "text/html": "<div>\n<style scoped>\n    .dataframe tbody tr th:only-of-type {\n        vertical-align: middle;\n    }\n\n    .dataframe tbody tr th {\n        vertical-align: top;\n    }\n\n    .dataframe thead th {\n        text-align: right;\n    }\n</style>\n<table border=\"1\" class=\"dataframe\">\n  <thead>\n    <tr style=\"text-align: right;\">\n      <th></th>\n      <th>sourceid</th>\n      <th>dstid</th>\n      <th>dow</th>\n      <th>mean_travel_time</th>\n    </tr>\n  </thead>\n  <tbody>\n    <tr>\n      <th>0</th>\n      <td>10</td>\n      <td>241</td>\n      <td>3</td>\n      <td>2334.43</td>\n    </tr>\n    <tr>\n      <th>1</th>\n      <td>10</td>\n      <td>612</td>\n      <td>5</td>\n      <td>1529.83</td>\n    </tr>\n    <tr>\n      <th>2</th>\n      <td>10</td>\n      <td>905</td>\n      <td>4</td>\n      <td>1390.04</td>\n    </tr>\n    <tr>\n      <th>3</th>\n      <td>10</td>\n      <td>407</td>\n      <td>7</td>\n      <td>157.91</td>\n    </tr>\n    <tr>\n      <th>4</th>\n      <td>10</td>\n      <td>603</td>\n      <td>4</td>\n      <td>1781.67</td>\n    </tr>\n    <tr>\n      <th>...</th>\n      <td>...</td>\n      <td>...</td>\n      <td>...</td>\n      <td>...</td>\n    </tr>\n    <tr>\n      <th>9825</th>\n      <td>657</td>\n      <td>207</td>\n      <td>6</td>\n      <td>1742.70</td>\n    </tr>\n    <tr>\n      <th>9826</th>\n      <td>657</td>\n      <td>359</td>\n      <td>2</td>\n      <td>2693.21</td>\n    </tr>\n    <tr>\n      <th>9827</th>\n      <td>657</td>\n      <td>656</td>\n      <td>7</td>\n      <td>298.18</td>\n    </tr>\n    <tr>\n      <th>9828</th>\n      <td>657</td>\n      <td>540</td>\n      <td>7</td>\n      <td>312.27</td>\n    </tr>\n    <tr>\n      <th>9829</th>\n      <td>657</td>\n      <td>560</td>\n      <td>1</td>\n      <td>1345.90</td>\n    </tr>\n  </tbody>\n</table>\n<p>9830 rows × 4 columns</p>\n</div>"
     },
     "execution_count": 42,
     "metadata": {},
     "output_type": "execute_result"
    }
   ],
   "source": [
    "df"
   ],
   "metadata": {
    "collapsed": false,
    "pycharm": {
     "name": "#%%\n"
    }
   }
  },
  {
   "cell_type": "code",
   "execution_count": 43,
   "outputs": [],
   "source": [
    "df_extract_geo_json=df_geo_json[['geoeast', 'geonorth',  'popeast', 'popnorth','MOVEMENT_ID']]"
   ],
   "metadata": {
    "collapsed": false,
    "pycharm": {
     "name": "#%%\n"
    }
   }
  },
  {
   "cell_type": "code",
   "execution_count": 44,
   "outputs": [
    {
     "data": {
      "text/plain": "     geoeast  geonorth  popeast  popnorth MOVEMENT_ID\n0     506163    183536   505978    183811           0\n1     541978    186009   541870    185568           1\n2     539578    181317   539891    181438           2\n3     542500    181152   542439    181339           3\n4     541047    181103   540847    181294           4\n..       ...       ...      ...       ...         ...\n978   527028    181254   527172    181179         978\n979   526396    181129   526375    181042         979\n980   529921    178656   529758    178698         980\n981   529123    178488   529140    178401         981\n982   529464    178054   529488    178111         982\n\n[983 rows x 5 columns]",
      "text/html": "<div>\n<style scoped>\n    .dataframe tbody tr th:only-of-type {\n        vertical-align: middle;\n    }\n\n    .dataframe tbody tr th {\n        vertical-align: top;\n    }\n\n    .dataframe thead th {\n        text-align: right;\n    }\n</style>\n<table border=\"1\" class=\"dataframe\">\n  <thead>\n    <tr style=\"text-align: right;\">\n      <th></th>\n      <th>geoeast</th>\n      <th>geonorth</th>\n      <th>popeast</th>\n      <th>popnorth</th>\n      <th>MOVEMENT_ID</th>\n    </tr>\n  </thead>\n  <tbody>\n    <tr>\n      <th>0</th>\n      <td>506163</td>\n      <td>183536</td>\n      <td>505978</td>\n      <td>183811</td>\n      <td>0</td>\n    </tr>\n    <tr>\n      <th>1</th>\n      <td>541978</td>\n      <td>186009</td>\n      <td>541870</td>\n      <td>185568</td>\n      <td>1</td>\n    </tr>\n    <tr>\n      <th>2</th>\n      <td>539578</td>\n      <td>181317</td>\n      <td>539891</td>\n      <td>181438</td>\n      <td>2</td>\n    </tr>\n    <tr>\n      <th>3</th>\n      <td>542500</td>\n      <td>181152</td>\n      <td>542439</td>\n      <td>181339</td>\n      <td>3</td>\n    </tr>\n    <tr>\n      <th>4</th>\n      <td>541047</td>\n      <td>181103</td>\n      <td>540847</td>\n      <td>181294</td>\n      <td>4</td>\n    </tr>\n    <tr>\n      <th>...</th>\n      <td>...</td>\n      <td>...</td>\n      <td>...</td>\n      <td>...</td>\n      <td>...</td>\n    </tr>\n    <tr>\n      <th>978</th>\n      <td>527028</td>\n      <td>181254</td>\n      <td>527172</td>\n      <td>181179</td>\n      <td>978</td>\n    </tr>\n    <tr>\n      <th>979</th>\n      <td>526396</td>\n      <td>181129</td>\n      <td>526375</td>\n      <td>181042</td>\n      <td>979</td>\n    </tr>\n    <tr>\n      <th>980</th>\n      <td>529921</td>\n      <td>178656</td>\n      <td>529758</td>\n      <td>178698</td>\n      <td>980</td>\n    </tr>\n    <tr>\n      <th>981</th>\n      <td>529123</td>\n      <td>178488</td>\n      <td>529140</td>\n      <td>178401</td>\n      <td>981</td>\n    </tr>\n    <tr>\n      <th>982</th>\n      <td>529464</td>\n      <td>178054</td>\n      <td>529488</td>\n      <td>178111</td>\n      <td>982</td>\n    </tr>\n  </tbody>\n</table>\n<p>983 rows × 5 columns</p>\n</div>"
     },
     "execution_count": 44,
     "metadata": {},
     "output_type": "execute_result"
    }
   ],
   "source": [
    "df_extract_geo_json"
   ],
   "metadata": {
    "collapsed": false,
    "pycharm": {
     "name": "#%%\n"
    }
   }
  },
  {
   "cell_type": "code",
   "execution_count": 45,
   "outputs": [],
   "source": [
    "result=df.join(df_extract_geo_json, on='sourceid')"
   ],
   "metadata": {
    "collapsed": false,
    "pycharm": {
     "name": "#%%\n"
    }
   }
  },
  {
   "cell_type": "code",
   "execution_count": 46,
   "outputs": [
    {
     "data": {
      "text/plain": "      sourceid  dstid  dow  mean_travel_time  geoeast  geonorth  popeast  \\\n0           10    241    3           2334.43   542413    182380   542450   \n1           10    612    5           1529.83   542413    182380   542450   \n2           10    905    4           1390.04   542413    182380   542450   \n3           10    407    7            157.91   542413    182380   542450   \n4           10    603    4           1781.67   542413    182380   542450   \n...        ...    ...  ...               ...      ...       ...      ...   \n9825       657    207    6           1742.70   509284    182666   509368   \n9826       657    359    2           2693.21   509284    182666   509368   \n9827       657    656    7            298.18   509284    182666   509368   \n9828       657    540    7            312.27   509284    182666   509368   \n9829       657    560    1           1345.90   509284    182666   509368   \n\n      popnorth MOVEMENT_ID  \n0       182415          10  \n1       182415          10  \n2       182415          10  \n3       182415          10  \n4       182415          10  \n...        ...         ...  \n9825    182517         657  \n9826    182517         657  \n9827    182517         657  \n9828    182517         657  \n9829    182517         657  \n\n[9830 rows x 9 columns]",
      "text/html": "<div>\n<style scoped>\n    .dataframe tbody tr th:only-of-type {\n        vertical-align: middle;\n    }\n\n    .dataframe tbody tr th {\n        vertical-align: top;\n    }\n\n    .dataframe thead th {\n        text-align: right;\n    }\n</style>\n<table border=\"1\" class=\"dataframe\">\n  <thead>\n    <tr style=\"text-align: right;\">\n      <th></th>\n      <th>sourceid</th>\n      <th>dstid</th>\n      <th>dow</th>\n      <th>mean_travel_time</th>\n      <th>geoeast</th>\n      <th>geonorth</th>\n      <th>popeast</th>\n      <th>popnorth</th>\n      <th>MOVEMENT_ID</th>\n    </tr>\n  </thead>\n  <tbody>\n    <tr>\n      <th>0</th>\n      <td>10</td>\n      <td>241</td>\n      <td>3</td>\n      <td>2334.43</td>\n      <td>542413</td>\n      <td>182380</td>\n      <td>542450</td>\n      <td>182415</td>\n      <td>10</td>\n    </tr>\n    <tr>\n      <th>1</th>\n      <td>10</td>\n      <td>612</td>\n      <td>5</td>\n      <td>1529.83</td>\n      <td>542413</td>\n      <td>182380</td>\n      <td>542450</td>\n      <td>182415</td>\n      <td>10</td>\n    </tr>\n    <tr>\n      <th>2</th>\n      <td>10</td>\n      <td>905</td>\n      <td>4</td>\n      <td>1390.04</td>\n      <td>542413</td>\n      <td>182380</td>\n      <td>542450</td>\n      <td>182415</td>\n      <td>10</td>\n    </tr>\n    <tr>\n      <th>3</th>\n      <td>10</td>\n      <td>407</td>\n      <td>7</td>\n      <td>157.91</td>\n      <td>542413</td>\n      <td>182380</td>\n      <td>542450</td>\n      <td>182415</td>\n      <td>10</td>\n    </tr>\n    <tr>\n      <th>4</th>\n      <td>10</td>\n      <td>603</td>\n      <td>4</td>\n      <td>1781.67</td>\n      <td>542413</td>\n      <td>182380</td>\n      <td>542450</td>\n      <td>182415</td>\n      <td>10</td>\n    </tr>\n    <tr>\n      <th>...</th>\n      <td>...</td>\n      <td>...</td>\n      <td>...</td>\n      <td>...</td>\n      <td>...</td>\n      <td>...</td>\n      <td>...</td>\n      <td>...</td>\n      <td>...</td>\n    </tr>\n    <tr>\n      <th>9825</th>\n      <td>657</td>\n      <td>207</td>\n      <td>6</td>\n      <td>1742.70</td>\n      <td>509284</td>\n      <td>182666</td>\n      <td>509368</td>\n      <td>182517</td>\n      <td>657</td>\n    </tr>\n    <tr>\n      <th>9826</th>\n      <td>657</td>\n      <td>359</td>\n      <td>2</td>\n      <td>2693.21</td>\n      <td>509284</td>\n      <td>182666</td>\n      <td>509368</td>\n      <td>182517</td>\n      <td>657</td>\n    </tr>\n    <tr>\n      <th>9827</th>\n      <td>657</td>\n      <td>656</td>\n      <td>7</td>\n      <td>298.18</td>\n      <td>509284</td>\n      <td>182666</td>\n      <td>509368</td>\n      <td>182517</td>\n      <td>657</td>\n    </tr>\n    <tr>\n      <th>9828</th>\n      <td>657</td>\n      <td>540</td>\n      <td>7</td>\n      <td>312.27</td>\n      <td>509284</td>\n      <td>182666</td>\n      <td>509368</td>\n      <td>182517</td>\n      <td>657</td>\n    </tr>\n    <tr>\n      <th>9829</th>\n      <td>657</td>\n      <td>560</td>\n      <td>1</td>\n      <td>1345.90</td>\n      <td>509284</td>\n      <td>182666</td>\n      <td>509368</td>\n      <td>182517</td>\n      <td>657</td>\n    </tr>\n  </tbody>\n</table>\n<p>9830 rows × 9 columns</p>\n</div>"
     },
     "execution_count": 46,
     "metadata": {},
     "output_type": "execute_result"
    }
   ],
   "source": [
    "result"
   ],
   "metadata": {
    "collapsed": false,
    "pycharm": {
     "name": "#%%\n"
    }
   }
  },
  {
   "cell_type": "code",
   "execution_count": 47,
   "outputs": [],
   "source": [
    "result = result.rename(columns={'geoeast': 'src_geoeast', 'geonorth': 'src_geonorth', 'popeast': 'src_popeast', 'popnorth': 'src_popnorth'})"
   ],
   "metadata": {
    "collapsed": false,
    "pycharm": {
     "name": "#%%\n"
    }
   }
  },
  {
   "cell_type": "code",
   "execution_count": 48,
   "outputs": [],
   "source": [
    "result.drop('MOVEMENT_ID', inplace=True, axis=1)"
   ],
   "metadata": {
    "collapsed": false,
    "pycharm": {
     "name": "#%%\n"
    }
   }
  },
  {
   "cell_type": "code",
   "execution_count": 49,
   "outputs": [
    {
     "data": {
      "text/plain": "      sourceid  dstid  dow  mean_travel_time  src_geoeast  src_geonorth  \\\n0           10    241    3           2334.43       542413        182380   \n1           10    612    5           1529.83       542413        182380   \n2           10    905    4           1390.04       542413        182380   \n3           10    407    7            157.91       542413        182380   \n4           10    603    4           1781.67       542413        182380   \n...        ...    ...  ...               ...          ...           ...   \n9825       657    207    6           1742.70       509284        182666   \n9826       657    359    2           2693.21       509284        182666   \n9827       657    656    7            298.18       509284        182666   \n9828       657    540    7            312.27       509284        182666   \n9829       657    560    1           1345.90       509284        182666   \n\n      src_popeast  src_popnorth  \n0          542450        182415  \n1          542450        182415  \n2          542450        182415  \n3          542450        182415  \n4          542450        182415  \n...           ...           ...  \n9825       509368        182517  \n9826       509368        182517  \n9827       509368        182517  \n9828       509368        182517  \n9829       509368        182517  \n\n[9830 rows x 8 columns]",
      "text/html": "<div>\n<style scoped>\n    .dataframe tbody tr th:only-of-type {\n        vertical-align: middle;\n    }\n\n    .dataframe tbody tr th {\n        vertical-align: top;\n    }\n\n    .dataframe thead th {\n        text-align: right;\n    }\n</style>\n<table border=\"1\" class=\"dataframe\">\n  <thead>\n    <tr style=\"text-align: right;\">\n      <th></th>\n      <th>sourceid</th>\n      <th>dstid</th>\n      <th>dow</th>\n      <th>mean_travel_time</th>\n      <th>src_geoeast</th>\n      <th>src_geonorth</th>\n      <th>src_popeast</th>\n      <th>src_popnorth</th>\n    </tr>\n  </thead>\n  <tbody>\n    <tr>\n      <th>0</th>\n      <td>10</td>\n      <td>241</td>\n      <td>3</td>\n      <td>2334.43</td>\n      <td>542413</td>\n      <td>182380</td>\n      <td>542450</td>\n      <td>182415</td>\n    </tr>\n    <tr>\n      <th>1</th>\n      <td>10</td>\n      <td>612</td>\n      <td>5</td>\n      <td>1529.83</td>\n      <td>542413</td>\n      <td>182380</td>\n      <td>542450</td>\n      <td>182415</td>\n    </tr>\n    <tr>\n      <th>2</th>\n      <td>10</td>\n      <td>905</td>\n      <td>4</td>\n      <td>1390.04</td>\n      <td>542413</td>\n      <td>182380</td>\n      <td>542450</td>\n      <td>182415</td>\n    </tr>\n    <tr>\n      <th>3</th>\n      <td>10</td>\n      <td>407</td>\n      <td>7</td>\n      <td>157.91</td>\n      <td>542413</td>\n      <td>182380</td>\n      <td>542450</td>\n      <td>182415</td>\n    </tr>\n    <tr>\n      <th>4</th>\n      <td>10</td>\n      <td>603</td>\n      <td>4</td>\n      <td>1781.67</td>\n      <td>542413</td>\n      <td>182380</td>\n      <td>542450</td>\n      <td>182415</td>\n    </tr>\n    <tr>\n      <th>...</th>\n      <td>...</td>\n      <td>...</td>\n      <td>...</td>\n      <td>...</td>\n      <td>...</td>\n      <td>...</td>\n      <td>...</td>\n      <td>...</td>\n    </tr>\n    <tr>\n      <th>9825</th>\n      <td>657</td>\n      <td>207</td>\n      <td>6</td>\n      <td>1742.70</td>\n      <td>509284</td>\n      <td>182666</td>\n      <td>509368</td>\n      <td>182517</td>\n    </tr>\n    <tr>\n      <th>9826</th>\n      <td>657</td>\n      <td>359</td>\n      <td>2</td>\n      <td>2693.21</td>\n      <td>509284</td>\n      <td>182666</td>\n      <td>509368</td>\n      <td>182517</td>\n    </tr>\n    <tr>\n      <th>9827</th>\n      <td>657</td>\n      <td>656</td>\n      <td>7</td>\n      <td>298.18</td>\n      <td>509284</td>\n      <td>182666</td>\n      <td>509368</td>\n      <td>182517</td>\n    </tr>\n    <tr>\n      <th>9828</th>\n      <td>657</td>\n      <td>540</td>\n      <td>7</td>\n      <td>312.27</td>\n      <td>509284</td>\n      <td>182666</td>\n      <td>509368</td>\n      <td>182517</td>\n    </tr>\n    <tr>\n      <th>9829</th>\n      <td>657</td>\n      <td>560</td>\n      <td>1</td>\n      <td>1345.90</td>\n      <td>509284</td>\n      <td>182666</td>\n      <td>509368</td>\n      <td>182517</td>\n    </tr>\n  </tbody>\n</table>\n<p>9830 rows × 8 columns</p>\n</div>"
     },
     "execution_count": 49,
     "metadata": {},
     "output_type": "execute_result"
    }
   ],
   "source": [
    "result"
   ],
   "metadata": {
    "collapsed": false,
    "pycharm": {
     "name": "#%%\n"
    }
   }
  },
  {
   "cell_type": "code",
   "execution_count": 50,
   "outputs": [],
   "source": [
    "result_2=result.join(df_extract_geo_json, on='dstid')"
   ],
   "metadata": {
    "collapsed": false,
    "pycharm": {
     "name": "#%%\n"
    }
   }
  },
  {
   "cell_type": "code",
   "execution_count": 51,
   "outputs": [
    {
     "data": {
      "text/plain": "      sourceid  dstid  dow  mean_travel_time  src_geoeast  src_geonorth  \\\n0           10    241    3           2334.43       542413        182380   \n1           10    612    5           1529.83       542413        182380   \n2           10    905    4           1390.04       542413        182380   \n3           10    407    7            157.91       542413        182380   \n4           10    603    4           1781.67       542413        182380   \n...        ...    ...  ...               ...          ...           ...   \n9825       657    207    6           1742.70       509284        182666   \n9826       657    359    2           2693.21       509284        182666   \n9827       657    656    7            298.18       509284        182666   \n9828       657    540    7            312.27       509284        182666   \n9829       657    560    1           1345.90       509284        182666   \n\n      src_popeast  src_popnorth  geoeast  geonorth  popeast  popnorth  \n0          542450        182415   530851    174285   530876    174289  \n1          542450        182415   551347    192721   550534    191931  \n2          542450        182415   535060    178641   535009    178663  \n3          542450        182415   544366    183515   544543    183531  \n4          542450        182415   532416    197315   532432    197391  \n...           ...           ...      ...       ...      ...       ...  \n9825       509368        182517   523999    180757   524025    180791  \n9826       509368        182517   529177    181229   529175    181482  \n9827       509368        182517   507078    182644   507235    182827  \n9828       509368        182517   511046    183262   511310    183074  \n9829       509368        182517   516302    180206   516346    180172  \n\n[9830 rows x 12 columns]",
      "text/html": "<div>\n<style scoped>\n    .dataframe tbody tr th:only-of-type {\n        vertical-align: middle;\n    }\n\n    .dataframe tbody tr th {\n        vertical-align: top;\n    }\n\n    .dataframe thead th {\n        text-align: right;\n    }\n</style>\n<table border=\"1\" class=\"dataframe\">\n  <thead>\n    <tr style=\"text-align: right;\">\n      <th></th>\n      <th>sourceid</th>\n      <th>dstid</th>\n      <th>dow</th>\n      <th>mean_travel_time</th>\n      <th>src_geoeast</th>\n      <th>src_geonorth</th>\n      <th>src_popeast</th>\n      <th>src_popnorth</th>\n      <th>geoeast</th>\n      <th>geonorth</th>\n      <th>popeast</th>\n      <th>popnorth</th>\n    </tr>\n  </thead>\n  <tbody>\n    <tr>\n      <th>0</th>\n      <td>10</td>\n      <td>241</td>\n      <td>3</td>\n      <td>2334.43</td>\n      <td>542413</td>\n      <td>182380</td>\n      <td>542450</td>\n      <td>182415</td>\n      <td>530851</td>\n      <td>174285</td>\n      <td>530876</td>\n      <td>174289</td>\n    </tr>\n    <tr>\n      <th>1</th>\n      <td>10</td>\n      <td>612</td>\n      <td>5</td>\n      <td>1529.83</td>\n      <td>542413</td>\n      <td>182380</td>\n      <td>542450</td>\n      <td>182415</td>\n      <td>551347</td>\n      <td>192721</td>\n      <td>550534</td>\n      <td>191931</td>\n    </tr>\n    <tr>\n      <th>2</th>\n      <td>10</td>\n      <td>905</td>\n      <td>4</td>\n      <td>1390.04</td>\n      <td>542413</td>\n      <td>182380</td>\n      <td>542450</td>\n      <td>182415</td>\n      <td>535060</td>\n      <td>178641</td>\n      <td>535009</td>\n      <td>178663</td>\n    </tr>\n    <tr>\n      <th>3</th>\n      <td>10</td>\n      <td>407</td>\n      <td>7</td>\n      <td>157.91</td>\n      <td>542413</td>\n      <td>182380</td>\n      <td>542450</td>\n      <td>182415</td>\n      <td>544366</td>\n      <td>183515</td>\n      <td>544543</td>\n      <td>183531</td>\n    </tr>\n    <tr>\n      <th>4</th>\n      <td>10</td>\n      <td>603</td>\n      <td>4</td>\n      <td>1781.67</td>\n      <td>542413</td>\n      <td>182380</td>\n      <td>542450</td>\n      <td>182415</td>\n      <td>532416</td>\n      <td>197315</td>\n      <td>532432</td>\n      <td>197391</td>\n    </tr>\n    <tr>\n      <th>...</th>\n      <td>...</td>\n      <td>...</td>\n      <td>...</td>\n      <td>...</td>\n      <td>...</td>\n      <td>...</td>\n      <td>...</td>\n      <td>...</td>\n      <td>...</td>\n      <td>...</td>\n      <td>...</td>\n      <td>...</td>\n    </tr>\n    <tr>\n      <th>9825</th>\n      <td>657</td>\n      <td>207</td>\n      <td>6</td>\n      <td>1742.70</td>\n      <td>509284</td>\n      <td>182666</td>\n      <td>509368</td>\n      <td>182517</td>\n      <td>523999</td>\n      <td>180757</td>\n      <td>524025</td>\n      <td>180791</td>\n    </tr>\n    <tr>\n      <th>9826</th>\n      <td>657</td>\n      <td>359</td>\n      <td>2</td>\n      <td>2693.21</td>\n      <td>509284</td>\n      <td>182666</td>\n      <td>509368</td>\n      <td>182517</td>\n      <td>529177</td>\n      <td>181229</td>\n      <td>529175</td>\n      <td>181482</td>\n    </tr>\n    <tr>\n      <th>9827</th>\n      <td>657</td>\n      <td>656</td>\n      <td>7</td>\n      <td>298.18</td>\n      <td>509284</td>\n      <td>182666</td>\n      <td>509368</td>\n      <td>182517</td>\n      <td>507078</td>\n      <td>182644</td>\n      <td>507235</td>\n      <td>182827</td>\n    </tr>\n    <tr>\n      <th>9828</th>\n      <td>657</td>\n      <td>540</td>\n      <td>7</td>\n      <td>312.27</td>\n      <td>509284</td>\n      <td>182666</td>\n      <td>509368</td>\n      <td>182517</td>\n      <td>511046</td>\n      <td>183262</td>\n      <td>511310</td>\n      <td>183074</td>\n    </tr>\n    <tr>\n      <th>9829</th>\n      <td>657</td>\n      <td>560</td>\n      <td>1</td>\n      <td>1345.90</td>\n      <td>509284</td>\n      <td>182666</td>\n      <td>509368</td>\n      <td>182517</td>\n      <td>516302</td>\n      <td>180206</td>\n      <td>516346</td>\n      <td>180172</td>\n    </tr>\n  </tbody>\n</table>\n<p>9830 rows × 12 columns</p>\n</div>"
     },
     "execution_count": 51,
     "metadata": {},
     "output_type": "execute_result"
    }
   ],
   "source": [
    "result_2.drop('MOVEMENT_ID', inplace=True, axis=1)\n",
    "result_2"
   ],
   "metadata": {
    "collapsed": false,
    "pycharm": {
     "name": "#%%\n"
    }
   }
  },
  {
   "cell_type": "code",
   "execution_count": 52,
   "outputs": [],
   "source": [
    "result_2 = result_2.rename(columns={'geoeast': 'dst_geoeast', 'geonorth': 'dst_geonorth', 'popeast': 'dst_popeast', 'popnorth': 'dst_popnorth'})"
   ],
   "metadata": {
    "collapsed": false,
    "pycharm": {
     "name": "#%%\n"
    }
   }
  },
  {
   "cell_type": "code",
   "execution_count": 53,
   "outputs": [],
   "source": [
    "result_2['geo_distance'] = np.sqrt(((result_2['src_geoeast'] - result_2['dst_geoeast'])**2) + (result_2['src_geonorth'] - result_2['dst_geonorth'])**2)"
   ],
   "metadata": {
    "collapsed": false,
    "pycharm": {
     "name": "#%%\n"
    }
   }
  },
  {
   "cell_type": "code",
   "execution_count": 61,
   "outputs": [
    {
     "data": {
      "text/plain": "      sourceid  dstid  dow  mean_travel_time  src_geoeast  src_geonorth  \\\n0           10    241    3           2334.43       542413        182380   \n1           10    612    5           1529.83       542413        182380   \n2           10    905    4           1390.04       542413        182380   \n3           10    407    7            157.91       542413        182380   \n4           10    603    4           1781.67       542413        182380   \n...        ...    ...  ...               ...          ...           ...   \n9825       657    207    6           1742.70       509284        182666   \n9826       657    359    2           2693.21       509284        182666   \n9827       657    656    7            298.18       509284        182666   \n9828       657    540    7            312.27       509284        182666   \n9829       657    560    1           1345.90       509284        182666   \n\n      src_popeast  src_popnorth  dst_geoeast  dst_geonorth  dst_popeast  \\\n0          542450        182415       530851        174285       530876   \n1          542450        182415       551347        192721       550534   \n2          542450        182415       535060        178641       535009   \n3          542450        182415       544366        183515       544543   \n4          542450        182415       532416        197315       532432   \n...           ...           ...          ...           ...          ...   \n9825       509368        182517       523999        180757       524025   \n9826       509368        182517       529177        181229       529175   \n9827       509368        182517       507078        182644       507235   \n9828       509368        182517       511046        183262       511310   \n9829       509368        182517       516302        180206       516346   \n\n      dst_popnorth  geo_distance  \n0           174289  14114.137204  \n1           191931  13665.746851  \n2           178663   8249.044187  \n3           183531   2258.856791  \n4           197391  17972.040340  \n...            ...           ...  \n9825        180791  14838.312101  \n9826        181482  19944.834369  \n9827        182827   2206.109698  \n9828        183074   1860.069891  \n9829        180172   7436.660810  \n\n[9830 rows x 13 columns]",
      "text/html": "<div>\n<style scoped>\n    .dataframe tbody tr th:only-of-type {\n        vertical-align: middle;\n    }\n\n    .dataframe tbody tr th {\n        vertical-align: top;\n    }\n\n    .dataframe thead th {\n        text-align: right;\n    }\n</style>\n<table border=\"1\" class=\"dataframe\">\n  <thead>\n    <tr style=\"text-align: right;\">\n      <th></th>\n      <th>sourceid</th>\n      <th>dstid</th>\n      <th>dow</th>\n      <th>mean_travel_time</th>\n      <th>src_geoeast</th>\n      <th>src_geonorth</th>\n      <th>src_popeast</th>\n      <th>src_popnorth</th>\n      <th>dst_geoeast</th>\n      <th>dst_geonorth</th>\n      <th>dst_popeast</th>\n      <th>dst_popnorth</th>\n      <th>geo_distance</th>\n    </tr>\n  </thead>\n  <tbody>\n    <tr>\n      <th>0</th>\n      <td>10</td>\n      <td>241</td>\n      <td>3</td>\n      <td>2334.43</td>\n      <td>542413</td>\n      <td>182380</td>\n      <td>542450</td>\n      <td>182415</td>\n      <td>530851</td>\n      <td>174285</td>\n      <td>530876</td>\n      <td>174289</td>\n      <td>14114.137204</td>\n    </tr>\n    <tr>\n      <th>1</th>\n      <td>10</td>\n      <td>612</td>\n      <td>5</td>\n      <td>1529.83</td>\n      <td>542413</td>\n      <td>182380</td>\n      <td>542450</td>\n      <td>182415</td>\n      <td>551347</td>\n      <td>192721</td>\n      <td>550534</td>\n      <td>191931</td>\n      <td>13665.746851</td>\n    </tr>\n    <tr>\n      <th>2</th>\n      <td>10</td>\n      <td>905</td>\n      <td>4</td>\n      <td>1390.04</td>\n      <td>542413</td>\n      <td>182380</td>\n      <td>542450</td>\n      <td>182415</td>\n      <td>535060</td>\n      <td>178641</td>\n      <td>535009</td>\n      <td>178663</td>\n      <td>8249.044187</td>\n    </tr>\n    <tr>\n      <th>3</th>\n      <td>10</td>\n      <td>407</td>\n      <td>7</td>\n      <td>157.91</td>\n      <td>542413</td>\n      <td>182380</td>\n      <td>542450</td>\n      <td>182415</td>\n      <td>544366</td>\n      <td>183515</td>\n      <td>544543</td>\n      <td>183531</td>\n      <td>2258.856791</td>\n    </tr>\n    <tr>\n      <th>4</th>\n      <td>10</td>\n      <td>603</td>\n      <td>4</td>\n      <td>1781.67</td>\n      <td>542413</td>\n      <td>182380</td>\n      <td>542450</td>\n      <td>182415</td>\n      <td>532416</td>\n      <td>197315</td>\n      <td>532432</td>\n      <td>197391</td>\n      <td>17972.040340</td>\n    </tr>\n    <tr>\n      <th>...</th>\n      <td>...</td>\n      <td>...</td>\n      <td>...</td>\n      <td>...</td>\n      <td>...</td>\n      <td>...</td>\n      <td>...</td>\n      <td>...</td>\n      <td>...</td>\n      <td>...</td>\n      <td>...</td>\n      <td>...</td>\n      <td>...</td>\n    </tr>\n    <tr>\n      <th>9825</th>\n      <td>657</td>\n      <td>207</td>\n      <td>6</td>\n      <td>1742.70</td>\n      <td>509284</td>\n      <td>182666</td>\n      <td>509368</td>\n      <td>182517</td>\n      <td>523999</td>\n      <td>180757</td>\n      <td>524025</td>\n      <td>180791</td>\n      <td>14838.312101</td>\n    </tr>\n    <tr>\n      <th>9826</th>\n      <td>657</td>\n      <td>359</td>\n      <td>2</td>\n      <td>2693.21</td>\n      <td>509284</td>\n      <td>182666</td>\n      <td>509368</td>\n      <td>182517</td>\n      <td>529177</td>\n      <td>181229</td>\n      <td>529175</td>\n      <td>181482</td>\n      <td>19944.834369</td>\n    </tr>\n    <tr>\n      <th>9827</th>\n      <td>657</td>\n      <td>656</td>\n      <td>7</td>\n      <td>298.18</td>\n      <td>509284</td>\n      <td>182666</td>\n      <td>509368</td>\n      <td>182517</td>\n      <td>507078</td>\n      <td>182644</td>\n      <td>507235</td>\n      <td>182827</td>\n      <td>2206.109698</td>\n    </tr>\n    <tr>\n      <th>9828</th>\n      <td>657</td>\n      <td>540</td>\n      <td>7</td>\n      <td>312.27</td>\n      <td>509284</td>\n      <td>182666</td>\n      <td>509368</td>\n      <td>182517</td>\n      <td>511046</td>\n      <td>183262</td>\n      <td>511310</td>\n      <td>183074</td>\n      <td>1860.069891</td>\n    </tr>\n    <tr>\n      <th>9829</th>\n      <td>657</td>\n      <td>560</td>\n      <td>1</td>\n      <td>1345.90</td>\n      <td>509284</td>\n      <td>182666</td>\n      <td>509368</td>\n      <td>182517</td>\n      <td>516302</td>\n      <td>180206</td>\n      <td>516346</td>\n      <td>180172</td>\n      <td>7436.660810</td>\n    </tr>\n  </tbody>\n</table>\n<p>9830 rows × 13 columns</p>\n</div>"
     },
     "execution_count": 61,
     "metadata": {},
     "output_type": "execute_result"
    }
   ],
   "source": [
    "result_2"
   ],
   "metadata": {
    "collapsed": false,
    "pycharm": {
     "name": "#%%\n"
    }
   }
  },
  {
   "cell_type": "code",
   "execution_count": 62,
   "outputs": [],
   "source": [
    "result_2['pop_distance'] = np.sqrt(((result_2['src_popeast'] - result_2['dst_popeast'])**2) + (result_2['src_popnorth'] - result_2['dst_popnorth'])**2)"
   ],
   "metadata": {
    "collapsed": false,
    "pycharm": {
     "name": "#%%\n"
    }
   }
  },
  {
   "cell_type": "code",
   "execution_count": 63,
   "outputs": [
    {
     "data": {
      "text/plain": "      sourceid  dstid  dow  mean_travel_time  src_geoeast  src_geonorth  \\\n0           10    241    3           2334.43       542413        182380   \n1           10    612    5           1529.83       542413        182380   \n2           10    905    4           1390.04       542413        182380   \n3           10    407    7            157.91       542413        182380   \n4           10    603    4           1781.67       542413        182380   \n...        ...    ...  ...               ...          ...           ...   \n9825       657    207    6           1742.70       509284        182666   \n9826       657    359    2           2693.21       509284        182666   \n9827       657    656    7            298.18       509284        182666   \n9828       657    540    7            312.27       509284        182666   \n9829       657    560    1           1345.90       509284        182666   \n\n      src_popeast  src_popnorth  dst_geoeast  dst_geonorth  dst_popeast  \\\n0          542450        182415       530851        174285       530876   \n1          542450        182415       551347        192721       550534   \n2          542450        182415       535060        178641       535009   \n3          542450        182415       544366        183515       544543   \n4          542450        182415       532416        197315       532432   \n...           ...           ...          ...           ...          ...   \n9825       509368        182517       523999        180757       524025   \n9826       509368        182517       529177        181229       529175   \n9827       509368        182517       507078        182644       507235   \n9828       509368        182517       511046        183262       511310   \n9829       509368        182517       516302        180206       516346   \n\n      dst_popnorth  geo_distance  pop_distance  \n0           174289  14114.137204  14141.759155  \n1           191931  13665.746851  12486.204868  \n2           178663   8249.044187   8333.425766  \n3           183531   2258.856791   2371.941188  \n4           197391  17972.040340  18017.793983  \n...            ...           ...           ...  \n9825        180791  14838.312101  14758.276492  \n9826        181482  19944.834369  19834.023142  \n9827        182827   2206.109698   2155.409242  \n9828        183074   1860.069891   2020.300225  \n9829        180172   7436.660810   7361.488233  \n\n[9830 rows x 14 columns]",
      "text/html": "<div>\n<style scoped>\n    .dataframe tbody tr th:only-of-type {\n        vertical-align: middle;\n    }\n\n    .dataframe tbody tr th {\n        vertical-align: top;\n    }\n\n    .dataframe thead th {\n        text-align: right;\n    }\n</style>\n<table border=\"1\" class=\"dataframe\">\n  <thead>\n    <tr style=\"text-align: right;\">\n      <th></th>\n      <th>sourceid</th>\n      <th>dstid</th>\n      <th>dow</th>\n      <th>mean_travel_time</th>\n      <th>src_geoeast</th>\n      <th>src_geonorth</th>\n      <th>src_popeast</th>\n      <th>src_popnorth</th>\n      <th>dst_geoeast</th>\n      <th>dst_geonorth</th>\n      <th>dst_popeast</th>\n      <th>dst_popnorth</th>\n      <th>geo_distance</th>\n      <th>pop_distance</th>\n    </tr>\n  </thead>\n  <tbody>\n    <tr>\n      <th>0</th>\n      <td>10</td>\n      <td>241</td>\n      <td>3</td>\n      <td>2334.43</td>\n      <td>542413</td>\n      <td>182380</td>\n      <td>542450</td>\n      <td>182415</td>\n      <td>530851</td>\n      <td>174285</td>\n      <td>530876</td>\n      <td>174289</td>\n      <td>14114.137204</td>\n      <td>14141.759155</td>\n    </tr>\n    <tr>\n      <th>1</th>\n      <td>10</td>\n      <td>612</td>\n      <td>5</td>\n      <td>1529.83</td>\n      <td>542413</td>\n      <td>182380</td>\n      <td>542450</td>\n      <td>182415</td>\n      <td>551347</td>\n      <td>192721</td>\n      <td>550534</td>\n      <td>191931</td>\n      <td>13665.746851</td>\n      <td>12486.204868</td>\n    </tr>\n    <tr>\n      <th>2</th>\n      <td>10</td>\n      <td>905</td>\n      <td>4</td>\n      <td>1390.04</td>\n      <td>542413</td>\n      <td>182380</td>\n      <td>542450</td>\n      <td>182415</td>\n      <td>535060</td>\n      <td>178641</td>\n      <td>535009</td>\n      <td>178663</td>\n      <td>8249.044187</td>\n      <td>8333.425766</td>\n    </tr>\n    <tr>\n      <th>3</th>\n      <td>10</td>\n      <td>407</td>\n      <td>7</td>\n      <td>157.91</td>\n      <td>542413</td>\n      <td>182380</td>\n      <td>542450</td>\n      <td>182415</td>\n      <td>544366</td>\n      <td>183515</td>\n      <td>544543</td>\n      <td>183531</td>\n      <td>2258.856791</td>\n      <td>2371.941188</td>\n    </tr>\n    <tr>\n      <th>4</th>\n      <td>10</td>\n      <td>603</td>\n      <td>4</td>\n      <td>1781.67</td>\n      <td>542413</td>\n      <td>182380</td>\n      <td>542450</td>\n      <td>182415</td>\n      <td>532416</td>\n      <td>197315</td>\n      <td>532432</td>\n      <td>197391</td>\n      <td>17972.040340</td>\n      <td>18017.793983</td>\n    </tr>\n    <tr>\n      <th>...</th>\n      <td>...</td>\n      <td>...</td>\n      <td>...</td>\n      <td>...</td>\n      <td>...</td>\n      <td>...</td>\n      <td>...</td>\n      <td>...</td>\n      <td>...</td>\n      <td>...</td>\n      <td>...</td>\n      <td>...</td>\n      <td>...</td>\n      <td>...</td>\n    </tr>\n    <tr>\n      <th>9825</th>\n      <td>657</td>\n      <td>207</td>\n      <td>6</td>\n      <td>1742.70</td>\n      <td>509284</td>\n      <td>182666</td>\n      <td>509368</td>\n      <td>182517</td>\n      <td>523999</td>\n      <td>180757</td>\n      <td>524025</td>\n      <td>180791</td>\n      <td>14838.312101</td>\n      <td>14758.276492</td>\n    </tr>\n    <tr>\n      <th>9826</th>\n      <td>657</td>\n      <td>359</td>\n      <td>2</td>\n      <td>2693.21</td>\n      <td>509284</td>\n      <td>182666</td>\n      <td>509368</td>\n      <td>182517</td>\n      <td>529177</td>\n      <td>181229</td>\n      <td>529175</td>\n      <td>181482</td>\n      <td>19944.834369</td>\n      <td>19834.023142</td>\n    </tr>\n    <tr>\n      <th>9827</th>\n      <td>657</td>\n      <td>656</td>\n      <td>7</td>\n      <td>298.18</td>\n      <td>509284</td>\n      <td>182666</td>\n      <td>509368</td>\n      <td>182517</td>\n      <td>507078</td>\n      <td>182644</td>\n      <td>507235</td>\n      <td>182827</td>\n      <td>2206.109698</td>\n      <td>2155.409242</td>\n    </tr>\n    <tr>\n      <th>9828</th>\n      <td>657</td>\n      <td>540</td>\n      <td>7</td>\n      <td>312.27</td>\n      <td>509284</td>\n      <td>182666</td>\n      <td>509368</td>\n      <td>182517</td>\n      <td>511046</td>\n      <td>183262</td>\n      <td>511310</td>\n      <td>183074</td>\n      <td>1860.069891</td>\n      <td>2020.300225</td>\n    </tr>\n    <tr>\n      <th>9829</th>\n      <td>657</td>\n      <td>560</td>\n      <td>1</td>\n      <td>1345.90</td>\n      <td>509284</td>\n      <td>182666</td>\n      <td>509368</td>\n      <td>182517</td>\n      <td>516302</td>\n      <td>180206</td>\n      <td>516346</td>\n      <td>180172</td>\n      <td>7436.660810</td>\n      <td>7361.488233</td>\n    </tr>\n  </tbody>\n</table>\n<p>9830 rows × 14 columns</p>\n</div>"
     },
     "execution_count": 63,
     "metadata": {},
     "output_type": "execute_result"
    }
   ],
   "source": [
    "result_2"
   ],
   "metadata": {
    "collapsed": false,
    "pycharm": {
     "name": "#%%\n"
    }
   }
  },
  {
   "cell_type": "code",
   "execution_count": null,
   "outputs": [],
   "source": [
    "x = result_2[['']\n",
    "y = result_2['mean_travel_time']"
   ],
   "metadata": {
    "collapsed": false,
    "pycharm": {
     "name": "#%%\n"
    }
   }
  }
 ],
 "metadata": {
  "kernelspec": {
   "display_name": "Python 3",
   "language": "python",
   "name": "python3"
  },
  "language_info": {
   "codemirror_mode": {
    "name": "ipython",
    "version": 2
   },
   "file_extension": ".py",
   "mimetype": "text/x-python",
   "name": "python",
   "nbconvert_exporter": "python",
   "pygments_lexer": "ipython2",
   "version": "2.7.6"
  }
 },
 "nbformat": 4,
 "nbformat_minor": 0
}