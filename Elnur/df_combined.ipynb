{
 "cells": [
  {
   "cell_type": "code",
   "execution_count": 141,
   "metadata": {
    "collapsed": true
   },
   "outputs": [],
   "source": [
    "import pandas as pd\n",
    "import seaborn as sns\n",
    "import geopandas as gpd\n",
    "import numpy as np"
   ]
  },
  {
   "cell_type": "code",
   "execution_count": 142,
   "outputs": [],
   "source": [
    "df_geo_json = gpd.read_file('london.json')\n",
    "df=pd.read_csv('training_WeeklyAggregate.csv')"
   ],
   "metadata": {
    "collapsed": false,
    "pycharm": {
     "name": "#%%\n"
    }
   }
  },
  {
   "cell_type": "code",
   "execution_count": 143,
   "outputs": [
    {
     "data": {
      "text/plain": "     msoa_code        msoa_name la_code      la_name  geoeast  geonorth  \\\n0    E02000508   Hillingdon 015    00AS   Hillingdon   506163    183536   \n1    E02000716       Newham 003    00BB       Newham   541978    186009   \n2    E02000747       Newham 034    00BB       Newham   539578    181317   \n3    E02000748       Newham 035    00BB       Newham   542500    181152   \n4    E02000749       Newham 036    00BB       Newham   541047    181103   \n..         ...              ...     ...          ...      ...       ...   \n978  E02000974  Westminster 015    00BK  Westminster   527028    181254   \n979  E02000975  Westminster 016    00BK  Westminster   526396    181129   \n980  E02000980  Westminster 021    00BK  Westminster   529921    178656   \n981  E02000981  Westminster 022    00BK  Westminster   529123    178488   \n982  E02000983  Westminster 024    00BK  Westminster   529464    178054   \n\n     popeast  popnorth  area_km2 MOVEMENT_ID             DISPLAY_NAME  \\\n0     505978    183811  2.746600           0     Hillingdon, 00AS (0)   \n1     541870    185568  1.565170           1         Newham, 00BB (1)   \n2     539891    181438  2.082410           2         Newham, 00BB (2)   \n3     542439    181339  1.331750           3         Newham, 00BB (3)   \n4     540847    181294  1.419020           4         Newham, 00BB (4)   \n..       ...       ...       ...         ...                      ...   \n978   527172    181179  0.689337         978  Westminster, 00BK (978)   \n979   526375    181042  0.484638         979  Westminster, 00BK (979)   \n980   529758    178698  0.539208         980  Westminster, 00BK (980)   \n981   529140    178401  0.363777         981  Westminster, 00BK (981)   \n982   529488    178111  0.559636         982  Westminster, 00BK (982)   \n\n                                              geometry  \n0    MULTIPOLYGON (((-0.47794 51.55485, -0.47665 51...  \n1    MULTIPOLYGON (((0.05255 51.56171, 0.05310 51.5...  \n2    MULTIPOLYGON (((0.01001 51.52181, 0.01003 51.5...  \n3    MULTIPOLYGON (((0.05392 51.51611, 0.05174 51.5...  \n4    MULTIPOLYGON (((0.03241 51.51704, 0.03179 51.5...  \n..                                                 ...  \n978  MULTIPOLYGON (((-0.17019 51.51994, -0.16019 51...  \n979  MULTIPOLYGON (((-0.17867 51.52008, -0.17898 51...  \n980  MULTIPOLYGON (((-0.12279 51.49453, -0.12305 51...  \n981  MULTIPOLYGON (((-0.14126 51.49455, -0.14080 51...  \n982  MULTIPOLYGON (((-0.12710 51.48764, -0.12957 51...  \n\n[983 rows x 12 columns]",
      "text/html": "<div>\n<style scoped>\n    .dataframe tbody tr th:only-of-type {\n        vertical-align: middle;\n    }\n\n    .dataframe tbody tr th {\n        vertical-align: top;\n    }\n\n    .dataframe thead th {\n        text-align: right;\n    }\n</style>\n<table border=\"1\" class=\"dataframe\">\n  <thead>\n    <tr style=\"text-align: right;\">\n      <th></th>\n      <th>msoa_code</th>\n      <th>msoa_name</th>\n      <th>la_code</th>\n      <th>la_name</th>\n      <th>geoeast</th>\n      <th>geonorth</th>\n      <th>popeast</th>\n      <th>popnorth</th>\n      <th>area_km2</th>\n      <th>MOVEMENT_ID</th>\n      <th>DISPLAY_NAME</th>\n      <th>geometry</th>\n    </tr>\n  </thead>\n  <tbody>\n    <tr>\n      <th>0</th>\n      <td>E02000508</td>\n      <td>Hillingdon 015</td>\n      <td>00AS</td>\n      <td>Hillingdon</td>\n      <td>506163</td>\n      <td>183536</td>\n      <td>505978</td>\n      <td>183811</td>\n      <td>2.746600</td>\n      <td>0</td>\n      <td>Hillingdon, 00AS (0)</td>\n      <td>MULTIPOLYGON (((-0.47794 51.55485, -0.47665 51...</td>\n    </tr>\n    <tr>\n      <th>1</th>\n      <td>E02000716</td>\n      <td>Newham 003</td>\n      <td>00BB</td>\n      <td>Newham</td>\n      <td>541978</td>\n      <td>186009</td>\n      <td>541870</td>\n      <td>185568</td>\n      <td>1.565170</td>\n      <td>1</td>\n      <td>Newham, 00BB (1)</td>\n      <td>MULTIPOLYGON (((0.05255 51.56171, 0.05310 51.5...</td>\n    </tr>\n    <tr>\n      <th>2</th>\n      <td>E02000747</td>\n      <td>Newham 034</td>\n      <td>00BB</td>\n      <td>Newham</td>\n      <td>539578</td>\n      <td>181317</td>\n      <td>539891</td>\n      <td>181438</td>\n      <td>2.082410</td>\n      <td>2</td>\n      <td>Newham, 00BB (2)</td>\n      <td>MULTIPOLYGON (((0.01001 51.52181, 0.01003 51.5...</td>\n    </tr>\n    <tr>\n      <th>3</th>\n      <td>E02000748</td>\n      <td>Newham 035</td>\n      <td>00BB</td>\n      <td>Newham</td>\n      <td>542500</td>\n      <td>181152</td>\n      <td>542439</td>\n      <td>181339</td>\n      <td>1.331750</td>\n      <td>3</td>\n      <td>Newham, 00BB (3)</td>\n      <td>MULTIPOLYGON (((0.05392 51.51611, 0.05174 51.5...</td>\n    </tr>\n    <tr>\n      <th>4</th>\n      <td>E02000749</td>\n      <td>Newham 036</td>\n      <td>00BB</td>\n      <td>Newham</td>\n      <td>541047</td>\n      <td>181103</td>\n      <td>540847</td>\n      <td>181294</td>\n      <td>1.419020</td>\n      <td>4</td>\n      <td>Newham, 00BB (4)</td>\n      <td>MULTIPOLYGON (((0.03241 51.51704, 0.03179 51.5...</td>\n    </tr>\n    <tr>\n      <th>...</th>\n      <td>...</td>\n      <td>...</td>\n      <td>...</td>\n      <td>...</td>\n      <td>...</td>\n      <td>...</td>\n      <td>...</td>\n      <td>...</td>\n      <td>...</td>\n      <td>...</td>\n      <td>...</td>\n      <td>...</td>\n    </tr>\n    <tr>\n      <th>978</th>\n      <td>E02000974</td>\n      <td>Westminster 015</td>\n      <td>00BK</td>\n      <td>Westminster</td>\n      <td>527028</td>\n      <td>181254</td>\n      <td>527172</td>\n      <td>181179</td>\n      <td>0.689337</td>\n      <td>978</td>\n      <td>Westminster, 00BK (978)</td>\n      <td>MULTIPOLYGON (((-0.17019 51.51994, -0.16019 51...</td>\n    </tr>\n    <tr>\n      <th>979</th>\n      <td>E02000975</td>\n      <td>Westminster 016</td>\n      <td>00BK</td>\n      <td>Westminster</td>\n      <td>526396</td>\n      <td>181129</td>\n      <td>526375</td>\n      <td>181042</td>\n      <td>0.484638</td>\n      <td>979</td>\n      <td>Westminster, 00BK (979)</td>\n      <td>MULTIPOLYGON (((-0.17867 51.52008, -0.17898 51...</td>\n    </tr>\n    <tr>\n      <th>980</th>\n      <td>E02000980</td>\n      <td>Westminster 021</td>\n      <td>00BK</td>\n      <td>Westminster</td>\n      <td>529921</td>\n      <td>178656</td>\n      <td>529758</td>\n      <td>178698</td>\n      <td>0.539208</td>\n      <td>980</td>\n      <td>Westminster, 00BK (980)</td>\n      <td>MULTIPOLYGON (((-0.12279 51.49453, -0.12305 51...</td>\n    </tr>\n    <tr>\n      <th>981</th>\n      <td>E02000981</td>\n      <td>Westminster 022</td>\n      <td>00BK</td>\n      <td>Westminster</td>\n      <td>529123</td>\n      <td>178488</td>\n      <td>529140</td>\n      <td>178401</td>\n      <td>0.363777</td>\n      <td>981</td>\n      <td>Westminster, 00BK (981)</td>\n      <td>MULTIPOLYGON (((-0.14126 51.49455, -0.14080 51...</td>\n    </tr>\n    <tr>\n      <th>982</th>\n      <td>E02000983</td>\n      <td>Westminster 024</td>\n      <td>00BK</td>\n      <td>Westminster</td>\n      <td>529464</td>\n      <td>178054</td>\n      <td>529488</td>\n      <td>178111</td>\n      <td>0.559636</td>\n      <td>982</td>\n      <td>Westminster, 00BK (982)</td>\n      <td>MULTIPOLYGON (((-0.12710 51.48764, -0.12957 51...</td>\n    </tr>\n  </tbody>\n</table>\n<p>983 rows × 12 columns</p>\n</div>"
     },
     "execution_count": 143,
     "metadata": {},
     "output_type": "execute_result"
    }
   ],
   "source": [
    "df_geo_json"
   ],
   "metadata": {
    "collapsed": false,
    "pycharm": {
     "name": "#%%\n"
    }
   }
  },
  {
   "cell_type": "code",
   "execution_count": 144,
   "outputs": [
    {
     "data": {
      "text/plain": "      sourceid  dstid  dow  mean_travel_time\n0           10    241    3           2334.43\n1           10    612    5           1529.83\n2           10    905    4           1390.04\n3           10    407    7            157.91\n4           10    603    4           1781.67\n...        ...    ...  ...               ...\n9825       657    207    6           1742.70\n9826       657    359    2           2693.21\n9827       657    656    7            298.18\n9828       657    540    7            312.27\n9829       657    560    1           1345.90\n\n[9830 rows x 4 columns]",
      "text/html": "<div>\n<style scoped>\n    .dataframe tbody tr th:only-of-type {\n        vertical-align: middle;\n    }\n\n    .dataframe tbody tr th {\n        vertical-align: top;\n    }\n\n    .dataframe thead th {\n        text-align: right;\n    }\n</style>\n<table border=\"1\" class=\"dataframe\">\n  <thead>\n    <tr style=\"text-align: right;\">\n      <th></th>\n      <th>sourceid</th>\n      <th>dstid</th>\n      <th>dow</th>\n      <th>mean_travel_time</th>\n    </tr>\n  </thead>\n  <tbody>\n    <tr>\n      <th>0</th>\n      <td>10</td>\n      <td>241</td>\n      <td>3</td>\n      <td>2334.43</td>\n    </tr>\n    <tr>\n      <th>1</th>\n      <td>10</td>\n      <td>612</td>\n      <td>5</td>\n      <td>1529.83</td>\n    </tr>\n    <tr>\n      <th>2</th>\n      <td>10</td>\n      <td>905</td>\n      <td>4</td>\n      <td>1390.04</td>\n    </tr>\n    <tr>\n      <th>3</th>\n      <td>10</td>\n      <td>407</td>\n      <td>7</td>\n      <td>157.91</td>\n    </tr>\n    <tr>\n      <th>4</th>\n      <td>10</td>\n      <td>603</td>\n      <td>4</td>\n      <td>1781.67</td>\n    </tr>\n    <tr>\n      <th>...</th>\n      <td>...</td>\n      <td>...</td>\n      <td>...</td>\n      <td>...</td>\n    </tr>\n    <tr>\n      <th>9825</th>\n      <td>657</td>\n      <td>207</td>\n      <td>6</td>\n      <td>1742.70</td>\n    </tr>\n    <tr>\n      <th>9826</th>\n      <td>657</td>\n      <td>359</td>\n      <td>2</td>\n      <td>2693.21</td>\n    </tr>\n    <tr>\n      <th>9827</th>\n      <td>657</td>\n      <td>656</td>\n      <td>7</td>\n      <td>298.18</td>\n    </tr>\n    <tr>\n      <th>9828</th>\n      <td>657</td>\n      <td>540</td>\n      <td>7</td>\n      <td>312.27</td>\n    </tr>\n    <tr>\n      <th>9829</th>\n      <td>657</td>\n      <td>560</td>\n      <td>1</td>\n      <td>1345.90</td>\n    </tr>\n  </tbody>\n</table>\n<p>9830 rows × 4 columns</p>\n</div>"
     },
     "execution_count": 144,
     "metadata": {},
     "output_type": "execute_result"
    }
   ],
   "source": [
    "df"
   ],
   "metadata": {
    "collapsed": false,
    "pycharm": {
     "name": "#%%\n"
    }
   }
  },
  {
   "cell_type": "code",
   "execution_count": 145,
   "outputs": [],
   "source": [
    "df_extract_geo_json=df_geo_json[['geoeast', 'geonorth',  'popeast', 'popnorth','area_km2','MOVEMENT_ID']]"
   ],
   "metadata": {
    "collapsed": false,
    "pycharm": {
     "name": "#%%\n"
    }
   }
  },
  {
   "cell_type": "code",
   "execution_count": 146,
   "outputs": [
    {
     "data": {
      "text/plain": "     geoeast  geonorth  popeast  popnorth  area_km2 MOVEMENT_ID\n0     506163    183536   505978    183811  2.746600           0\n1     541978    186009   541870    185568  1.565170           1\n2     539578    181317   539891    181438  2.082410           2\n3     542500    181152   542439    181339  1.331750           3\n4     541047    181103   540847    181294  1.419020           4\n..       ...       ...      ...       ...       ...         ...\n978   527028    181254   527172    181179  0.689337         978\n979   526396    181129   526375    181042  0.484638         979\n980   529921    178656   529758    178698  0.539208         980\n981   529123    178488   529140    178401  0.363777         981\n982   529464    178054   529488    178111  0.559636         982\n\n[983 rows x 6 columns]",
      "text/html": "<div>\n<style scoped>\n    .dataframe tbody tr th:only-of-type {\n        vertical-align: middle;\n    }\n\n    .dataframe tbody tr th {\n        vertical-align: top;\n    }\n\n    .dataframe thead th {\n        text-align: right;\n    }\n</style>\n<table border=\"1\" class=\"dataframe\">\n  <thead>\n    <tr style=\"text-align: right;\">\n      <th></th>\n      <th>geoeast</th>\n      <th>geonorth</th>\n      <th>popeast</th>\n      <th>popnorth</th>\n      <th>area_km2</th>\n      <th>MOVEMENT_ID</th>\n    </tr>\n  </thead>\n  <tbody>\n    <tr>\n      <th>0</th>\n      <td>506163</td>\n      <td>183536</td>\n      <td>505978</td>\n      <td>183811</td>\n      <td>2.746600</td>\n      <td>0</td>\n    </tr>\n    <tr>\n      <th>1</th>\n      <td>541978</td>\n      <td>186009</td>\n      <td>541870</td>\n      <td>185568</td>\n      <td>1.565170</td>\n      <td>1</td>\n    </tr>\n    <tr>\n      <th>2</th>\n      <td>539578</td>\n      <td>181317</td>\n      <td>539891</td>\n      <td>181438</td>\n      <td>2.082410</td>\n      <td>2</td>\n    </tr>\n    <tr>\n      <th>3</th>\n      <td>542500</td>\n      <td>181152</td>\n      <td>542439</td>\n      <td>181339</td>\n      <td>1.331750</td>\n      <td>3</td>\n    </tr>\n    <tr>\n      <th>4</th>\n      <td>541047</td>\n      <td>181103</td>\n      <td>540847</td>\n      <td>181294</td>\n      <td>1.419020</td>\n      <td>4</td>\n    </tr>\n    <tr>\n      <th>...</th>\n      <td>...</td>\n      <td>...</td>\n      <td>...</td>\n      <td>...</td>\n      <td>...</td>\n      <td>...</td>\n    </tr>\n    <tr>\n      <th>978</th>\n      <td>527028</td>\n      <td>181254</td>\n      <td>527172</td>\n      <td>181179</td>\n      <td>0.689337</td>\n      <td>978</td>\n    </tr>\n    <tr>\n      <th>979</th>\n      <td>526396</td>\n      <td>181129</td>\n      <td>526375</td>\n      <td>181042</td>\n      <td>0.484638</td>\n      <td>979</td>\n    </tr>\n    <tr>\n      <th>980</th>\n      <td>529921</td>\n      <td>178656</td>\n      <td>529758</td>\n      <td>178698</td>\n      <td>0.539208</td>\n      <td>980</td>\n    </tr>\n    <tr>\n      <th>981</th>\n      <td>529123</td>\n      <td>178488</td>\n      <td>529140</td>\n      <td>178401</td>\n      <td>0.363777</td>\n      <td>981</td>\n    </tr>\n    <tr>\n      <th>982</th>\n      <td>529464</td>\n      <td>178054</td>\n      <td>529488</td>\n      <td>178111</td>\n      <td>0.559636</td>\n      <td>982</td>\n    </tr>\n  </tbody>\n</table>\n<p>983 rows × 6 columns</p>\n</div>"
     },
     "execution_count": 146,
     "metadata": {},
     "output_type": "execute_result"
    }
   ],
   "source": [
    "df_extract_geo_json"
   ],
   "metadata": {
    "collapsed": false,
    "pycharm": {
     "name": "#%%\n"
    }
   }
  },
  {
   "cell_type": "code",
   "execution_count": 147,
   "outputs": [],
   "source": [
    "result=df.join(df_extract_geo_json, on='sourceid')"
   ],
   "metadata": {
    "collapsed": false,
    "pycharm": {
     "name": "#%%\n"
    }
   }
  },
  {
   "cell_type": "code",
   "execution_count": 148,
   "outputs": [
    {
     "data": {
      "text/plain": "      sourceid  dstid  dow  mean_travel_time  geoeast  geonorth  popeast  \\\n0           10    241    3           2334.43   542413    182380   542450   \n1           10    612    5           1529.83   542413    182380   542450   \n2           10    905    4           1390.04   542413    182380   542450   \n3           10    407    7            157.91   542413    182380   542450   \n4           10    603    4           1781.67   542413    182380   542450   \n...        ...    ...  ...               ...      ...       ...      ...   \n9825       657    207    6           1742.70   509284    182666   509368   \n9826       657    359    2           2693.21   509284    182666   509368   \n9827       657    656    7            298.18   509284    182666   509368   \n9828       657    540    7            312.27   509284    182666   509368   \n9829       657    560    1           1345.90   509284    182666   509368   \n\n      popnorth  area_km2 MOVEMENT_ID  \n0       182415  0.790802          10  \n1       182415  0.790802          10  \n2       182415  0.790802          10  \n3       182415  0.790802          10  \n4       182415  0.790802          10  \n...        ...       ...         ...  \n9825    182517  2.388420         657  \n9826    182517  2.388420         657  \n9827    182517  2.388420         657  \n9828    182517  2.388420         657  \n9829    182517  2.388420         657  \n\n[9830 rows x 10 columns]",
      "text/html": "<div>\n<style scoped>\n    .dataframe tbody tr th:only-of-type {\n        vertical-align: middle;\n    }\n\n    .dataframe tbody tr th {\n        vertical-align: top;\n    }\n\n    .dataframe thead th {\n        text-align: right;\n    }\n</style>\n<table border=\"1\" class=\"dataframe\">\n  <thead>\n    <tr style=\"text-align: right;\">\n      <th></th>\n      <th>sourceid</th>\n      <th>dstid</th>\n      <th>dow</th>\n      <th>mean_travel_time</th>\n      <th>geoeast</th>\n      <th>geonorth</th>\n      <th>popeast</th>\n      <th>popnorth</th>\n      <th>area_km2</th>\n      <th>MOVEMENT_ID</th>\n    </tr>\n  </thead>\n  <tbody>\n    <tr>\n      <th>0</th>\n      <td>10</td>\n      <td>241</td>\n      <td>3</td>\n      <td>2334.43</td>\n      <td>542413</td>\n      <td>182380</td>\n      <td>542450</td>\n      <td>182415</td>\n      <td>0.790802</td>\n      <td>10</td>\n    </tr>\n    <tr>\n      <th>1</th>\n      <td>10</td>\n      <td>612</td>\n      <td>5</td>\n      <td>1529.83</td>\n      <td>542413</td>\n      <td>182380</td>\n      <td>542450</td>\n      <td>182415</td>\n      <td>0.790802</td>\n      <td>10</td>\n    </tr>\n    <tr>\n      <th>2</th>\n      <td>10</td>\n      <td>905</td>\n      <td>4</td>\n      <td>1390.04</td>\n      <td>542413</td>\n      <td>182380</td>\n      <td>542450</td>\n      <td>182415</td>\n      <td>0.790802</td>\n      <td>10</td>\n    </tr>\n    <tr>\n      <th>3</th>\n      <td>10</td>\n      <td>407</td>\n      <td>7</td>\n      <td>157.91</td>\n      <td>542413</td>\n      <td>182380</td>\n      <td>542450</td>\n      <td>182415</td>\n      <td>0.790802</td>\n      <td>10</td>\n    </tr>\n    <tr>\n      <th>4</th>\n      <td>10</td>\n      <td>603</td>\n      <td>4</td>\n      <td>1781.67</td>\n      <td>542413</td>\n      <td>182380</td>\n      <td>542450</td>\n      <td>182415</td>\n      <td>0.790802</td>\n      <td>10</td>\n    </tr>\n    <tr>\n      <th>...</th>\n      <td>...</td>\n      <td>...</td>\n      <td>...</td>\n      <td>...</td>\n      <td>...</td>\n      <td>...</td>\n      <td>...</td>\n      <td>...</td>\n      <td>...</td>\n      <td>...</td>\n    </tr>\n    <tr>\n      <th>9825</th>\n      <td>657</td>\n      <td>207</td>\n      <td>6</td>\n      <td>1742.70</td>\n      <td>509284</td>\n      <td>182666</td>\n      <td>509368</td>\n      <td>182517</td>\n      <td>2.388420</td>\n      <td>657</td>\n    </tr>\n    <tr>\n      <th>9826</th>\n      <td>657</td>\n      <td>359</td>\n      <td>2</td>\n      <td>2693.21</td>\n      <td>509284</td>\n      <td>182666</td>\n      <td>509368</td>\n      <td>182517</td>\n      <td>2.388420</td>\n      <td>657</td>\n    </tr>\n    <tr>\n      <th>9827</th>\n      <td>657</td>\n      <td>656</td>\n      <td>7</td>\n      <td>298.18</td>\n      <td>509284</td>\n      <td>182666</td>\n      <td>509368</td>\n      <td>182517</td>\n      <td>2.388420</td>\n      <td>657</td>\n    </tr>\n    <tr>\n      <th>9828</th>\n      <td>657</td>\n      <td>540</td>\n      <td>7</td>\n      <td>312.27</td>\n      <td>509284</td>\n      <td>182666</td>\n      <td>509368</td>\n      <td>182517</td>\n      <td>2.388420</td>\n      <td>657</td>\n    </tr>\n    <tr>\n      <th>9829</th>\n      <td>657</td>\n      <td>560</td>\n      <td>1</td>\n      <td>1345.90</td>\n      <td>509284</td>\n      <td>182666</td>\n      <td>509368</td>\n      <td>182517</td>\n      <td>2.388420</td>\n      <td>657</td>\n    </tr>\n  </tbody>\n</table>\n<p>9830 rows × 10 columns</p>\n</div>"
     },
     "execution_count": 148,
     "metadata": {},
     "output_type": "execute_result"
    }
   ],
   "source": [
    "result"
   ],
   "metadata": {
    "collapsed": false,
    "pycharm": {
     "name": "#%%\n"
    }
   }
  },
  {
   "cell_type": "code",
   "execution_count": 149,
   "outputs": [],
   "source": [
    "result = result.rename(columns={'geoeast': 'src_geoeast', 'geonorth': 'src_geonorth', 'popeast': 'src_popeast', 'popnorth': 'src_popnorth', 'area_km2':'src_area'})"
   ],
   "metadata": {
    "collapsed": false,
    "pycharm": {
     "name": "#%%\n"
    }
   }
  },
  {
   "cell_type": "code",
   "execution_count": 150,
   "outputs": [],
   "source": [
    "result.drop('MOVEMENT_ID', inplace=True, axis=1)"
   ],
   "metadata": {
    "collapsed": false,
    "pycharm": {
     "name": "#%%\n"
    }
   }
  },
  {
   "cell_type": "code",
   "execution_count": 151,
   "outputs": [
    {
     "data": {
      "text/plain": "      sourceid  dstid  dow  mean_travel_time  src_geoeast  src_geonorth  \\\n0           10    241    3           2334.43       542413        182380   \n1           10    612    5           1529.83       542413        182380   \n2           10    905    4           1390.04       542413        182380   \n3           10    407    7            157.91       542413        182380   \n4           10    603    4           1781.67       542413        182380   \n...        ...    ...  ...               ...          ...           ...   \n9825       657    207    6           1742.70       509284        182666   \n9826       657    359    2           2693.21       509284        182666   \n9827       657    656    7            298.18       509284        182666   \n9828       657    540    7            312.27       509284        182666   \n9829       657    560    1           1345.90       509284        182666   \n\n      src_popeast  src_popnorth  src_area  \n0          542450        182415  0.790802  \n1          542450        182415  0.790802  \n2          542450        182415  0.790802  \n3          542450        182415  0.790802  \n4          542450        182415  0.790802  \n...           ...           ...       ...  \n9825       509368        182517  2.388420  \n9826       509368        182517  2.388420  \n9827       509368        182517  2.388420  \n9828       509368        182517  2.388420  \n9829       509368        182517  2.388420  \n\n[9830 rows x 9 columns]",
      "text/html": "<div>\n<style scoped>\n    .dataframe tbody tr th:only-of-type {\n        vertical-align: middle;\n    }\n\n    .dataframe tbody tr th {\n        vertical-align: top;\n    }\n\n    .dataframe thead th {\n        text-align: right;\n    }\n</style>\n<table border=\"1\" class=\"dataframe\">\n  <thead>\n    <tr style=\"text-align: right;\">\n      <th></th>\n      <th>sourceid</th>\n      <th>dstid</th>\n      <th>dow</th>\n      <th>mean_travel_time</th>\n      <th>src_geoeast</th>\n      <th>src_geonorth</th>\n      <th>src_popeast</th>\n      <th>src_popnorth</th>\n      <th>src_area</th>\n    </tr>\n  </thead>\n  <tbody>\n    <tr>\n      <th>0</th>\n      <td>10</td>\n      <td>241</td>\n      <td>3</td>\n      <td>2334.43</td>\n      <td>542413</td>\n      <td>182380</td>\n      <td>542450</td>\n      <td>182415</td>\n      <td>0.790802</td>\n    </tr>\n    <tr>\n      <th>1</th>\n      <td>10</td>\n      <td>612</td>\n      <td>5</td>\n      <td>1529.83</td>\n      <td>542413</td>\n      <td>182380</td>\n      <td>542450</td>\n      <td>182415</td>\n      <td>0.790802</td>\n    </tr>\n    <tr>\n      <th>2</th>\n      <td>10</td>\n      <td>905</td>\n      <td>4</td>\n      <td>1390.04</td>\n      <td>542413</td>\n      <td>182380</td>\n      <td>542450</td>\n      <td>182415</td>\n      <td>0.790802</td>\n    </tr>\n    <tr>\n      <th>3</th>\n      <td>10</td>\n      <td>407</td>\n      <td>7</td>\n      <td>157.91</td>\n      <td>542413</td>\n      <td>182380</td>\n      <td>542450</td>\n      <td>182415</td>\n      <td>0.790802</td>\n    </tr>\n    <tr>\n      <th>4</th>\n      <td>10</td>\n      <td>603</td>\n      <td>4</td>\n      <td>1781.67</td>\n      <td>542413</td>\n      <td>182380</td>\n      <td>542450</td>\n      <td>182415</td>\n      <td>0.790802</td>\n    </tr>\n    <tr>\n      <th>...</th>\n      <td>...</td>\n      <td>...</td>\n      <td>...</td>\n      <td>...</td>\n      <td>...</td>\n      <td>...</td>\n      <td>...</td>\n      <td>...</td>\n      <td>...</td>\n    </tr>\n    <tr>\n      <th>9825</th>\n      <td>657</td>\n      <td>207</td>\n      <td>6</td>\n      <td>1742.70</td>\n      <td>509284</td>\n      <td>182666</td>\n      <td>509368</td>\n      <td>182517</td>\n      <td>2.388420</td>\n    </tr>\n    <tr>\n      <th>9826</th>\n      <td>657</td>\n      <td>359</td>\n      <td>2</td>\n      <td>2693.21</td>\n      <td>509284</td>\n      <td>182666</td>\n      <td>509368</td>\n      <td>182517</td>\n      <td>2.388420</td>\n    </tr>\n    <tr>\n      <th>9827</th>\n      <td>657</td>\n      <td>656</td>\n      <td>7</td>\n      <td>298.18</td>\n      <td>509284</td>\n      <td>182666</td>\n      <td>509368</td>\n      <td>182517</td>\n      <td>2.388420</td>\n    </tr>\n    <tr>\n      <th>9828</th>\n      <td>657</td>\n      <td>540</td>\n      <td>7</td>\n      <td>312.27</td>\n      <td>509284</td>\n      <td>182666</td>\n      <td>509368</td>\n      <td>182517</td>\n      <td>2.388420</td>\n    </tr>\n    <tr>\n      <th>9829</th>\n      <td>657</td>\n      <td>560</td>\n      <td>1</td>\n      <td>1345.90</td>\n      <td>509284</td>\n      <td>182666</td>\n      <td>509368</td>\n      <td>182517</td>\n      <td>2.388420</td>\n    </tr>\n  </tbody>\n</table>\n<p>9830 rows × 9 columns</p>\n</div>"
     },
     "execution_count": 151,
     "metadata": {},
     "output_type": "execute_result"
    }
   ],
   "source": [
    "result"
   ],
   "metadata": {
    "collapsed": false,
    "pycharm": {
     "name": "#%%\n"
    }
   }
  },
  {
   "cell_type": "code",
   "execution_count": 152,
   "outputs": [],
   "source": [
    "result_2=result.join(df_extract_geo_json, on='dstid')"
   ],
   "metadata": {
    "collapsed": false,
    "pycharm": {
     "name": "#%%\n"
    }
   }
  },
  {
   "cell_type": "code",
   "execution_count": 153,
   "outputs": [
    {
     "data": {
      "text/plain": "      sourceid  dstid  dow  mean_travel_time  src_geoeast  src_geonorth  \\\n0           10    241    3           2334.43       542413        182380   \n1           10    612    5           1529.83       542413        182380   \n2           10    905    4           1390.04       542413        182380   \n3           10    407    7            157.91       542413        182380   \n4           10    603    4           1781.67       542413        182380   \n...        ...    ...  ...               ...          ...           ...   \n9825       657    207    6           1742.70       509284        182666   \n9826       657    359    2           2693.21       509284        182666   \n9827       657    656    7            298.18       509284        182666   \n9828       657    540    7            312.27       509284        182666   \n9829       657    560    1           1345.90       509284        182666   \n\n      src_popeast  src_popnorth  src_area  geoeast  geonorth  popeast  \\\n0          542450        182415  0.790802   530851    174285   530876   \n1          542450        182415  0.790802   551347    192721   550534   \n2          542450        182415  0.790802   535060    178641   535009   \n3          542450        182415  0.790802   544366    183515   544543   \n4          542450        182415  0.790802   532416    197315   532432   \n...           ...           ...       ...      ...       ...      ...   \n9825       509368        182517  2.388420   523999    180757   524025   \n9826       509368        182517  2.388420   529177    181229   529175   \n9827       509368        182517  2.388420   507078    182644   507235   \n9828       509368        182517  2.388420   511046    183262   511310   \n9829       509368        182517  2.388420   516302    180206   516346   \n\n      popnorth  area_km2  \n0       174289  0.584104  \n1       191931  6.279430  \n2       178663  0.662274  \n3       183531  0.796626  \n4       197391  1.282990  \n...        ...       ...  \n9825    180791  0.431376  \n9826    181482  1.292420  \n9827    182827  2.130680  \n9828    183074  2.057230  \n9829    180172  1.013690  \n\n[9830 rows x 14 columns]",
      "text/html": "<div>\n<style scoped>\n    .dataframe tbody tr th:only-of-type {\n        vertical-align: middle;\n    }\n\n    .dataframe tbody tr th {\n        vertical-align: top;\n    }\n\n    .dataframe thead th {\n        text-align: right;\n    }\n</style>\n<table border=\"1\" class=\"dataframe\">\n  <thead>\n    <tr style=\"text-align: right;\">\n      <th></th>\n      <th>sourceid</th>\n      <th>dstid</th>\n      <th>dow</th>\n      <th>mean_travel_time</th>\n      <th>src_geoeast</th>\n      <th>src_geonorth</th>\n      <th>src_popeast</th>\n      <th>src_popnorth</th>\n      <th>src_area</th>\n      <th>geoeast</th>\n      <th>geonorth</th>\n      <th>popeast</th>\n      <th>popnorth</th>\n      <th>area_km2</th>\n    </tr>\n  </thead>\n  <tbody>\n    <tr>\n      <th>0</th>\n      <td>10</td>\n      <td>241</td>\n      <td>3</td>\n      <td>2334.43</td>\n      <td>542413</td>\n      <td>182380</td>\n      <td>542450</td>\n      <td>182415</td>\n      <td>0.790802</td>\n      <td>530851</td>\n      <td>174285</td>\n      <td>530876</td>\n      <td>174289</td>\n      <td>0.584104</td>\n    </tr>\n    <tr>\n      <th>1</th>\n      <td>10</td>\n      <td>612</td>\n      <td>5</td>\n      <td>1529.83</td>\n      <td>542413</td>\n      <td>182380</td>\n      <td>542450</td>\n      <td>182415</td>\n      <td>0.790802</td>\n      <td>551347</td>\n      <td>192721</td>\n      <td>550534</td>\n      <td>191931</td>\n      <td>6.279430</td>\n    </tr>\n    <tr>\n      <th>2</th>\n      <td>10</td>\n      <td>905</td>\n      <td>4</td>\n      <td>1390.04</td>\n      <td>542413</td>\n      <td>182380</td>\n      <td>542450</td>\n      <td>182415</td>\n      <td>0.790802</td>\n      <td>535060</td>\n      <td>178641</td>\n      <td>535009</td>\n      <td>178663</td>\n      <td>0.662274</td>\n    </tr>\n    <tr>\n      <th>3</th>\n      <td>10</td>\n      <td>407</td>\n      <td>7</td>\n      <td>157.91</td>\n      <td>542413</td>\n      <td>182380</td>\n      <td>542450</td>\n      <td>182415</td>\n      <td>0.790802</td>\n      <td>544366</td>\n      <td>183515</td>\n      <td>544543</td>\n      <td>183531</td>\n      <td>0.796626</td>\n    </tr>\n    <tr>\n      <th>4</th>\n      <td>10</td>\n      <td>603</td>\n      <td>4</td>\n      <td>1781.67</td>\n      <td>542413</td>\n      <td>182380</td>\n      <td>542450</td>\n      <td>182415</td>\n      <td>0.790802</td>\n      <td>532416</td>\n      <td>197315</td>\n      <td>532432</td>\n      <td>197391</td>\n      <td>1.282990</td>\n    </tr>\n    <tr>\n      <th>...</th>\n      <td>...</td>\n      <td>...</td>\n      <td>...</td>\n      <td>...</td>\n      <td>...</td>\n      <td>...</td>\n      <td>...</td>\n      <td>...</td>\n      <td>...</td>\n      <td>...</td>\n      <td>...</td>\n      <td>...</td>\n      <td>...</td>\n      <td>...</td>\n    </tr>\n    <tr>\n      <th>9825</th>\n      <td>657</td>\n      <td>207</td>\n      <td>6</td>\n      <td>1742.70</td>\n      <td>509284</td>\n      <td>182666</td>\n      <td>509368</td>\n      <td>182517</td>\n      <td>2.388420</td>\n      <td>523999</td>\n      <td>180757</td>\n      <td>524025</td>\n      <td>180791</td>\n      <td>0.431376</td>\n    </tr>\n    <tr>\n      <th>9826</th>\n      <td>657</td>\n      <td>359</td>\n      <td>2</td>\n      <td>2693.21</td>\n      <td>509284</td>\n      <td>182666</td>\n      <td>509368</td>\n      <td>182517</td>\n      <td>2.388420</td>\n      <td>529177</td>\n      <td>181229</td>\n      <td>529175</td>\n      <td>181482</td>\n      <td>1.292420</td>\n    </tr>\n    <tr>\n      <th>9827</th>\n      <td>657</td>\n      <td>656</td>\n      <td>7</td>\n      <td>298.18</td>\n      <td>509284</td>\n      <td>182666</td>\n      <td>509368</td>\n      <td>182517</td>\n      <td>2.388420</td>\n      <td>507078</td>\n      <td>182644</td>\n      <td>507235</td>\n      <td>182827</td>\n      <td>2.130680</td>\n    </tr>\n    <tr>\n      <th>9828</th>\n      <td>657</td>\n      <td>540</td>\n      <td>7</td>\n      <td>312.27</td>\n      <td>509284</td>\n      <td>182666</td>\n      <td>509368</td>\n      <td>182517</td>\n      <td>2.388420</td>\n      <td>511046</td>\n      <td>183262</td>\n      <td>511310</td>\n      <td>183074</td>\n      <td>2.057230</td>\n    </tr>\n    <tr>\n      <th>9829</th>\n      <td>657</td>\n      <td>560</td>\n      <td>1</td>\n      <td>1345.90</td>\n      <td>509284</td>\n      <td>182666</td>\n      <td>509368</td>\n      <td>182517</td>\n      <td>2.388420</td>\n      <td>516302</td>\n      <td>180206</td>\n      <td>516346</td>\n      <td>180172</td>\n      <td>1.013690</td>\n    </tr>\n  </tbody>\n</table>\n<p>9830 rows × 14 columns</p>\n</div>"
     },
     "execution_count": 153,
     "metadata": {},
     "output_type": "execute_result"
    }
   ],
   "source": [
    "result_2.drop('MOVEMENT_ID', inplace=True, axis=1)\n",
    "result_2"
   ],
   "metadata": {
    "collapsed": false,
    "pycharm": {
     "name": "#%%\n"
    }
   }
  },
  {
   "cell_type": "code",
   "execution_count": 154,
   "outputs": [],
   "source": [
    "result_2 = result_2.rename(columns={'geoeast': 'dst_geoeast', 'geonorth': 'dst_geonorth', 'popeast': 'dst_popeast', 'popnorth': 'dst_popnorth', 'area_km2':'dst_area'})"
   ],
   "metadata": {
    "collapsed": false,
    "pycharm": {
     "name": "#%%\n"
    }
   }
  },
  {
   "cell_type": "code",
   "execution_count": 155,
   "outputs": [],
   "source": [
    "\n",
    "result_2['geo_distance'] = np.sqrt(((result_2['src_geoeast'] - result_2['dst_geoeast'])**2) + (result_2['src_geonorth'] - result_2['dst_geonorth'])**2)"
   ],
   "metadata": {
    "collapsed": false,
    "pycharm": {
     "name": "#%%\n"
    }
   }
  },
  {
   "cell_type": "code",
   "execution_count": 156,
   "outputs": [
    {
     "data": {
      "text/plain": "      sourceid  dstid  dow  mean_travel_time  src_geoeast  src_geonorth  \\\n0           10    241    3           2334.43       542413        182380   \n1           10    612    5           1529.83       542413        182380   \n2           10    905    4           1390.04       542413        182380   \n3           10    407    7            157.91       542413        182380   \n4           10    603    4           1781.67       542413        182380   \n...        ...    ...  ...               ...          ...           ...   \n9825       657    207    6           1742.70       509284        182666   \n9826       657    359    2           2693.21       509284        182666   \n9827       657    656    7            298.18       509284        182666   \n9828       657    540    7            312.27       509284        182666   \n9829       657    560    1           1345.90       509284        182666   \n\n      src_popeast  src_popnorth  src_area  dst_geoeast  dst_geonorth  \\\n0          542450        182415  0.790802       530851        174285   \n1          542450        182415  0.790802       551347        192721   \n2          542450        182415  0.790802       535060        178641   \n3          542450        182415  0.790802       544366        183515   \n4          542450        182415  0.790802       532416        197315   \n...           ...           ...       ...          ...           ...   \n9825       509368        182517  2.388420       523999        180757   \n9826       509368        182517  2.388420       529177        181229   \n9827       509368        182517  2.388420       507078        182644   \n9828       509368        182517  2.388420       511046        183262   \n9829       509368        182517  2.388420       516302        180206   \n\n      dst_popeast  dst_popnorth  dst_area  geo_distance  \n0          530876        174289  0.584104  14114.137204  \n1          550534        191931  6.279430  13665.746851  \n2          535009        178663  0.662274   8249.044187  \n3          544543        183531  0.796626   2258.856791  \n4          532432        197391  1.282990  17972.040340  \n...           ...           ...       ...           ...  \n9825       524025        180791  0.431376  14838.312101  \n9826       529175        181482  1.292420  19944.834369  \n9827       507235        182827  2.130680   2206.109698  \n9828       511310        183074  2.057230   1860.069891  \n9829       516346        180172  1.013690   7436.660810  \n\n[9830 rows x 15 columns]",
      "text/html": "<div>\n<style scoped>\n    .dataframe tbody tr th:only-of-type {\n        vertical-align: middle;\n    }\n\n    .dataframe tbody tr th {\n        vertical-align: top;\n    }\n\n    .dataframe thead th {\n        text-align: right;\n    }\n</style>\n<table border=\"1\" class=\"dataframe\">\n  <thead>\n    <tr style=\"text-align: right;\">\n      <th></th>\n      <th>sourceid</th>\n      <th>dstid</th>\n      <th>dow</th>\n      <th>mean_travel_time</th>\n      <th>src_geoeast</th>\n      <th>src_geonorth</th>\n      <th>src_popeast</th>\n      <th>src_popnorth</th>\n      <th>src_area</th>\n      <th>dst_geoeast</th>\n      <th>dst_geonorth</th>\n      <th>dst_popeast</th>\n      <th>dst_popnorth</th>\n      <th>dst_area</th>\n      <th>geo_distance</th>\n    </tr>\n  </thead>\n  <tbody>\n    <tr>\n      <th>0</th>\n      <td>10</td>\n      <td>241</td>\n      <td>3</td>\n      <td>2334.43</td>\n      <td>542413</td>\n      <td>182380</td>\n      <td>542450</td>\n      <td>182415</td>\n      <td>0.790802</td>\n      <td>530851</td>\n      <td>174285</td>\n      <td>530876</td>\n      <td>174289</td>\n      <td>0.584104</td>\n      <td>14114.137204</td>\n    </tr>\n    <tr>\n      <th>1</th>\n      <td>10</td>\n      <td>612</td>\n      <td>5</td>\n      <td>1529.83</td>\n      <td>542413</td>\n      <td>182380</td>\n      <td>542450</td>\n      <td>182415</td>\n      <td>0.790802</td>\n      <td>551347</td>\n      <td>192721</td>\n      <td>550534</td>\n      <td>191931</td>\n      <td>6.279430</td>\n      <td>13665.746851</td>\n    </tr>\n    <tr>\n      <th>2</th>\n      <td>10</td>\n      <td>905</td>\n      <td>4</td>\n      <td>1390.04</td>\n      <td>542413</td>\n      <td>182380</td>\n      <td>542450</td>\n      <td>182415</td>\n      <td>0.790802</td>\n      <td>535060</td>\n      <td>178641</td>\n      <td>535009</td>\n      <td>178663</td>\n      <td>0.662274</td>\n      <td>8249.044187</td>\n    </tr>\n    <tr>\n      <th>3</th>\n      <td>10</td>\n      <td>407</td>\n      <td>7</td>\n      <td>157.91</td>\n      <td>542413</td>\n      <td>182380</td>\n      <td>542450</td>\n      <td>182415</td>\n      <td>0.790802</td>\n      <td>544366</td>\n      <td>183515</td>\n      <td>544543</td>\n      <td>183531</td>\n      <td>0.796626</td>\n      <td>2258.856791</td>\n    </tr>\n    <tr>\n      <th>4</th>\n      <td>10</td>\n      <td>603</td>\n      <td>4</td>\n      <td>1781.67</td>\n      <td>542413</td>\n      <td>182380</td>\n      <td>542450</td>\n      <td>182415</td>\n      <td>0.790802</td>\n      <td>532416</td>\n      <td>197315</td>\n      <td>532432</td>\n      <td>197391</td>\n      <td>1.282990</td>\n      <td>17972.040340</td>\n    </tr>\n    <tr>\n      <th>...</th>\n      <td>...</td>\n      <td>...</td>\n      <td>...</td>\n      <td>...</td>\n      <td>...</td>\n      <td>...</td>\n      <td>...</td>\n      <td>...</td>\n      <td>...</td>\n      <td>...</td>\n      <td>...</td>\n      <td>...</td>\n      <td>...</td>\n      <td>...</td>\n      <td>...</td>\n    </tr>\n    <tr>\n      <th>9825</th>\n      <td>657</td>\n      <td>207</td>\n      <td>6</td>\n      <td>1742.70</td>\n      <td>509284</td>\n      <td>182666</td>\n      <td>509368</td>\n      <td>182517</td>\n      <td>2.388420</td>\n      <td>523999</td>\n      <td>180757</td>\n      <td>524025</td>\n      <td>180791</td>\n      <td>0.431376</td>\n      <td>14838.312101</td>\n    </tr>\n    <tr>\n      <th>9826</th>\n      <td>657</td>\n      <td>359</td>\n      <td>2</td>\n      <td>2693.21</td>\n      <td>509284</td>\n      <td>182666</td>\n      <td>509368</td>\n      <td>182517</td>\n      <td>2.388420</td>\n      <td>529177</td>\n      <td>181229</td>\n      <td>529175</td>\n      <td>181482</td>\n      <td>1.292420</td>\n      <td>19944.834369</td>\n    </tr>\n    <tr>\n      <th>9827</th>\n      <td>657</td>\n      <td>656</td>\n      <td>7</td>\n      <td>298.18</td>\n      <td>509284</td>\n      <td>182666</td>\n      <td>509368</td>\n      <td>182517</td>\n      <td>2.388420</td>\n      <td>507078</td>\n      <td>182644</td>\n      <td>507235</td>\n      <td>182827</td>\n      <td>2.130680</td>\n      <td>2206.109698</td>\n    </tr>\n    <tr>\n      <th>9828</th>\n      <td>657</td>\n      <td>540</td>\n      <td>7</td>\n      <td>312.27</td>\n      <td>509284</td>\n      <td>182666</td>\n      <td>509368</td>\n      <td>182517</td>\n      <td>2.388420</td>\n      <td>511046</td>\n      <td>183262</td>\n      <td>511310</td>\n      <td>183074</td>\n      <td>2.057230</td>\n      <td>1860.069891</td>\n    </tr>\n    <tr>\n      <th>9829</th>\n      <td>657</td>\n      <td>560</td>\n      <td>1</td>\n      <td>1345.90</td>\n      <td>509284</td>\n      <td>182666</td>\n      <td>509368</td>\n      <td>182517</td>\n      <td>2.388420</td>\n      <td>516302</td>\n      <td>180206</td>\n      <td>516346</td>\n      <td>180172</td>\n      <td>1.013690</td>\n      <td>7436.660810</td>\n    </tr>\n  </tbody>\n</table>\n<p>9830 rows × 15 columns</p>\n</div>"
     },
     "execution_count": 156,
     "metadata": {},
     "output_type": "execute_result"
    }
   ],
   "source": [
    "result_2"
   ],
   "metadata": {
    "collapsed": false,
    "pycharm": {
     "name": "#%%\n"
    }
   }
  },
  {
   "cell_type": "code",
   "execution_count": 157,
   "outputs": [],
   "source": [
    "result_2['pop_distance'] = np.sqrt(((result_2['src_popeast'] - result_2['dst_popeast'])**2) + (result_2['src_popnorth'] - result_2['dst_popnorth'])**2)"
   ],
   "metadata": {
    "collapsed": false,
    "pycharm": {
     "name": "#%%\n"
    }
   }
  },
  {
   "cell_type": "code",
   "execution_count": 158,
   "outputs": [
    {
     "data": {
      "text/plain": "      sourceid  dstid  dow  mean_travel_time  src_geoeast  src_geonorth  \\\n0           10    241    3           2334.43       542413        182380   \n1           10    612    5           1529.83       542413        182380   \n2           10    905    4           1390.04       542413        182380   \n3           10    407    7            157.91       542413        182380   \n4           10    603    4           1781.67       542413        182380   \n...        ...    ...  ...               ...          ...           ...   \n9825       657    207    6           1742.70       509284        182666   \n9826       657    359    2           2693.21       509284        182666   \n9827       657    656    7            298.18       509284        182666   \n9828       657    540    7            312.27       509284        182666   \n9829       657    560    1           1345.90       509284        182666   \n\n      src_popeast  src_popnorth  src_area  dst_geoeast  dst_geonorth  \\\n0          542450        182415  0.790802       530851        174285   \n1          542450        182415  0.790802       551347        192721   \n2          542450        182415  0.790802       535060        178641   \n3          542450        182415  0.790802       544366        183515   \n4          542450        182415  0.790802       532416        197315   \n...           ...           ...       ...          ...           ...   \n9825       509368        182517  2.388420       523999        180757   \n9826       509368        182517  2.388420       529177        181229   \n9827       509368        182517  2.388420       507078        182644   \n9828       509368        182517  2.388420       511046        183262   \n9829       509368        182517  2.388420       516302        180206   \n\n      dst_popeast  dst_popnorth  dst_area  geo_distance  pop_distance  \n0          530876        174289  0.584104  14114.137204  14141.759155  \n1          550534        191931  6.279430  13665.746851  12486.204868  \n2          535009        178663  0.662274   8249.044187   8333.425766  \n3          544543        183531  0.796626   2258.856791   2371.941188  \n4          532432        197391  1.282990  17972.040340  18017.793983  \n...           ...           ...       ...           ...           ...  \n9825       524025        180791  0.431376  14838.312101  14758.276492  \n9826       529175        181482  1.292420  19944.834369  19834.023142  \n9827       507235        182827  2.130680   2206.109698   2155.409242  \n9828       511310        183074  2.057230   1860.069891   2020.300225  \n9829       516346        180172  1.013690   7436.660810   7361.488233  \n\n[9830 rows x 16 columns]",
      "text/html": "<div>\n<style scoped>\n    .dataframe tbody tr th:only-of-type {\n        vertical-align: middle;\n    }\n\n    .dataframe tbody tr th {\n        vertical-align: top;\n    }\n\n    .dataframe thead th {\n        text-align: right;\n    }\n</style>\n<table border=\"1\" class=\"dataframe\">\n  <thead>\n    <tr style=\"text-align: right;\">\n      <th></th>\n      <th>sourceid</th>\n      <th>dstid</th>\n      <th>dow</th>\n      <th>mean_travel_time</th>\n      <th>src_geoeast</th>\n      <th>src_geonorth</th>\n      <th>src_popeast</th>\n      <th>src_popnorth</th>\n      <th>src_area</th>\n      <th>dst_geoeast</th>\n      <th>dst_geonorth</th>\n      <th>dst_popeast</th>\n      <th>dst_popnorth</th>\n      <th>dst_area</th>\n      <th>geo_distance</th>\n      <th>pop_distance</th>\n    </tr>\n  </thead>\n  <tbody>\n    <tr>\n      <th>0</th>\n      <td>10</td>\n      <td>241</td>\n      <td>3</td>\n      <td>2334.43</td>\n      <td>542413</td>\n      <td>182380</td>\n      <td>542450</td>\n      <td>182415</td>\n      <td>0.790802</td>\n      <td>530851</td>\n      <td>174285</td>\n      <td>530876</td>\n      <td>174289</td>\n      <td>0.584104</td>\n      <td>14114.137204</td>\n      <td>14141.759155</td>\n    </tr>\n    <tr>\n      <th>1</th>\n      <td>10</td>\n      <td>612</td>\n      <td>5</td>\n      <td>1529.83</td>\n      <td>542413</td>\n      <td>182380</td>\n      <td>542450</td>\n      <td>182415</td>\n      <td>0.790802</td>\n      <td>551347</td>\n      <td>192721</td>\n      <td>550534</td>\n      <td>191931</td>\n      <td>6.279430</td>\n      <td>13665.746851</td>\n      <td>12486.204868</td>\n    </tr>\n    <tr>\n      <th>2</th>\n      <td>10</td>\n      <td>905</td>\n      <td>4</td>\n      <td>1390.04</td>\n      <td>542413</td>\n      <td>182380</td>\n      <td>542450</td>\n      <td>182415</td>\n      <td>0.790802</td>\n      <td>535060</td>\n      <td>178641</td>\n      <td>535009</td>\n      <td>178663</td>\n      <td>0.662274</td>\n      <td>8249.044187</td>\n      <td>8333.425766</td>\n    </tr>\n    <tr>\n      <th>3</th>\n      <td>10</td>\n      <td>407</td>\n      <td>7</td>\n      <td>157.91</td>\n      <td>542413</td>\n      <td>182380</td>\n      <td>542450</td>\n      <td>182415</td>\n      <td>0.790802</td>\n      <td>544366</td>\n      <td>183515</td>\n      <td>544543</td>\n      <td>183531</td>\n      <td>0.796626</td>\n      <td>2258.856791</td>\n      <td>2371.941188</td>\n    </tr>\n    <tr>\n      <th>4</th>\n      <td>10</td>\n      <td>603</td>\n      <td>4</td>\n      <td>1781.67</td>\n      <td>542413</td>\n      <td>182380</td>\n      <td>542450</td>\n      <td>182415</td>\n      <td>0.790802</td>\n      <td>532416</td>\n      <td>197315</td>\n      <td>532432</td>\n      <td>197391</td>\n      <td>1.282990</td>\n      <td>17972.040340</td>\n      <td>18017.793983</td>\n    </tr>\n    <tr>\n      <th>...</th>\n      <td>...</td>\n      <td>...</td>\n      <td>...</td>\n      <td>...</td>\n      <td>...</td>\n      <td>...</td>\n      <td>...</td>\n      <td>...</td>\n      <td>...</td>\n      <td>...</td>\n      <td>...</td>\n      <td>...</td>\n      <td>...</td>\n      <td>...</td>\n      <td>...</td>\n      <td>...</td>\n    </tr>\n    <tr>\n      <th>9825</th>\n      <td>657</td>\n      <td>207</td>\n      <td>6</td>\n      <td>1742.70</td>\n      <td>509284</td>\n      <td>182666</td>\n      <td>509368</td>\n      <td>182517</td>\n      <td>2.388420</td>\n      <td>523999</td>\n      <td>180757</td>\n      <td>524025</td>\n      <td>180791</td>\n      <td>0.431376</td>\n      <td>14838.312101</td>\n      <td>14758.276492</td>\n    </tr>\n    <tr>\n      <th>9826</th>\n      <td>657</td>\n      <td>359</td>\n      <td>2</td>\n      <td>2693.21</td>\n      <td>509284</td>\n      <td>182666</td>\n      <td>509368</td>\n      <td>182517</td>\n      <td>2.388420</td>\n      <td>529177</td>\n      <td>181229</td>\n      <td>529175</td>\n      <td>181482</td>\n      <td>1.292420</td>\n      <td>19944.834369</td>\n      <td>19834.023142</td>\n    </tr>\n    <tr>\n      <th>9827</th>\n      <td>657</td>\n      <td>656</td>\n      <td>7</td>\n      <td>298.18</td>\n      <td>509284</td>\n      <td>182666</td>\n      <td>509368</td>\n      <td>182517</td>\n      <td>2.388420</td>\n      <td>507078</td>\n      <td>182644</td>\n      <td>507235</td>\n      <td>182827</td>\n      <td>2.130680</td>\n      <td>2206.109698</td>\n      <td>2155.409242</td>\n    </tr>\n    <tr>\n      <th>9828</th>\n      <td>657</td>\n      <td>540</td>\n      <td>7</td>\n      <td>312.27</td>\n      <td>509284</td>\n      <td>182666</td>\n      <td>509368</td>\n      <td>182517</td>\n      <td>2.388420</td>\n      <td>511046</td>\n      <td>183262</td>\n      <td>511310</td>\n      <td>183074</td>\n      <td>2.057230</td>\n      <td>1860.069891</td>\n      <td>2020.300225</td>\n    </tr>\n    <tr>\n      <th>9829</th>\n      <td>657</td>\n      <td>560</td>\n      <td>1</td>\n      <td>1345.90</td>\n      <td>509284</td>\n      <td>182666</td>\n      <td>509368</td>\n      <td>182517</td>\n      <td>2.388420</td>\n      <td>516302</td>\n      <td>180206</td>\n      <td>516346</td>\n      <td>180172</td>\n      <td>1.013690</td>\n      <td>7436.660810</td>\n      <td>7361.488233</td>\n    </tr>\n  </tbody>\n</table>\n<p>9830 rows × 16 columns</p>\n</div>"
     },
     "execution_count": 158,
     "metadata": {},
     "output_type": "execute_result"
    }
   ],
   "source": [
    "result_2"
   ],
   "metadata": {
    "collapsed": false,
    "pycharm": {
     "name": "#%%\n"
    }
   }
  },
  {
   "cell_type": "code",
   "execution_count": 159,
   "outputs": [],
   "source": [
    "x = result_2[['dow', 'geo_distance', 'pop_distance','src_area', 'dst_area']]\n",
    "y = result_2['mean_travel_time']"
   ],
   "metadata": {
    "collapsed": false,
    "pycharm": {
     "name": "#%%\n"
    }
   }
  },
  {
   "cell_type": "code",
   "execution_count": 160,
   "outputs": [
    {
     "data": {
      "text/plain": "129397.55868006601"
     },
     "execution_count": 160,
     "metadata": {},
     "output_type": "execute_result"
    }
   ],
   "source": [
    "from sklearn.model_selection import train_test_split\n",
    "\n",
    "x_train, x_test, y_train, y_test = train_test_split(x, y, test_size=0.3, random_state=123)\n",
    "from sklearn.ensemble import RandomForestRegressor\n",
    "\n",
    "rf = RandomForestRegressor(random_state=123)\n",
    "rf.fit(x_train, y_train)\n",
    "y_pred = rf.predict(x_test)\n",
    "\n",
    "from sklearn.metrics import mean_squared_error\n",
    "mse = mean_squared_error(y_test, y_pred)\n",
    "mse"
   ],
   "metadata": {
    "collapsed": false,
    "pycharm": {
     "name": "#%%\n"
    }
   }
  },
  {
   "cell_type": "code",
   "execution_count": 161,
   "outputs": [
    {
     "data": {
      "text/plain": "<AxesSubplot:ylabel='mean_travel_time'>"
     },
     "execution_count": 161,
     "metadata": {},
     "output_type": "execute_result"
    },
    {
     "data": {
      "text/plain": "<Figure size 432x288 with 1 Axes>",
      "image/png": "[encoded data removed]"
     },
     "metadata": {
      "needs_background": "light"
     },
     "output_type": "display_data"
    }
   ],
   "source": [
    "import seaborn as sns\n",
    "sns.scatterplot(x=y_pred, y=y_test)"
   ],
   "metadata": {
    "collapsed": false,
    "pycharm": {
     "name": "#%%\n"
    }
   }
  },
  {
   "cell_type": "code",
   "execution_count": 162,
   "outputs": [
    {
     "data": {
      "text/plain": "117278.48380204015"
     },
     "execution_count": 162,
     "metadata": {},
     "output_type": "execute_result"
    }
   ],
   "source": [
    "\n",
    "from sklearn.model_selection import train_test_split\n",
    "from xgboost import XGBRegressor\n",
    "\n",
    "x_train, x_test, y_train, y_test = train_test_split(x, y, test_size=0.3, random_state=123)\n",
    "xgb = XGBRegressor(random_state=123)\n",
    "xgb.fit(x_train, y_train)\n",
    "result = xgb.predict(x_test)\n",
    "\n",
    "mse = mean_squared_error(y_test, result)\n",
    "mse"
   ],
   "metadata": {
    "collapsed": false,
    "pycharm": {
     "name": "#%%\n"
    }
   }
  },
  {
   "cell_type": "code",
   "execution_count": 163,
   "outputs": [],
   "source": [
    "result_2.drop(['sourceid', 'dstid'], axis=1, inplace=True)"
   ],
   "metadata": {
    "collapsed": false,
    "pycharm": {
     "name": "#%%\n"
    }
   }
  },
  {
   "cell_type": "code",
   "execution_count": 164,
   "outputs": [
    {
     "data": {
      "text/plain": "      dow  mean_travel_time  src_geoeast  src_geonorth  src_popeast  \\\n0       3           2334.43       542413        182380       542450   \n1       5           1529.83       542413        182380       542450   \n2       4           1390.04       542413        182380       542450   \n3       7            157.91       542413        182380       542450   \n4       4           1781.67       542413        182380       542450   \n...   ...               ...          ...           ...          ...   \n9825    6           1742.70       509284        182666       509368   \n9826    2           2693.21       509284        182666       509368   \n9827    7            298.18       509284        182666       509368   \n9828    7            312.27       509284        182666       509368   \n9829    1           1345.90       509284        182666       509368   \n\n      src_popnorth  src_area  dst_geoeast  dst_geonorth  dst_popeast  \\\n0           182415  0.790802       530851        174285       530876   \n1           182415  0.790802       551347        192721       550534   \n2           182415  0.790802       535060        178641       535009   \n3           182415  0.790802       544366        183515       544543   \n4           182415  0.790802       532416        197315       532432   \n...            ...       ...          ...           ...          ...   \n9825        182517  2.388420       523999        180757       524025   \n9826        182517  2.388420       529177        181229       529175   \n9827        182517  2.388420       507078        182644       507235   \n9828        182517  2.388420       511046        183262       511310   \n9829        182517  2.388420       516302        180206       516346   \n\n      dst_popnorth  dst_area  geo_distance  pop_distance  \n0           174289  0.584104  14114.137204  14141.759155  \n1           191931  6.279430  13665.746851  12486.204868  \n2           178663  0.662274   8249.044187   8333.425766  \n3           183531  0.796626   2258.856791   2371.941188  \n4           197391  1.282990  17972.040340  18017.793983  \n...            ...       ...           ...           ...  \n9825        180791  0.431376  14838.312101  14758.276492  \n9826        181482  1.292420  19944.834369  19834.023142  \n9827        182827  2.130680   2206.109698   2155.409242  \n9828        183074  2.057230   1860.069891   2020.300225  \n9829        180172  1.013690   7436.660810   7361.488233  \n\n[9830 rows x 14 columns]",
      "text/html": "<div>\n<style scoped>\n    .dataframe tbody tr th:only-of-type {\n        vertical-align: middle;\n    }\n\n    .dataframe tbody tr th {\n        vertical-align: top;\n    }\n\n    .dataframe thead th {\n        text-align: right;\n    }\n</style>\n<table border=\"1\" class=\"dataframe\">\n  <thead>\n    <tr style=\"text-align: right;\">\n      <th></th>\n      <th>dow</th>\n      <th>mean_travel_time</th>\n      <th>src_geoeast</th>\n      <th>src_geonorth</th>\n      <th>src_popeast</th>\n      <th>src_popnorth</th>\n      <th>src_area</th>\n      <th>dst_geoeast</th>\n      <th>dst_geonorth</th>\n      <th>dst_popeast</th>\n      <th>dst_popnorth</th>\n      <th>dst_area</th>\n      <th>geo_distance</th>\n      <th>pop_distance</th>\n    </tr>\n  </thead>\n  <tbody>\n    <tr>\n      <th>0</th>\n      <td>3</td>\n      <td>2334.43</td>\n      <td>542413</td>\n      <td>182380</td>\n      <td>542450</td>\n      <td>182415</td>\n      <td>0.790802</td>\n      <td>530851</td>\n      <td>174285</td>\n      <td>530876</td>\n      <td>174289</td>\n      <td>0.584104</td>\n      <td>14114.137204</td>\n      <td>14141.759155</td>\n    </tr>\n    <tr>\n      <th>1</th>\n      <td>5</td>\n      <td>1529.83</td>\n      <td>542413</td>\n      <td>182380</td>\n      <td>542450</td>\n      <td>182415</td>\n      <td>0.790802</td>\n      <td>551347</td>\n      <td>192721</td>\n      <td>550534</td>\n      <td>191931</td>\n      <td>6.279430</td>\n      <td>13665.746851</td>\n      <td>12486.204868</td>\n    </tr>\n    <tr>\n      <th>2</th>\n      <td>4</td>\n      <td>1390.04</td>\n      <td>542413</td>\n      <td>182380</td>\n      <td>542450</td>\n      <td>182415</td>\n      <td>0.790802</td>\n      <td>535060</td>\n      <td>178641</td>\n      <td>535009</td>\n      <td>178663</td>\n      <td>0.662274</td>\n      <td>8249.044187</td>\n      <td>8333.425766</td>\n    </tr>\n    <tr>\n      <th>3</th>\n      <td>7</td>\n      <td>157.91</td>\n      <td>542413</td>\n      <td>182380</td>\n      <td>542450</td>\n      <td>182415</td>\n      <td>0.790802</td>\n      <td>544366</td>\n      <td>183515</td>\n      <td>544543</td>\n      <td>183531</td>\n      <td>0.796626</td>\n      <td>2258.856791</td>\n      <td>2371.941188</td>\n    </tr>\n    <tr>\n      <th>4</th>\n      <td>4</td>\n      <td>1781.67</td>\n      <td>542413</td>\n      <td>182380</td>\n      <td>542450</td>\n      <td>182415</td>\n      <td>0.790802</td>\n      <td>532416</td>\n      <td>197315</td>\n      <td>532432</td>\n      <td>197391</td>\n      <td>1.282990</td>\n      <td>17972.040340</td>\n      <td>18017.793983</td>\n    </tr>\n    <tr>\n      <th>...</th>\n      <td>...</td>\n      <td>...</td>\n      <td>...</td>\n      <td>...</td>\n      <td>...</td>\n      <td>...</td>\n      <td>...</td>\n      <td>...</td>\n      <td>...</td>\n      <td>...</td>\n      <td>...</td>\n      <td>...</td>\n      <td>...</td>\n      <td>...</td>\n    </tr>\n    <tr>\n      <th>9825</th>\n      <td>6</td>\n      <td>1742.70</td>\n      <td>509284</td>\n      <td>182666</td>\n      <td>509368</td>\n      <td>182517</td>\n      <td>2.388420</td>\n      <td>523999</td>\n      <td>180757</td>\n      <td>524025</td>\n      <td>180791</td>\n      <td>0.431376</td>\n      <td>14838.312101</td>\n      <td>14758.276492</td>\n    </tr>\n    <tr>\n      <th>9826</th>\n      <td>2</td>\n      <td>2693.21</td>\n      <td>509284</td>\n      <td>182666</td>\n      <td>509368</td>\n      <td>182517</td>\n      <td>2.388420</td>\n      <td>529177</td>\n      <td>181229</td>\n      <td>529175</td>\n      <td>181482</td>\n      <td>1.292420</td>\n      <td>19944.834369</td>\n      <td>19834.023142</td>\n    </tr>\n    <tr>\n      <th>9827</th>\n      <td>7</td>\n      <td>298.18</td>\n      <td>509284</td>\n      <td>182666</td>\n      <td>509368</td>\n      <td>182517</td>\n      <td>2.388420</td>\n      <td>507078</td>\n      <td>182644</td>\n      <td>507235</td>\n      <td>182827</td>\n      <td>2.130680</td>\n      <td>2206.109698</td>\n      <td>2155.409242</td>\n    </tr>\n    <tr>\n      <th>9828</th>\n      <td>7</td>\n      <td>312.27</td>\n      <td>509284</td>\n      <td>182666</td>\n      <td>509368</td>\n      <td>182517</td>\n      <td>2.388420</td>\n      <td>511046</td>\n      <td>183262</td>\n      <td>511310</td>\n      <td>183074</td>\n      <td>2.057230</td>\n      <td>1860.069891</td>\n      <td>2020.300225</td>\n    </tr>\n    <tr>\n      <th>9829</th>\n      <td>1</td>\n      <td>1345.90</td>\n      <td>509284</td>\n      <td>182666</td>\n      <td>509368</td>\n      <td>182517</td>\n      <td>2.388420</td>\n      <td>516302</td>\n      <td>180206</td>\n      <td>516346</td>\n      <td>180172</td>\n      <td>1.013690</td>\n      <td>7436.660810</td>\n      <td>7361.488233</td>\n    </tr>\n  </tbody>\n</table>\n<p>9830 rows × 14 columns</p>\n</div>"
     },
     "execution_count": 164,
     "metadata": {},
     "output_type": "execute_result"
    }
   ],
   "source": [
    "result_2"
   ],
   "metadata": {
    "collapsed": false,
    "pycharm": {
     "name": "#%%\n"
    }
   }
  },
  {
   "cell_type": "code",
   "execution_count": 165,
   "outputs": [],
   "source": [
    "final_df = result_2[['dow', 'geo_distance', 'pop_distance', 'src_area', 'dst_area', 'mean_travel_time']]"
   ],
   "metadata": {
    "collapsed": false,
    "pycharm": {
     "name": "#%%\n"
    }
   }
  },
  {
   "cell_type": "code",
   "execution_count": 166,
   "outputs": [],
   "source": [
    "# final_df"
   ],
   "metadata": {
    "collapsed": false,
    "pycharm": {
     "name": "#%%\n"
    }
   }
  },
  {
   "cell_type": "code",
   "execution_count": 167,
   "outputs": [],
   "source": [
    "# final_df"
   ],
   "metadata": {
    "collapsed": false,
    "pycharm": {
     "name": "#%%\n"
    }
   }
  },
  {
   "cell_type": "code",
   "execution_count": 168,
   "outputs": [],
   "source": [
    "# final_df.info()"
   ],
   "metadata": {
    "collapsed": false,
    "pycharm": {
     "name": "#%%\n"
    }
   }
  },
  {
   "cell_type": "code",
   "execution_count": 169,
   "outputs": [],
   "source": [
    "# from sklearn.preprocessing import StandardScaler\n",
    "# sc = StandardScaler()\n",
    "# # sc.fit_transform(final_df[['dow', 'geo_distance', 'pop_distance', 'src_area', 'dst_area']])\n",
    "# final_df[['dow', 'geo_distance', 'pop_distance', 'src_area', 'dst_area']] = sc.fit_transform(final_df[['dow', 'geo_distance', 'pop_distance', 'src_area', 'dst_area']])\n"
   ],
   "metadata": {
    "collapsed": false,
    "pycharm": {
     "name": "#%%\n"
    }
   }
  },
  {
   "cell_type": "code",
   "execution_count": 169,
   "outputs": [],
   "source": [],
   "metadata": {
    "collapsed": false,
    "pycharm": {
     "name": "#%%\n"
    }
   }
  },
  {
   "cell_type": "code",
   "execution_count": 170,
   "outputs": [],
   "source": [
    "# final_df"
   ],
   "metadata": {
    "collapsed": false,
    "pycharm": {
     "name": "#%%\n"
    }
   }
  },
  {
   "cell_type": "code",
   "execution_count": 171,
   "outputs": [],
   "source": [
    "# x = final_df[['dow', 'geo_distance', 'pop_distance','src_area', 'dst_area']]\n",
    "# y = final_df['mean_travel_time']\n",
    "#\n",
    "#\n",
    "# from sklearn.model_selection import train_test_split\n",
    "# from xgboost import XGBRegressor\n",
    "#\n",
    "# x_train, x_test, y_train, y_test = train_test_split(x, y, test_size=0.3, random_state=123)\n",
    "# xgb = XGBRegressor(random_state=123)\n",
    "# xgb.fit(x_train, y_train)\n",
    "# result = xgb.predict(x_test)\n",
    "#\n",
    "# mse = mean_squared_error(y_test, result)\n",
    "# mse"
   ],
   "metadata": {
    "collapsed": false,
    "pycharm": {
     "name": "#%%\n"
    }
   }
  },
  {
   "cell_type": "code",
   "execution_count": 172,
   "outputs": [],
   "source": [
    "# from sklearn.linear_model import LinearRegression\n",
    "# x_train, x_test, y_train, y_test = train_test_split(x, y, test_size=0.3, random_state=123)\n",
    "# lr = LinearRegression()\n",
    "# lr.fit(x_train, y_train)\n",
    "# result = lr.predict(x_test)\n",
    "#\n",
    "# mse = mean_squared_error(y_test, result)\n",
    "# mse"
   ],
   "metadata": {
    "collapsed": false,
    "pycharm": {
     "name": "#%%\n"
    }
   }
  },
  {
   "cell_type": "code",
   "execution_count": 173,
   "outputs": [
    {
     "data": {
      "text/plain": "      dow  geo_distance  pop_distance   src_area  dst_area\n0       2   9987.337683  10035.206276   0.790802  1.718660\n1       2   3066.908052   2790.788419   0.790802  1.271040\n2       2   6489.098088   6544.474463   1.159180  1.292050\n3       7   7976.137536   7908.896510   1.159180  0.751309\n4       2   9116.951080   8935.664777   3.296880  0.589744\n...   ...           ...           ...        ...       ...\n1957    7  15794.944508  16293.460345  15.224400  1.483440\n1958    1  17240.197592  17312.560325   1.720270  1.414060\n1959    3   3169.857568   3238.068097   1.720270  2.897740\n1960    5   7124.122753   7037.272199   2.388420  1.548530\n1961    1   4003.883115   3958.841876   2.388420  1.397960\n\n[1962 rows x 5 columns]",
      "text/html": "<div>\n<style scoped>\n    .dataframe tbody tr th:only-of-type {\n        vertical-align: middle;\n    }\n\n    .dataframe tbody tr th {\n        vertical-align: top;\n    }\n\n    .dataframe thead th {\n        text-align: right;\n    }\n</style>\n<table border=\"1\" class=\"dataframe\">\n  <thead>\n    <tr style=\"text-align: right;\">\n      <th></th>\n      <th>dow</th>\n      <th>geo_distance</th>\n      <th>pop_distance</th>\n      <th>src_area</th>\n      <th>dst_area</th>\n    </tr>\n  </thead>\n  <tbody>\n    <tr>\n      <th>0</th>\n      <td>2</td>\n      <td>9987.337683</td>\n      <td>10035.206276</td>\n      <td>0.790802</td>\n      <td>1.718660</td>\n    </tr>\n    <tr>\n      <th>1</th>\n      <td>2</td>\n      <td>3066.908052</td>\n      <td>2790.788419</td>\n      <td>0.790802</td>\n      <td>1.271040</td>\n    </tr>\n    <tr>\n      <th>2</th>\n      <td>2</td>\n      <td>6489.098088</td>\n      <td>6544.474463</td>\n      <td>1.159180</td>\n      <td>1.292050</td>\n    </tr>\n    <tr>\n      <th>3</th>\n      <td>7</td>\n      <td>7976.137536</td>\n      <td>7908.896510</td>\n      <td>1.159180</td>\n      <td>0.751309</td>\n    </tr>\n    <tr>\n      <th>4</th>\n      <td>2</td>\n      <td>9116.951080</td>\n      <td>8935.664777</td>\n      <td>3.296880</td>\n      <td>0.589744</td>\n    </tr>\n    <tr>\n      <th>...</th>\n      <td>...</td>\n      <td>...</td>\n      <td>...</td>\n      <td>...</td>\n      <td>...</td>\n    </tr>\n    <tr>\n      <th>1957</th>\n      <td>7</td>\n      <td>15794.944508</td>\n      <td>16293.460345</td>\n      <td>15.224400</td>\n      <td>1.483440</td>\n    </tr>\n    <tr>\n      <th>1958</th>\n      <td>1</td>\n      <td>17240.197592</td>\n      <td>17312.560325</td>\n      <td>1.720270</td>\n      <td>1.414060</td>\n    </tr>\n    <tr>\n      <th>1959</th>\n      <td>3</td>\n      <td>3169.857568</td>\n      <td>3238.068097</td>\n      <td>1.720270</td>\n      <td>2.897740</td>\n    </tr>\n    <tr>\n      <th>1960</th>\n      <td>5</td>\n      <td>7124.122753</td>\n      <td>7037.272199</td>\n      <td>2.388420</td>\n      <td>1.548530</td>\n    </tr>\n    <tr>\n      <th>1961</th>\n      <td>1</td>\n      <td>4003.883115</td>\n      <td>3958.841876</td>\n      <td>2.388420</td>\n      <td>1.397960</td>\n    </tr>\n  </tbody>\n</table>\n<p>1962 rows × 5 columns</p>\n</div>"
     },
     "execution_count": 173,
     "metadata": {},
     "output_type": "execute_result"
    }
   ],
   "source": [
    "df_test = pd.read_csv('testing_dataset.csv')\n",
    "result_test=df_test.join(df_extract_geo_json, on='sourceid')\n",
    "result_test = result_test.rename(columns={'geoeast': 'src_geoeast', 'geonorth': 'src_geonorth', 'popeast': 'src_popeast', 'popnorth': 'src_popnorth', 'area_km2':'src_area'})\n",
    "result_test.drop('MOVEMENT_ID', inplace=True, axis=1)\n",
    "result_test_2=result_test.join(df_extract_geo_json, on='dstid')\n",
    "result_test_2.drop('MOVEMENT_ID', inplace=True, axis=1)\n",
    "result_test_2 = result_test_2.rename(columns={'geoeast': 'dst_geoeast', 'geonorth': 'dst_geonorth', 'popeast': 'dst_popeast', 'popnorth': 'dst_popnorth', 'area_km2':'dst_area'})\n",
    "\n",
    "result_test_2['geo_distance'] = np.sqrt(((result_test_2['src_geoeast'] - result_test_2['dst_geoeast'])**2) + (result_test_2['src_geonorth'] - result_test_2['dst_geonorth'])**2)\n",
    "\n",
    "result_test_2['pop_distance'] = np.sqrt(((result_test_2['src_popeast'] - result_test_2['dst_popeast'])**2) + (result_test_2['src_popnorth'] - result_test_2['dst_popnorth'])**2)\n",
    "\n",
    "final_df_2 = result_test_2[['dow', 'geo_distance', 'pop_distance', 'src_area', 'dst_area']]\n",
    "final_df_2\n"
   ],
   "metadata": {
    "collapsed": false,
    "pycharm": {
     "name": "#%%\n"
    }
   }
  },
  {
   "cell_type": "code",
   "execution_count": 174,
   "outputs": [],
   "source": [
    "\n",
    "\n",
    "df_keep = df_test[['sourceid','dstid', 'dow']]\n",
    "\n",
    "\n",
    "y_pred = xgb.predict(final_df_2)\n",
    "df_keep['mean_travel_time'] = y_pred\n",
    "df_keep\n",
    "df_keep.to_csv('submission2.csv',index=False)"
   ],
   "metadata": {
    "collapsed": false,
    "pycharm": {
     "name": "#%%\n"
    }
   }
  }
 ],
 "metadata": {
  "kernelspec": {
   "display_name": "Python 3",
   "language": "python",
   "name": "python3"
  },
  "language_info": {
   "codemirror_mode": {
    "name": "ipython",
    "version": 2
   },
   "file_extension": ".py",
   "mimetype": "text/x-python",
   "name": "python",
   "nbconvert_exporter": "python",
   "pygments_lexer": "ipython2",
   "version": "2.7.6"
  }
 },
 "nbformat": 4,
 "nbformat_minor": 0
}