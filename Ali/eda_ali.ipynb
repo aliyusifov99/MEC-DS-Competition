{
 "cells": [
  {
   "cell_type": "code",
   "execution_count": 2,
   "metadata": {
    "collapsed": true
   },
   "outputs": [],
   "source": [
    "import pandas as pd\n",
    "import matplotlib.pyplot as plt\n",
    "import numpy as np"
   ]
  },
  {
   "cell_type": "code",
   "execution_count": 10,
   "outputs": [],
   "source": [
    "df=pd.read_json('C:\\\\Users\\\\aliyu\\DataspellProjects\\MEC-DS-Competition\\london.json')"
   ],
   "metadata": {
    "collapsed": false,
    "pycharm": {
     "name": "#%%\n"
    }
   }
  },
  {
   "cell_type": "code",
   "execution_count": 11,
   "outputs": [
    {
     "data": {
      "text/plain": "                  type                                           features\n0    FeatureCollection  {'type': 'Feature', 'geometry': {'type': 'Mult...\n1    FeatureCollection  {'type': 'Feature', 'geometry': {'type': 'Mult...\n2    FeatureCollection  {'type': 'Feature', 'geometry': {'type': 'Mult...\n3    FeatureCollection  {'type': 'Feature', 'geometry': {'type': 'Mult...\n4    FeatureCollection  {'type': 'Feature', 'geometry': {'type': 'Mult...\n..                 ...                                                ...\n978  FeatureCollection  {'type': 'Feature', 'geometry': {'type': 'Mult...\n979  FeatureCollection  {'type': 'Feature', 'geometry': {'type': 'Mult...\n980  FeatureCollection  {'type': 'Feature', 'geometry': {'type': 'Mult...\n981  FeatureCollection  {'type': 'Feature', 'geometry': {'type': 'Mult...\n982  FeatureCollection  {'type': 'Feature', 'geometry': {'type': 'Mult...\n\n[983 rows x 2 columns]",
      "text/html": "<div>\n<style scoped>\n    .dataframe tbody tr th:only-of-type {\n        vertical-align: middle;\n    }\n\n    .dataframe tbody tr th {\n        vertical-align: top;\n    }\n\n    .dataframe thead th {\n        text-align: right;\n    }\n</style>\n<table border=\"1\" class=\"dataframe\">\n  <thead>\n    <tr style=\"text-align: right;\">\n      <th></th>\n      <th>type</th>\n      <th>features</th>\n    </tr>\n  </thead>\n  <tbody>\n    <tr>\n      <th>0</th>\n      <td>FeatureCollection</td>\n      <td>{'type': 'Feature', 'geometry': {'type': 'Mult...</td>\n    </tr>\n    <tr>\n      <th>1</th>\n      <td>FeatureCollection</td>\n      <td>{'type': 'Feature', 'geometry': {'type': 'Mult...</td>\n    </tr>\n    <tr>\n      <th>2</th>\n      <td>FeatureCollection</td>\n      <td>{'type': 'Feature', 'geometry': {'type': 'Mult...</td>\n    </tr>\n    <tr>\n      <th>3</th>\n      <td>FeatureCollection</td>\n      <td>{'type': 'Feature', 'geometry': {'type': 'Mult...</td>\n    </tr>\n    <tr>\n      <th>4</th>\n      <td>FeatureCollection</td>\n      <td>{'type': 'Feature', 'geometry': {'type': 'Mult...</td>\n    </tr>\n    <tr>\n      <th>...</th>\n      <td>...</td>\n      <td>...</td>\n    </tr>\n    <tr>\n      <th>978</th>\n      <td>FeatureCollection</td>\n      <td>{'type': 'Feature', 'geometry': {'type': 'Mult...</td>\n    </tr>\n    <tr>\n      <th>979</th>\n      <td>FeatureCollection</td>\n      <td>{'type': 'Feature', 'geometry': {'type': 'Mult...</td>\n    </tr>\n    <tr>\n      <th>980</th>\n      <td>FeatureCollection</td>\n      <td>{'type': 'Feature', 'geometry': {'type': 'Mult...</td>\n    </tr>\n    <tr>\n      <th>981</th>\n      <td>FeatureCollection</td>\n      <td>{'type': 'Feature', 'geometry': {'type': 'Mult...</td>\n    </tr>\n    <tr>\n      <th>982</th>\n      <td>FeatureCollection</td>\n      <td>{'type': 'Feature', 'geometry': {'type': 'Mult...</td>\n    </tr>\n  </tbody>\n</table>\n<p>983 rows × 2 columns</p>\n</div>"
     },
     "execution_count": 11,
     "metadata": {},
     "output_type": "execute_result"
    }
   ],
   "source": [
    "df"
   ],
   "metadata": {
    "collapsed": false,
    "pycharm": {
     "name": "#%%\n"
    }
   }
  },
  {
   "cell_type": "code",
   "execution_count": null,
   "outputs": [],
   "source": [],
   "metadata": {
    "collapsed": false,
    "pycharm": {
     "name": "#%%\n"
    }
   }
  }
 ],
 "metadata": {
  "kernelspec": {
   "display_name": "Python 3",
   "language": "python",
   "name": "python3"
  },
  "language_info": {
   "codemirror_mode": {
    "name": "ipython",
    "version": 2
   },
   "file_extension": ".py",
   "mimetype": "text/x-python",
   "name": "python",
   "nbconvert_exporter": "python",
   "pygments_lexer": "ipython2",
   "version": "2.7.6"
  }
 },
 "nbformat": 4,
 "nbformat_minor": 0
}