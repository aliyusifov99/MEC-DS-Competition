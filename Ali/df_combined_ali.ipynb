{
 "cells": [
  {
   "cell_type": "code",
   "execution_count": 171,
   "metadata": {
    "collapsed": true
   },
   "outputs": [],
   "source": [
    "import pandas as pd\n",
    "import seaborn as sns\n",
    "import geopandas as gpd\n",
    "import numpy as np\n",
    "from math import radians"
   ]
  },
  {
   "cell_type": "code",
   "execution_count": 172,
   "outputs": [],
   "source": [
    "df_geo_json = gpd.read_file('C:\\\\Users\\\\aliyu\\DataspellProjects\\MEC-DS-Competition\\london.json')\n",
    "df=pd.read_csv('C:\\\\Users\\\\aliyu\\DataspellProjects\\MEC-DS-Competition\\\\training_WeeklyAggregate.csv')"
   ],
   "metadata": {
    "collapsed": false,
    "pycharm": {
     "name": "#%%\n"
    }
   }
  },
  {
   "cell_type": "code",
   "execution_count": 173,
   "outputs": [
    {
     "data": {
      "text/plain": "     msoa_code        msoa_name la_code      la_name  geoeast  geonorth  \\\n0    E02000508   Hillingdon 015    00AS   Hillingdon   506163    183536   \n1    E02000716       Newham 003    00BB       Newham   541978    186009   \n2    E02000747       Newham 034    00BB       Newham   539578    181317   \n3    E02000748       Newham 035    00BB       Newham   542500    181152   \n4    E02000749       Newham 036    00BB       Newham   541047    181103   \n..         ...              ...     ...          ...      ...       ...   \n978  E02000974  Westminster 015    00BK  Westminster   527028    181254   \n979  E02000975  Westminster 016    00BK  Westminster   526396    181129   \n980  E02000980  Westminster 021    00BK  Westminster   529921    178656   \n981  E02000981  Westminster 022    00BK  Westminster   529123    178488   \n982  E02000983  Westminster 024    00BK  Westminster   529464    178054   \n\n     popeast  popnorth  area_km2 MOVEMENT_ID             DISPLAY_NAME  \\\n0     505978    183811  2.746600           0     Hillingdon, 00AS (0)   \n1     541870    185568  1.565170           1         Newham, 00BB (1)   \n2     539891    181438  2.082410           2         Newham, 00BB (2)   \n3     542439    181339  1.331750           3         Newham, 00BB (3)   \n4     540847    181294  1.419020           4         Newham, 00BB (4)   \n..       ...       ...       ...         ...                      ...   \n978   527172    181179  0.689337         978  Westminster, 00BK (978)   \n979   526375    181042  0.484638         979  Westminster, 00BK (979)   \n980   529758    178698  0.539208         980  Westminster, 00BK (980)   \n981   529140    178401  0.363777         981  Westminster, 00BK (981)   \n982   529488    178111  0.559636         982  Westminster, 00BK (982)   \n\n                                              geometry  \n0    MULTIPOLYGON (((-0.47794 51.55485, -0.47665 51...  \n1    MULTIPOLYGON (((0.05255 51.56171, 0.05310 51.5...  \n2    MULTIPOLYGON (((0.01001 51.52181, 0.01003 51.5...  \n3    MULTIPOLYGON (((0.05392 51.51611, 0.05174 51.5...  \n4    MULTIPOLYGON (((0.03241 51.51704, 0.03179 51.5...  \n..                                                 ...  \n978  MULTIPOLYGON (((-0.17019 51.51994, -0.16019 51...  \n979  MULTIPOLYGON (((-0.17867 51.52008, -0.17898 51...  \n980  MULTIPOLYGON (((-0.12279 51.49453, -0.12305 51...  \n981  MULTIPOLYGON (((-0.14126 51.49455, -0.14080 51...  \n982  MULTIPOLYGON (((-0.12710 51.48764, -0.12957 51...  \n\n[983 rows x 12 columns]",
      "text/html": "<div>\n<style scoped>\n    .dataframe tbody tr th:only-of-type {\n        vertical-align: middle;\n    }\n\n    .dataframe tbody tr th {\n        vertical-align: top;\n    }\n\n    .dataframe thead th {\n        text-align: right;\n    }\n</style>\n<table border=\"1\" class=\"dataframe\">\n  <thead>\n    <tr style=\"text-align: right;\">\n      <th></th>\n      <th>msoa_code</th>\n      <th>msoa_name</th>\n      <th>la_code</th>\n      <th>la_name</th>\n      <th>geoeast</th>\n      <th>geonorth</th>\n      <th>popeast</th>\n      <th>popnorth</th>\n      <th>area_km2</th>\n      <th>MOVEMENT_ID</th>\n      <th>DISPLAY_NAME</th>\n      <th>geometry</th>\n    </tr>\n  </thead>\n  <tbody>\n    <tr>\n      <th>0</th>\n      <td>E02000508</td>\n      <td>Hillingdon 015</td>\n      <td>00AS</td>\n      <td>Hillingdon</td>\n      <td>506163</td>\n      <td>183536</td>\n      <td>505978</td>\n      <td>183811</td>\n      <td>2.746600</td>\n      <td>0</td>\n      <td>Hillingdon, 00AS (0)</td>\n      <td>MULTIPOLYGON (((-0.47794 51.55485, -0.47665 51...</td>\n    </tr>\n    <tr>\n      <th>1</th>\n      <td>E02000716</td>\n      <td>Newham 003</td>\n      <td>00BB</td>\n      <td>Newham</td>\n      <td>541978</td>\n      <td>186009</td>\n      <td>541870</td>\n      <td>185568</td>\n      <td>1.565170</td>\n      <td>1</td>\n      <td>Newham, 00BB (1)</td>\n      <td>MULTIPOLYGON (((0.05255 51.56171, 0.05310 51.5...</td>\n    </tr>\n    <tr>\n      <th>2</th>\n      <td>E02000747</td>\n      <td>Newham 034</td>\n      <td>00BB</td>\n      <td>Newham</td>\n      <td>539578</td>\n      <td>181317</td>\n      <td>539891</td>\n      <td>181438</td>\n      <td>2.082410</td>\n      <td>2</td>\n      <td>Newham, 00BB (2)</td>\n      <td>MULTIPOLYGON (((0.01001 51.52181, 0.01003 51.5...</td>\n    </tr>\n    <tr>\n      <th>3</th>\n      <td>E02000748</td>\n      <td>Newham 035</td>\n      <td>00BB</td>\n      <td>Newham</td>\n      <td>542500</td>\n      <td>181152</td>\n      <td>542439</td>\n      <td>181339</td>\n      <td>1.331750</td>\n      <td>3</td>\n      <td>Newham, 00BB (3)</td>\n      <td>MULTIPOLYGON (((0.05392 51.51611, 0.05174 51.5...</td>\n    </tr>\n    <tr>\n      <th>4</th>\n      <td>E02000749</td>\n      <td>Newham 036</td>\n      <td>00BB</td>\n      <td>Newham</td>\n      <td>541047</td>\n      <td>181103</td>\n      <td>540847</td>\n      <td>181294</td>\n      <td>1.419020</td>\n      <td>4</td>\n      <td>Newham, 00BB (4)</td>\n      <td>MULTIPOLYGON (((0.03241 51.51704, 0.03179 51.5...</td>\n    </tr>\n    <tr>\n      <th>...</th>\n      <td>...</td>\n      <td>...</td>\n      <td>...</td>\n      <td>...</td>\n      <td>...</td>\n      <td>...</td>\n      <td>...</td>\n      <td>...</td>\n      <td>...</td>\n      <td>...</td>\n      <td>...</td>\n      <td>...</td>\n    </tr>\n    <tr>\n      <th>978</th>\n      <td>E02000974</td>\n      <td>Westminster 015</td>\n      <td>00BK</td>\n      <td>Westminster</td>\n      <td>527028</td>\n      <td>181254</td>\n      <td>527172</td>\n      <td>181179</td>\n      <td>0.689337</td>\n      <td>978</td>\n      <td>Westminster, 00BK (978)</td>\n      <td>MULTIPOLYGON (((-0.17019 51.51994, -0.16019 51...</td>\n    </tr>\n    <tr>\n      <th>979</th>\n      <td>E02000975</td>\n      <td>Westminster 016</td>\n      <td>00BK</td>\n      <td>Westminster</td>\n      <td>526396</td>\n      <td>181129</td>\n      <td>526375</td>\n      <td>181042</td>\n      <td>0.484638</td>\n      <td>979</td>\n      <td>Westminster, 00BK (979)</td>\n      <td>MULTIPOLYGON (((-0.17867 51.52008, -0.17898 51...</td>\n    </tr>\n    <tr>\n      <th>980</th>\n      <td>E02000980</td>\n      <td>Westminster 021</td>\n      <td>00BK</td>\n      <td>Westminster</td>\n      <td>529921</td>\n      <td>178656</td>\n      <td>529758</td>\n      <td>178698</td>\n      <td>0.539208</td>\n      <td>980</td>\n      <td>Westminster, 00BK (980)</td>\n      <td>MULTIPOLYGON (((-0.12279 51.49453, -0.12305 51...</td>\n    </tr>\n    <tr>\n      <th>981</th>\n      <td>E02000981</td>\n      <td>Westminster 022</td>\n      <td>00BK</td>\n      <td>Westminster</td>\n      <td>529123</td>\n      <td>178488</td>\n      <td>529140</td>\n      <td>178401</td>\n      <td>0.363777</td>\n      <td>981</td>\n      <td>Westminster, 00BK (981)</td>\n      <td>MULTIPOLYGON (((-0.14126 51.49455, -0.14080 51...</td>\n    </tr>\n    <tr>\n      <th>982</th>\n      <td>E02000983</td>\n      <td>Westminster 024</td>\n      <td>00BK</td>\n      <td>Westminster</td>\n      <td>529464</td>\n      <td>178054</td>\n      <td>529488</td>\n      <td>178111</td>\n      <td>0.559636</td>\n      <td>982</td>\n      <td>Westminster, 00BK (982)</td>\n      <td>MULTIPOLYGON (((-0.12710 51.48764, -0.12957 51...</td>\n    </tr>\n  </tbody>\n</table>\n<p>983 rows × 12 columns</p>\n</div>"
     },
     "execution_count": 173,
     "metadata": {},
     "output_type": "execute_result"
    }
   ],
   "source": [
    "df_geo_json"
   ],
   "metadata": {
    "collapsed": false,
    "pycharm": {
     "name": "#%%\n"
    }
   }
  },
  {
   "cell_type": "code",
   "execution_count": 174,
   "outputs": [
    {
     "data": {
      "text/plain": "      sourceid  dstid  dow  mean_travel_time\n0           10    241    3           2334.43\n1           10    612    5           1529.83\n2           10    905    4           1390.04\n3           10    407    7            157.91\n4           10    603    4           1781.67\n...        ...    ...  ...               ...\n9825       657    207    6           1742.70\n9826       657    359    2           2693.21\n9827       657    656    7            298.18\n9828       657    540    7            312.27\n9829       657    560    1           1345.90\n\n[9830 rows x 4 columns]",
      "text/html": "<div>\n<style scoped>\n    .dataframe tbody tr th:only-of-type {\n        vertical-align: middle;\n    }\n\n    .dataframe tbody tr th {\n        vertical-align: top;\n    }\n\n    .dataframe thead th {\n        text-align: right;\n    }\n</style>\n<table border=\"1\" class=\"dataframe\">\n  <thead>\n    <tr style=\"text-align: right;\">\n      <th></th>\n      <th>sourceid</th>\n      <th>dstid</th>\n      <th>dow</th>\n      <th>mean_travel_time</th>\n    </tr>\n  </thead>\n  <tbody>\n    <tr>\n      <th>0</th>\n      <td>10</td>\n      <td>241</td>\n      <td>3</td>\n      <td>2334.43</td>\n    </tr>\n    <tr>\n      <th>1</th>\n      <td>10</td>\n      <td>612</td>\n      <td>5</td>\n      <td>1529.83</td>\n    </tr>\n    <tr>\n      <th>2</th>\n      <td>10</td>\n      <td>905</td>\n      <td>4</td>\n      <td>1390.04</td>\n    </tr>\n    <tr>\n      <th>3</th>\n      <td>10</td>\n      <td>407</td>\n      <td>7</td>\n      <td>157.91</td>\n    </tr>\n    <tr>\n      <th>4</th>\n      <td>10</td>\n      <td>603</td>\n      <td>4</td>\n      <td>1781.67</td>\n    </tr>\n    <tr>\n      <th>...</th>\n      <td>...</td>\n      <td>...</td>\n      <td>...</td>\n      <td>...</td>\n    </tr>\n    <tr>\n      <th>9825</th>\n      <td>657</td>\n      <td>207</td>\n      <td>6</td>\n      <td>1742.70</td>\n    </tr>\n    <tr>\n      <th>9826</th>\n      <td>657</td>\n      <td>359</td>\n      <td>2</td>\n      <td>2693.21</td>\n    </tr>\n    <tr>\n      <th>9827</th>\n      <td>657</td>\n      <td>656</td>\n      <td>7</td>\n      <td>298.18</td>\n    </tr>\n    <tr>\n      <th>9828</th>\n      <td>657</td>\n      <td>540</td>\n      <td>7</td>\n      <td>312.27</td>\n    </tr>\n    <tr>\n      <th>9829</th>\n      <td>657</td>\n      <td>560</td>\n      <td>1</td>\n      <td>1345.90</td>\n    </tr>\n  </tbody>\n</table>\n<p>9830 rows × 4 columns</p>\n</div>"
     },
     "execution_count": 174,
     "metadata": {},
     "output_type": "execute_result"
    }
   ],
   "source": [
    "df"
   ],
   "metadata": {
    "collapsed": false,
    "pycharm": {
     "name": "#%%\n"
    }
   }
  },
  {
   "cell_type": "code",
   "execution_count": 175,
   "outputs": [],
   "source": [
    "df_extract_geo_json=df_geo_json[['geoeast', 'geonorth',  'popeast', 'popnorth','area_km2','MOVEMENT_ID']]"
   ],
   "metadata": {
    "collapsed": false,
    "pycharm": {
     "name": "#%%\n"
    }
   }
  },
  {
   "cell_type": "code",
   "execution_count": 176,
   "outputs": [
    {
     "data": {
      "text/plain": "     geoeast  geonorth  popeast  popnorth  area_km2 MOVEMENT_ID\n0     506163    183536   505978    183811  2.746600           0\n1     541978    186009   541870    185568  1.565170           1\n2     539578    181317   539891    181438  2.082410           2\n3     542500    181152   542439    181339  1.331750           3\n4     541047    181103   540847    181294  1.419020           4\n..       ...       ...      ...       ...       ...         ...\n978   527028    181254   527172    181179  0.689337         978\n979   526396    181129   526375    181042  0.484638         979\n980   529921    178656   529758    178698  0.539208         980\n981   529123    178488   529140    178401  0.363777         981\n982   529464    178054   529488    178111  0.559636         982\n\n[983 rows x 6 columns]",
      "text/html": "<div>\n<style scoped>\n    .dataframe tbody tr th:only-of-type {\n        vertical-align: middle;\n    }\n\n    .dataframe tbody tr th {\n        vertical-align: top;\n    }\n\n    .dataframe thead th {\n        text-align: right;\n    }\n</style>\n<table border=\"1\" class=\"dataframe\">\n  <thead>\n    <tr style=\"text-align: right;\">\n      <th></th>\n      <th>geoeast</th>\n      <th>geonorth</th>\n      <th>popeast</th>\n      <th>popnorth</th>\n      <th>area_km2</th>\n      <th>MOVEMENT_ID</th>\n    </tr>\n  </thead>\n  <tbody>\n    <tr>\n      <th>0</th>\n      <td>506163</td>\n      <td>183536</td>\n      <td>505978</td>\n      <td>183811</td>\n      <td>2.746600</td>\n      <td>0</td>\n    </tr>\n    <tr>\n      <th>1</th>\n      <td>541978</td>\n      <td>186009</td>\n      <td>541870</td>\n      <td>185568</td>\n      <td>1.565170</td>\n      <td>1</td>\n    </tr>\n    <tr>\n      <th>2</th>\n      <td>539578</td>\n      <td>181317</td>\n      <td>539891</td>\n      <td>181438</td>\n      <td>2.082410</td>\n      <td>2</td>\n    </tr>\n    <tr>\n      <th>3</th>\n      <td>542500</td>\n      <td>181152</td>\n      <td>542439</td>\n      <td>181339</td>\n      <td>1.331750</td>\n      <td>3</td>\n    </tr>\n    <tr>\n      <th>4</th>\n      <td>541047</td>\n      <td>181103</td>\n      <td>540847</td>\n      <td>181294</td>\n      <td>1.419020</td>\n      <td>4</td>\n    </tr>\n    <tr>\n      <th>...</th>\n      <td>...</td>\n      <td>...</td>\n      <td>...</td>\n      <td>...</td>\n      <td>...</td>\n      <td>...</td>\n    </tr>\n    <tr>\n      <th>978</th>\n      <td>527028</td>\n      <td>181254</td>\n      <td>527172</td>\n      <td>181179</td>\n      <td>0.689337</td>\n      <td>978</td>\n    </tr>\n    <tr>\n      <th>979</th>\n      <td>526396</td>\n      <td>181129</td>\n      <td>526375</td>\n      <td>181042</td>\n      <td>0.484638</td>\n      <td>979</td>\n    </tr>\n    <tr>\n      <th>980</th>\n      <td>529921</td>\n      <td>178656</td>\n      <td>529758</td>\n      <td>178698</td>\n      <td>0.539208</td>\n      <td>980</td>\n    </tr>\n    <tr>\n      <th>981</th>\n      <td>529123</td>\n      <td>178488</td>\n      <td>529140</td>\n      <td>178401</td>\n      <td>0.363777</td>\n      <td>981</td>\n    </tr>\n    <tr>\n      <th>982</th>\n      <td>529464</td>\n      <td>178054</td>\n      <td>529488</td>\n      <td>178111</td>\n      <td>0.559636</td>\n      <td>982</td>\n    </tr>\n  </tbody>\n</table>\n<p>983 rows × 6 columns</p>\n</div>"
     },
     "execution_count": 176,
     "metadata": {},
     "output_type": "execute_result"
    }
   ],
   "source": [
    "df_extract_geo_json"
   ],
   "metadata": {
    "collapsed": false,
    "pycharm": {
     "name": "#%%\n"
    }
   }
  },
  {
   "cell_type": "code",
   "execution_count": 177,
   "outputs": [],
   "source": [
    "result=df.join(df_extract_geo_json, on='sourceid')"
   ],
   "metadata": {
    "collapsed": false,
    "pycharm": {
     "name": "#%%\n"
    }
   }
  },
  {
   "cell_type": "code",
   "execution_count": 178,
   "outputs": [
    {
     "data": {
      "text/plain": "      sourceid  dstid  dow  mean_travel_time  geoeast  geonorth  popeast  \\\n0           10    241    3           2334.43   542413    182380   542450   \n1           10    612    5           1529.83   542413    182380   542450   \n2           10    905    4           1390.04   542413    182380   542450   \n3           10    407    7            157.91   542413    182380   542450   \n4           10    603    4           1781.67   542413    182380   542450   \n...        ...    ...  ...               ...      ...       ...      ...   \n9825       657    207    6           1742.70   509284    182666   509368   \n9826       657    359    2           2693.21   509284    182666   509368   \n9827       657    656    7            298.18   509284    182666   509368   \n9828       657    540    7            312.27   509284    182666   509368   \n9829       657    560    1           1345.90   509284    182666   509368   \n\n      popnorth  area_km2 MOVEMENT_ID  \n0       182415  0.790802          10  \n1       182415  0.790802          10  \n2       182415  0.790802          10  \n3       182415  0.790802          10  \n4       182415  0.790802          10  \n...        ...       ...         ...  \n9825    182517  2.388420         657  \n9826    182517  2.388420         657  \n9827    182517  2.388420         657  \n9828    182517  2.388420         657  \n9829    182517  2.388420         657  \n\n[9830 rows x 10 columns]",
      "text/html": "<div>\n<style scoped>\n    .dataframe tbody tr th:only-of-type {\n        vertical-align: middle;\n    }\n\n    .dataframe tbody tr th {\n        vertical-align: top;\n    }\n\n    .dataframe thead th {\n        text-align: right;\n    }\n</style>\n<table border=\"1\" class=\"dataframe\">\n  <thead>\n    <tr style=\"text-align: right;\">\n      <th></th>\n      <th>sourceid</th>\n      <th>dstid</th>\n      <th>dow</th>\n      <th>mean_travel_time</th>\n      <th>geoeast</th>\n      <th>geonorth</th>\n      <th>popeast</th>\n      <th>popnorth</th>\n      <th>area_km2</th>\n      <th>MOVEMENT_ID</th>\n    </tr>\n  </thead>\n  <tbody>\n    <tr>\n      <th>0</th>\n      <td>10</td>\n      <td>241</td>\n      <td>3</td>\n      <td>2334.43</td>\n      <td>542413</td>\n      <td>182380</td>\n      <td>542450</td>\n      <td>182415</td>\n      <td>0.790802</td>\n      <td>10</td>\n    </tr>\n    <tr>\n      <th>1</th>\n      <td>10</td>\n      <td>612</td>\n      <td>5</td>\n      <td>1529.83</td>\n      <td>542413</td>\n      <td>182380</td>\n      <td>542450</td>\n      <td>182415</td>\n      <td>0.790802</td>\n      <td>10</td>\n    </tr>\n    <tr>\n      <th>2</th>\n      <td>10</td>\n      <td>905</td>\n      <td>4</td>\n      <td>1390.04</td>\n      <td>542413</td>\n      <td>182380</td>\n      <td>542450</td>\n      <td>182415</td>\n      <td>0.790802</td>\n      <td>10</td>\n    </tr>\n    <tr>\n      <th>3</th>\n      <td>10</td>\n      <td>407</td>\n      <td>7</td>\n      <td>157.91</td>\n      <td>542413</td>\n      <td>182380</td>\n      <td>542450</td>\n      <td>182415</td>\n      <td>0.790802</td>\n      <td>10</td>\n    </tr>\n    <tr>\n      <th>4</th>\n      <td>10</td>\n      <td>603</td>\n      <td>4</td>\n      <td>1781.67</td>\n      <td>542413</td>\n      <td>182380</td>\n      <td>542450</td>\n      <td>182415</td>\n      <td>0.790802</td>\n      <td>10</td>\n    </tr>\n    <tr>\n      <th>...</th>\n      <td>...</td>\n      <td>...</td>\n      <td>...</td>\n      <td>...</td>\n      <td>...</td>\n      <td>...</td>\n      <td>...</td>\n      <td>...</td>\n      <td>...</td>\n      <td>...</td>\n    </tr>\n    <tr>\n      <th>9825</th>\n      <td>657</td>\n      <td>207</td>\n      <td>6</td>\n      <td>1742.70</td>\n      <td>509284</td>\n      <td>182666</td>\n      <td>509368</td>\n      <td>182517</td>\n      <td>2.388420</td>\n      <td>657</td>\n    </tr>\n    <tr>\n      <th>9826</th>\n      <td>657</td>\n      <td>359</td>\n      <td>2</td>\n      <td>2693.21</td>\n      <td>509284</td>\n      <td>182666</td>\n      <td>509368</td>\n      <td>182517</td>\n      <td>2.388420</td>\n      <td>657</td>\n    </tr>\n    <tr>\n      <th>9827</th>\n      <td>657</td>\n      <td>656</td>\n      <td>7</td>\n      <td>298.18</td>\n      <td>509284</td>\n      <td>182666</td>\n      <td>509368</td>\n      <td>182517</td>\n      <td>2.388420</td>\n      <td>657</td>\n    </tr>\n    <tr>\n      <th>9828</th>\n      <td>657</td>\n      <td>540</td>\n      <td>7</td>\n      <td>312.27</td>\n      <td>509284</td>\n      <td>182666</td>\n      <td>509368</td>\n      <td>182517</td>\n      <td>2.388420</td>\n      <td>657</td>\n    </tr>\n    <tr>\n      <th>9829</th>\n      <td>657</td>\n      <td>560</td>\n      <td>1</td>\n      <td>1345.90</td>\n      <td>509284</td>\n      <td>182666</td>\n      <td>509368</td>\n      <td>182517</td>\n      <td>2.388420</td>\n      <td>657</td>\n    </tr>\n  </tbody>\n</table>\n<p>9830 rows × 10 columns</p>\n</div>"
     },
     "execution_count": 178,
     "metadata": {},
     "output_type": "execute_result"
    }
   ],
   "source": [
    "result"
   ],
   "metadata": {
    "collapsed": false,
    "pycharm": {
     "name": "#%%\n"
    }
   }
  },
  {
   "cell_type": "code",
   "execution_count": 179,
   "outputs": [],
   "source": [
    "result = result.rename(columns={'geoeast': 'src_geoeast', 'geonorth': 'src_geonorth', 'popeast': 'src_popeast', 'popnorth': 'src_popnorth', 'area_km2':'src_area'})"
   ],
   "metadata": {
    "collapsed": false,
    "pycharm": {
     "name": "#%%\n"
    }
   }
  },
  {
   "cell_type": "code",
   "execution_count": 180,
   "outputs": [],
   "source": [
    "result.drop('MOVEMENT_ID', inplace=True, axis=1)"
   ],
   "metadata": {
    "collapsed": false,
    "pycharm": {
     "name": "#%%\n"
    }
   }
  },
  {
   "cell_type": "code",
   "execution_count": 181,
   "outputs": [
    {
     "data": {
      "text/plain": "      sourceid  dstid  dow  mean_travel_time  src_geoeast  src_geonorth  \\\n0           10    241    3           2334.43       542413        182380   \n1           10    612    5           1529.83       542413        182380   \n2           10    905    4           1390.04       542413        182380   \n3           10    407    7            157.91       542413        182380   \n4           10    603    4           1781.67       542413        182380   \n...        ...    ...  ...               ...          ...           ...   \n9825       657    207    6           1742.70       509284        182666   \n9826       657    359    2           2693.21       509284        182666   \n9827       657    656    7            298.18       509284        182666   \n9828       657    540    7            312.27       509284        182666   \n9829       657    560    1           1345.90       509284        182666   \n\n      src_popeast  src_popnorth  src_area  \n0          542450        182415  0.790802  \n1          542450        182415  0.790802  \n2          542450        182415  0.790802  \n3          542450        182415  0.790802  \n4          542450        182415  0.790802  \n...           ...           ...       ...  \n9825       509368        182517  2.388420  \n9826       509368        182517  2.388420  \n9827       509368        182517  2.388420  \n9828       509368        182517  2.388420  \n9829       509368        182517  2.388420  \n\n[9830 rows x 9 columns]",
      "text/html": "<div>\n<style scoped>\n    .dataframe tbody tr th:only-of-type {\n        vertical-align: middle;\n    }\n\n    .dataframe tbody tr th {\n        vertical-align: top;\n    }\n\n    .dataframe thead th {\n        text-align: right;\n    }\n</style>\n<table border=\"1\" class=\"dataframe\">\n  <thead>\n    <tr style=\"text-align: right;\">\n      <th></th>\n      <th>sourceid</th>\n      <th>dstid</th>\n      <th>dow</th>\n      <th>mean_travel_time</th>\n      <th>src_geoeast</th>\n      <th>src_geonorth</th>\n      <th>src_popeast</th>\n      <th>src_popnorth</th>\n      <th>src_area</th>\n    </tr>\n  </thead>\n  <tbody>\n    <tr>\n      <th>0</th>\n      <td>10</td>\n      <td>241</td>\n      <td>3</td>\n      <td>2334.43</td>\n      <td>542413</td>\n      <td>182380</td>\n      <td>542450</td>\n      <td>182415</td>\n      <td>0.790802</td>\n    </tr>\n    <tr>\n      <th>1</th>\n      <td>10</td>\n      <td>612</td>\n      <td>5</td>\n      <td>1529.83</td>\n      <td>542413</td>\n      <td>182380</td>\n      <td>542450</td>\n      <td>182415</td>\n      <td>0.790802</td>\n    </tr>\n    <tr>\n      <th>2</th>\n      <td>10</td>\n      <td>905</td>\n      <td>4</td>\n      <td>1390.04</td>\n      <td>542413</td>\n      <td>182380</td>\n      <td>542450</td>\n      <td>182415</td>\n      <td>0.790802</td>\n    </tr>\n    <tr>\n      <th>3</th>\n      <td>10</td>\n      <td>407</td>\n      <td>7</td>\n      <td>157.91</td>\n      <td>542413</td>\n      <td>182380</td>\n      <td>542450</td>\n      <td>182415</td>\n      <td>0.790802</td>\n    </tr>\n    <tr>\n      <th>4</th>\n      <td>10</td>\n      <td>603</td>\n      <td>4</td>\n      <td>1781.67</td>\n      <td>542413</td>\n      <td>182380</td>\n      <td>542450</td>\n      <td>182415</td>\n      <td>0.790802</td>\n    </tr>\n    <tr>\n      <th>...</th>\n      <td>...</td>\n      <td>...</td>\n      <td>...</td>\n      <td>...</td>\n      <td>...</td>\n      <td>...</td>\n      <td>...</td>\n      <td>...</td>\n      <td>...</td>\n    </tr>\n    <tr>\n      <th>9825</th>\n      <td>657</td>\n      <td>207</td>\n      <td>6</td>\n      <td>1742.70</td>\n      <td>509284</td>\n      <td>182666</td>\n      <td>509368</td>\n      <td>182517</td>\n      <td>2.388420</td>\n    </tr>\n    <tr>\n      <th>9826</th>\n      <td>657</td>\n      <td>359</td>\n      <td>2</td>\n      <td>2693.21</td>\n      <td>509284</td>\n      <td>182666</td>\n      <td>509368</td>\n      <td>182517</td>\n      <td>2.388420</td>\n    </tr>\n    <tr>\n      <th>9827</th>\n      <td>657</td>\n      <td>656</td>\n      <td>7</td>\n      <td>298.18</td>\n      <td>509284</td>\n      <td>182666</td>\n      <td>509368</td>\n      <td>182517</td>\n      <td>2.388420</td>\n    </tr>\n    <tr>\n      <th>9828</th>\n      <td>657</td>\n      <td>540</td>\n      <td>7</td>\n      <td>312.27</td>\n      <td>509284</td>\n      <td>182666</td>\n      <td>509368</td>\n      <td>182517</td>\n      <td>2.388420</td>\n    </tr>\n    <tr>\n      <th>9829</th>\n      <td>657</td>\n      <td>560</td>\n      <td>1</td>\n      <td>1345.90</td>\n      <td>509284</td>\n      <td>182666</td>\n      <td>509368</td>\n      <td>182517</td>\n      <td>2.388420</td>\n    </tr>\n  </tbody>\n</table>\n<p>9830 rows × 9 columns</p>\n</div>"
     },
     "execution_count": 181,
     "metadata": {},
     "output_type": "execute_result"
    }
   ],
   "source": [
    "result"
   ],
   "metadata": {
    "collapsed": false,
    "pycharm": {
     "name": "#%%\n"
    }
   }
  },
  {
   "cell_type": "code",
   "execution_count": 182,
   "outputs": [],
   "source": [
    "result_2=result.join(df_extract_geo_json, on='dstid')"
   ],
   "metadata": {
    "collapsed": false,
    "pycharm": {
     "name": "#%%\n"
    }
   }
  },
  {
   "cell_type": "code",
   "execution_count": 183,
   "outputs": [
    {
     "data": {
      "text/plain": "      sourceid  dstid  dow  mean_travel_time  src_geoeast  src_geonorth  \\\n0           10    241    3           2334.43       542413        182380   \n1           10    612    5           1529.83       542413        182380   \n2           10    905    4           1390.04       542413        182380   \n3           10    407    7            157.91       542413        182380   \n4           10    603    4           1781.67       542413        182380   \n...        ...    ...  ...               ...          ...           ...   \n9825       657    207    6           1742.70       509284        182666   \n9826       657    359    2           2693.21       509284        182666   \n9827       657    656    7            298.18       509284        182666   \n9828       657    540    7            312.27       509284        182666   \n9829       657    560    1           1345.90       509284        182666   \n\n      src_popeast  src_popnorth  src_area  geoeast  geonorth  popeast  \\\n0          542450        182415  0.790802   530851    174285   530876   \n1          542450        182415  0.790802   551347    192721   550534   \n2          542450        182415  0.790802   535060    178641   535009   \n3          542450        182415  0.790802   544366    183515   544543   \n4          542450        182415  0.790802   532416    197315   532432   \n...           ...           ...       ...      ...       ...      ...   \n9825       509368        182517  2.388420   523999    180757   524025   \n9826       509368        182517  2.388420   529177    181229   529175   \n9827       509368        182517  2.388420   507078    182644   507235   \n9828       509368        182517  2.388420   511046    183262   511310   \n9829       509368        182517  2.388420   516302    180206   516346   \n\n      popnorth  area_km2  \n0       174289  0.584104  \n1       191931  6.279430  \n2       178663  0.662274  \n3       183531  0.796626  \n4       197391  1.282990  \n...        ...       ...  \n9825    180791  0.431376  \n9826    181482  1.292420  \n9827    182827  2.130680  \n9828    183074  2.057230  \n9829    180172  1.013690  \n\n[9830 rows x 14 columns]",
      "text/html": "<div>\n<style scoped>\n    .dataframe tbody tr th:only-of-type {\n        vertical-align: middle;\n    }\n\n    .dataframe tbody tr th {\n        vertical-align: top;\n    }\n\n    .dataframe thead th {\n        text-align: right;\n    }\n</style>\n<table border=\"1\" class=\"dataframe\">\n  <thead>\n    <tr style=\"text-align: right;\">\n      <th></th>\n      <th>sourceid</th>\n      <th>dstid</th>\n      <th>dow</th>\n      <th>mean_travel_time</th>\n      <th>src_geoeast</th>\n      <th>src_geonorth</th>\n      <th>src_popeast</th>\n      <th>src_popnorth</th>\n      <th>src_area</th>\n      <th>geoeast</th>\n      <th>geonorth</th>\n      <th>popeast</th>\n      <th>popnorth</th>\n      <th>area_km2</th>\n    </tr>\n  </thead>\n  <tbody>\n    <tr>\n      <th>0</th>\n      <td>10</td>\n      <td>241</td>\n      <td>3</td>\n      <td>2334.43</td>\n      <td>542413</td>\n      <td>182380</td>\n      <td>542450</td>\n      <td>182415</td>\n      <td>0.790802</td>\n      <td>530851</td>\n      <td>174285</td>\n      <td>530876</td>\n      <td>174289</td>\n      <td>0.584104</td>\n    </tr>\n    <tr>\n      <th>1</th>\n      <td>10</td>\n      <td>612</td>\n      <td>5</td>\n      <td>1529.83</td>\n      <td>542413</td>\n      <td>182380</td>\n      <td>542450</td>\n      <td>182415</td>\n      <td>0.790802</td>\n      <td>551347</td>\n      <td>192721</td>\n      <td>550534</td>\n      <td>191931</td>\n      <td>6.279430</td>\n    </tr>\n    <tr>\n      <th>2</th>\n      <td>10</td>\n      <td>905</td>\n      <td>4</td>\n      <td>1390.04</td>\n      <td>542413</td>\n      <td>182380</td>\n      <td>542450</td>\n      <td>182415</td>\n      <td>0.790802</td>\n      <td>535060</td>\n      <td>178641</td>\n      <td>535009</td>\n      <td>178663</td>\n      <td>0.662274</td>\n    </tr>\n    <tr>\n      <th>3</th>\n      <td>10</td>\n      <td>407</td>\n      <td>7</td>\n      <td>157.91</td>\n      <td>542413</td>\n      <td>182380</td>\n      <td>542450</td>\n      <td>182415</td>\n      <td>0.790802</td>\n      <td>544366</td>\n      <td>183515</td>\n      <td>544543</td>\n      <td>183531</td>\n      <td>0.796626</td>\n    </tr>\n    <tr>\n      <th>4</th>\n      <td>10</td>\n      <td>603</td>\n      <td>4</td>\n      <td>1781.67</td>\n      <td>542413</td>\n      <td>182380</td>\n      <td>542450</td>\n      <td>182415</td>\n      <td>0.790802</td>\n      <td>532416</td>\n      <td>197315</td>\n      <td>532432</td>\n      <td>197391</td>\n      <td>1.282990</td>\n    </tr>\n    <tr>\n      <th>...</th>\n      <td>...</td>\n      <td>...</td>\n      <td>...</td>\n      <td>...</td>\n      <td>...</td>\n      <td>...</td>\n      <td>...</td>\n      <td>...</td>\n      <td>...</td>\n      <td>...</td>\n      <td>...</td>\n      <td>...</td>\n      <td>...</td>\n      <td>...</td>\n    </tr>\n    <tr>\n      <th>9825</th>\n      <td>657</td>\n      <td>207</td>\n      <td>6</td>\n      <td>1742.70</td>\n      <td>509284</td>\n      <td>182666</td>\n      <td>509368</td>\n      <td>182517</td>\n      <td>2.388420</td>\n      <td>523999</td>\n      <td>180757</td>\n      <td>524025</td>\n      <td>180791</td>\n      <td>0.431376</td>\n    </tr>\n    <tr>\n      <th>9826</th>\n      <td>657</td>\n      <td>359</td>\n      <td>2</td>\n      <td>2693.21</td>\n      <td>509284</td>\n      <td>182666</td>\n      <td>509368</td>\n      <td>182517</td>\n      <td>2.388420</td>\n      <td>529177</td>\n      <td>181229</td>\n      <td>529175</td>\n      <td>181482</td>\n      <td>1.292420</td>\n    </tr>\n    <tr>\n      <th>9827</th>\n      <td>657</td>\n      <td>656</td>\n      <td>7</td>\n      <td>298.18</td>\n      <td>509284</td>\n      <td>182666</td>\n      <td>509368</td>\n      <td>182517</td>\n      <td>2.388420</td>\n      <td>507078</td>\n      <td>182644</td>\n      <td>507235</td>\n      <td>182827</td>\n      <td>2.130680</td>\n    </tr>\n    <tr>\n      <th>9828</th>\n      <td>657</td>\n      <td>540</td>\n      <td>7</td>\n      <td>312.27</td>\n      <td>509284</td>\n      <td>182666</td>\n      <td>509368</td>\n      <td>182517</td>\n      <td>2.388420</td>\n      <td>511046</td>\n      <td>183262</td>\n      <td>511310</td>\n      <td>183074</td>\n      <td>2.057230</td>\n    </tr>\n    <tr>\n      <th>9829</th>\n      <td>657</td>\n      <td>560</td>\n      <td>1</td>\n      <td>1345.90</td>\n      <td>509284</td>\n      <td>182666</td>\n      <td>509368</td>\n      <td>182517</td>\n      <td>2.388420</td>\n      <td>516302</td>\n      <td>180206</td>\n      <td>516346</td>\n      <td>180172</td>\n      <td>1.013690</td>\n    </tr>\n  </tbody>\n</table>\n<p>9830 rows × 14 columns</p>\n</div>"
     },
     "execution_count": 183,
     "metadata": {},
     "output_type": "execute_result"
    }
   ],
   "source": [
    "result_2.drop('MOVEMENT_ID', inplace=True, axis=1)\n",
    "result_2"
   ],
   "metadata": {
    "collapsed": false,
    "pycharm": {
     "name": "#%%\n"
    }
   }
  },
  {
   "cell_type": "code",
   "execution_count": 184,
   "outputs": [],
   "source": [
    "result_2 = result_2.rename(columns={'geoeast': 'dst_geoeast', 'geonorth': 'dst_geonorth', 'popeast': 'dst_popeast', 'popnorth': 'dst_popnorth', 'area_km2':'dst_area'})"
   ],
   "metadata": {
    "collapsed": false,
    "pycharm": {
     "name": "#%%\n"
    }
   }
  },
  {
   "cell_type": "code",
   "execution_count": 185,
   "outputs": [],
   "source": [
    "\n",
    "result_2['geo_distance'] = np.sqrt(((result_2['src_geoeast'] - result_2['dst_geoeast'])**2) + (result_2['src_geonorth'] - result_2['dst_geonorth'])**2)"
   ],
   "metadata": {
    "collapsed": false,
    "pycharm": {
     "name": "#%%\n"
    }
   }
  },
  {
   "cell_type": "code",
   "execution_count": 186,
   "outputs": [
    {
     "data": {
      "text/plain": "      sourceid  dstid  dow  mean_travel_time  src_geoeast  src_geonorth  \\\n0           10    241    3           2334.43       542413        182380   \n1           10    612    5           1529.83       542413        182380   \n2           10    905    4           1390.04       542413        182380   \n3           10    407    7            157.91       542413        182380   \n4           10    603    4           1781.67       542413        182380   \n...        ...    ...  ...               ...          ...           ...   \n9825       657    207    6           1742.70       509284        182666   \n9826       657    359    2           2693.21       509284        182666   \n9827       657    656    7            298.18       509284        182666   \n9828       657    540    7            312.27       509284        182666   \n9829       657    560    1           1345.90       509284        182666   \n\n      src_popeast  src_popnorth  src_area  dst_geoeast  dst_geonorth  \\\n0          542450        182415  0.790802       530851        174285   \n1          542450        182415  0.790802       551347        192721   \n2          542450        182415  0.790802       535060        178641   \n3          542450        182415  0.790802       544366        183515   \n4          542450        182415  0.790802       532416        197315   \n...           ...           ...       ...          ...           ...   \n9825       509368        182517  2.388420       523999        180757   \n9826       509368        182517  2.388420       529177        181229   \n9827       509368        182517  2.388420       507078        182644   \n9828       509368        182517  2.388420       511046        183262   \n9829       509368        182517  2.388420       516302        180206   \n\n      dst_popeast  dst_popnorth  dst_area  geo_distance  \n0          530876        174289  0.584104  14114.137204  \n1          550534        191931  6.279430  13665.746851  \n2          535009        178663  0.662274   8249.044187  \n3          544543        183531  0.796626   2258.856791  \n4          532432        197391  1.282990  17972.040340  \n...           ...           ...       ...           ...  \n9825       524025        180791  0.431376  14838.312101  \n9826       529175        181482  1.292420  19944.834369  \n9827       507235        182827  2.130680   2206.109698  \n9828       511310        183074  2.057230   1860.069891  \n9829       516346        180172  1.013690   7436.660810  \n\n[9830 rows x 15 columns]",
      "text/html": "<div>\n<style scoped>\n    .dataframe tbody tr th:only-of-type {\n        vertical-align: middle;\n    }\n\n    .dataframe tbody tr th {\n        vertical-align: top;\n    }\n\n    .dataframe thead th {\n        text-align: right;\n    }\n</style>\n<table border=\"1\" class=\"dataframe\">\n  <thead>\n    <tr style=\"text-align: right;\">\n      <th></th>\n      <th>sourceid</th>\n      <th>dstid</th>\n      <th>dow</th>\n      <th>mean_travel_time</th>\n      <th>src_geoeast</th>\n      <th>src_geonorth</th>\n      <th>src_popeast</th>\n      <th>src_popnorth</th>\n      <th>src_area</th>\n      <th>dst_geoeast</th>\n      <th>dst_geonorth</th>\n      <th>dst_popeast</th>\n      <th>dst_popnorth</th>\n      <th>dst_area</th>\n      <th>geo_distance</th>\n    </tr>\n  </thead>\n  <tbody>\n    <tr>\n      <th>0</th>\n      <td>10</td>\n      <td>241</td>\n      <td>3</td>\n      <td>2334.43</td>\n      <td>542413</td>\n      <td>182380</td>\n      <td>542450</td>\n      <td>182415</td>\n      <td>0.790802</td>\n      <td>530851</td>\n      <td>174285</td>\n      <td>530876</td>\n      <td>174289</td>\n      <td>0.584104</td>\n      <td>14114.137204</td>\n    </tr>\n    <tr>\n      <th>1</th>\n      <td>10</td>\n      <td>612</td>\n      <td>5</td>\n      <td>1529.83</td>\n      <td>542413</td>\n      <td>182380</td>\n      <td>542450</td>\n      <td>182415</td>\n      <td>0.790802</td>\n      <td>551347</td>\n      <td>192721</td>\n      <td>550534</td>\n      <td>191931</td>\n      <td>6.279430</td>\n      <td>13665.746851</td>\n    </tr>\n    <tr>\n      <th>2</th>\n      <td>10</td>\n      <td>905</td>\n      <td>4</td>\n      <td>1390.04</td>\n      <td>542413</td>\n      <td>182380</td>\n      <td>542450</td>\n      <td>182415</td>\n      <td>0.790802</td>\n      <td>535060</td>\n      <td>178641</td>\n      <td>535009</td>\n      <td>178663</td>\n      <td>0.662274</td>\n      <td>8249.044187</td>\n    </tr>\n    <tr>\n      <th>3</th>\n      <td>10</td>\n      <td>407</td>\n      <td>7</td>\n      <td>157.91</td>\n      <td>542413</td>\n      <td>182380</td>\n      <td>542450</td>\n      <td>182415</td>\n      <td>0.790802</td>\n      <td>544366</td>\n      <td>183515</td>\n      <td>544543</td>\n      <td>183531</td>\n      <td>0.796626</td>\n      <td>2258.856791</td>\n    </tr>\n    <tr>\n      <th>4</th>\n      <td>10</td>\n      <td>603</td>\n      <td>4</td>\n      <td>1781.67</td>\n      <td>542413</td>\n      <td>182380</td>\n      <td>542450</td>\n      <td>182415</td>\n      <td>0.790802</td>\n      <td>532416</td>\n      <td>197315</td>\n      <td>532432</td>\n      <td>197391</td>\n      <td>1.282990</td>\n      <td>17972.040340</td>\n    </tr>\n    <tr>\n      <th>...</th>\n      <td>...</td>\n      <td>...</td>\n      <td>...</td>\n      <td>...</td>\n      <td>...</td>\n      <td>...</td>\n      <td>...</td>\n      <td>...</td>\n      <td>...</td>\n      <td>...</td>\n      <td>...</td>\n      <td>...</td>\n      <td>...</td>\n      <td>...</td>\n      <td>...</td>\n    </tr>\n    <tr>\n      <th>9825</th>\n      <td>657</td>\n      <td>207</td>\n      <td>6</td>\n      <td>1742.70</td>\n      <td>509284</td>\n      <td>182666</td>\n      <td>509368</td>\n      <td>182517</td>\n      <td>2.388420</td>\n      <td>523999</td>\n      <td>180757</td>\n      <td>524025</td>\n      <td>180791</td>\n      <td>0.431376</td>\n      <td>14838.312101</td>\n    </tr>\n    <tr>\n      <th>9826</th>\n      <td>657</td>\n      <td>359</td>\n      <td>2</td>\n      <td>2693.21</td>\n      <td>509284</td>\n      <td>182666</td>\n      <td>509368</td>\n      <td>182517</td>\n      <td>2.388420</td>\n      <td>529177</td>\n      <td>181229</td>\n      <td>529175</td>\n      <td>181482</td>\n      <td>1.292420</td>\n      <td>19944.834369</td>\n    </tr>\n    <tr>\n      <th>9827</th>\n      <td>657</td>\n      <td>656</td>\n      <td>7</td>\n      <td>298.18</td>\n      <td>509284</td>\n      <td>182666</td>\n      <td>509368</td>\n      <td>182517</td>\n      <td>2.388420</td>\n      <td>507078</td>\n      <td>182644</td>\n      <td>507235</td>\n      <td>182827</td>\n      <td>2.130680</td>\n      <td>2206.109698</td>\n    </tr>\n    <tr>\n      <th>9828</th>\n      <td>657</td>\n      <td>540</td>\n      <td>7</td>\n      <td>312.27</td>\n      <td>509284</td>\n      <td>182666</td>\n      <td>509368</td>\n      <td>182517</td>\n      <td>2.388420</td>\n      <td>511046</td>\n      <td>183262</td>\n      <td>511310</td>\n      <td>183074</td>\n      <td>2.057230</td>\n      <td>1860.069891</td>\n    </tr>\n    <tr>\n      <th>9829</th>\n      <td>657</td>\n      <td>560</td>\n      <td>1</td>\n      <td>1345.90</td>\n      <td>509284</td>\n      <td>182666</td>\n      <td>509368</td>\n      <td>182517</td>\n      <td>2.388420</td>\n      <td>516302</td>\n      <td>180206</td>\n      <td>516346</td>\n      <td>180172</td>\n      <td>1.013690</td>\n      <td>7436.660810</td>\n    </tr>\n  </tbody>\n</table>\n<p>9830 rows × 15 columns</p>\n</div>"
     },
     "execution_count": 186,
     "metadata": {},
     "output_type": "execute_result"
    }
   ],
   "source": [
    "result_2"
   ],
   "metadata": {
    "collapsed": false,
    "pycharm": {
     "name": "#%%\n"
    }
   }
  },
  {
   "cell_type": "code",
   "execution_count": 187,
   "outputs": [],
   "source": [
    "result_2['pop_distance'] = np.sqrt(((result_2['src_popeast'] - result_2['dst_popeast'])**2) + (result_2['src_popnorth'] - result_2['dst_popnorth'])**2)"
   ],
   "metadata": {
    "collapsed": false,
    "pycharm": {
     "name": "#%%\n"
    }
   }
  },
  {
   "cell_type": "code",
   "execution_count": 188,
   "outputs": [
    {
     "data": {
      "text/plain": "      sourceid  dstid  dow  mean_travel_time  src_geoeast  src_geonorth  \\\n0           10    241    3           2334.43       542413        182380   \n1           10    612    5           1529.83       542413        182380   \n2           10    905    4           1390.04       542413        182380   \n3           10    407    7            157.91       542413        182380   \n4           10    603    4           1781.67       542413        182380   \n...        ...    ...  ...               ...          ...           ...   \n9825       657    207    6           1742.70       509284        182666   \n9826       657    359    2           2693.21       509284        182666   \n9827       657    656    7            298.18       509284        182666   \n9828       657    540    7            312.27       509284        182666   \n9829       657    560    1           1345.90       509284        182666   \n\n      src_popeast  src_popnorth  src_area  dst_geoeast  dst_geonorth  \\\n0          542450        182415  0.790802       530851        174285   \n1          542450        182415  0.790802       551347        192721   \n2          542450        182415  0.790802       535060        178641   \n3          542450        182415  0.790802       544366        183515   \n4          542450        182415  0.790802       532416        197315   \n...           ...           ...       ...          ...           ...   \n9825       509368        182517  2.388420       523999        180757   \n9826       509368        182517  2.388420       529177        181229   \n9827       509368        182517  2.388420       507078        182644   \n9828       509368        182517  2.388420       511046        183262   \n9829       509368        182517  2.388420       516302        180206   \n\n      dst_popeast  dst_popnorth  dst_area  geo_distance  pop_distance  \n0          530876        174289  0.584104  14114.137204  14141.759155  \n1          550534        191931  6.279430  13665.746851  12486.204868  \n2          535009        178663  0.662274   8249.044187   8333.425766  \n3          544543        183531  0.796626   2258.856791   2371.941188  \n4          532432        197391  1.282990  17972.040340  18017.793983  \n...           ...           ...       ...           ...           ...  \n9825       524025        180791  0.431376  14838.312101  14758.276492  \n9826       529175        181482  1.292420  19944.834369  19834.023142  \n9827       507235        182827  2.130680   2206.109698   2155.409242  \n9828       511310        183074  2.057230   1860.069891   2020.300225  \n9829       516346        180172  1.013690   7436.660810   7361.488233  \n\n[9830 rows x 16 columns]",
      "text/html": "<div>\n<style scoped>\n    .dataframe tbody tr th:only-of-type {\n        vertical-align: middle;\n    }\n\n    .dataframe tbody tr th {\n        vertical-align: top;\n    }\n\n    .dataframe thead th {\n        text-align: right;\n    }\n</style>\n<table border=\"1\" class=\"dataframe\">\n  <thead>\n    <tr style=\"text-align: right;\">\n      <th></th>\n      <th>sourceid</th>\n      <th>dstid</th>\n      <th>dow</th>\n      <th>mean_travel_time</th>\n      <th>src_geoeast</th>\n      <th>src_geonorth</th>\n      <th>src_popeast</th>\n      <th>src_popnorth</th>\n      <th>src_area</th>\n      <th>dst_geoeast</th>\n      <th>dst_geonorth</th>\n      <th>dst_popeast</th>\n      <th>dst_popnorth</th>\n      <th>dst_area</th>\n      <th>geo_distance</th>\n      <th>pop_distance</th>\n    </tr>\n  </thead>\n  <tbody>\n    <tr>\n      <th>0</th>\n      <td>10</td>\n      <td>241</td>\n      <td>3</td>\n      <td>2334.43</td>\n      <td>542413</td>\n      <td>182380</td>\n      <td>542450</td>\n      <td>182415</td>\n      <td>0.790802</td>\n      <td>530851</td>\n      <td>174285</td>\n      <td>530876</td>\n      <td>174289</td>\n      <td>0.584104</td>\n      <td>14114.137204</td>\n      <td>14141.759155</td>\n    </tr>\n    <tr>\n      <th>1</th>\n      <td>10</td>\n      <td>612</td>\n      <td>5</td>\n      <td>1529.83</td>\n      <td>542413</td>\n      <td>182380</td>\n      <td>542450</td>\n      <td>182415</td>\n      <td>0.790802</td>\n      <td>551347</td>\n      <td>192721</td>\n      <td>550534</td>\n      <td>191931</td>\n      <td>6.279430</td>\n      <td>13665.746851</td>\n      <td>12486.204868</td>\n    </tr>\n    <tr>\n      <th>2</th>\n      <td>10</td>\n      <td>905</td>\n      <td>4</td>\n      <td>1390.04</td>\n      <td>542413</td>\n      <td>182380</td>\n      <td>542450</td>\n      <td>182415</td>\n      <td>0.790802</td>\n      <td>535060</td>\n      <td>178641</td>\n      <td>535009</td>\n      <td>178663</td>\n      <td>0.662274</td>\n      <td>8249.044187</td>\n      <td>8333.425766</td>\n    </tr>\n    <tr>\n      <th>3</th>\n      <td>10</td>\n      <td>407</td>\n      <td>7</td>\n      <td>157.91</td>\n      <td>542413</td>\n      <td>182380</td>\n      <td>542450</td>\n      <td>182415</td>\n      <td>0.790802</td>\n      <td>544366</td>\n      <td>183515</td>\n      <td>544543</td>\n      <td>183531</td>\n      <td>0.796626</td>\n      <td>2258.856791</td>\n      <td>2371.941188</td>\n    </tr>\n    <tr>\n      <th>4</th>\n      <td>10</td>\n      <td>603</td>\n      <td>4</td>\n      <td>1781.67</td>\n      <td>542413</td>\n      <td>182380</td>\n      <td>542450</td>\n      <td>182415</td>\n      <td>0.790802</td>\n      <td>532416</td>\n      <td>197315</td>\n      <td>532432</td>\n      <td>197391</td>\n      <td>1.282990</td>\n      <td>17972.040340</td>\n      <td>18017.793983</td>\n    </tr>\n    <tr>\n      <th>...</th>\n      <td>...</td>\n      <td>...</td>\n      <td>...</td>\n      <td>...</td>\n      <td>...</td>\n      <td>...</td>\n      <td>...</td>\n      <td>...</td>\n      <td>...</td>\n      <td>...</td>\n      <td>...</td>\n      <td>...</td>\n      <td>...</td>\n      <td>...</td>\n      <td>...</td>\n      <td>...</td>\n    </tr>\n    <tr>\n      <th>9825</th>\n      <td>657</td>\n      <td>207</td>\n      <td>6</td>\n      <td>1742.70</td>\n      <td>509284</td>\n      <td>182666</td>\n      <td>509368</td>\n      <td>182517</td>\n      <td>2.388420</td>\n      <td>523999</td>\n      <td>180757</td>\n      <td>524025</td>\n      <td>180791</td>\n      <td>0.431376</td>\n      <td>14838.312101</td>\n      <td>14758.276492</td>\n    </tr>\n    <tr>\n      <th>9826</th>\n      <td>657</td>\n      <td>359</td>\n      <td>2</td>\n      <td>2693.21</td>\n      <td>509284</td>\n      <td>182666</td>\n      <td>509368</td>\n      <td>182517</td>\n      <td>2.388420</td>\n      <td>529177</td>\n      <td>181229</td>\n      <td>529175</td>\n      <td>181482</td>\n      <td>1.292420</td>\n      <td>19944.834369</td>\n      <td>19834.023142</td>\n    </tr>\n    <tr>\n      <th>9827</th>\n      <td>657</td>\n      <td>656</td>\n      <td>7</td>\n      <td>298.18</td>\n      <td>509284</td>\n      <td>182666</td>\n      <td>509368</td>\n      <td>182517</td>\n      <td>2.388420</td>\n      <td>507078</td>\n      <td>182644</td>\n      <td>507235</td>\n      <td>182827</td>\n      <td>2.130680</td>\n      <td>2206.109698</td>\n      <td>2155.409242</td>\n    </tr>\n    <tr>\n      <th>9828</th>\n      <td>657</td>\n      <td>540</td>\n      <td>7</td>\n      <td>312.27</td>\n      <td>509284</td>\n      <td>182666</td>\n      <td>509368</td>\n      <td>182517</td>\n      <td>2.388420</td>\n      <td>511046</td>\n      <td>183262</td>\n      <td>511310</td>\n      <td>183074</td>\n      <td>2.057230</td>\n      <td>1860.069891</td>\n      <td>2020.300225</td>\n    </tr>\n    <tr>\n      <th>9829</th>\n      <td>657</td>\n      <td>560</td>\n      <td>1</td>\n      <td>1345.90</td>\n      <td>509284</td>\n      <td>182666</td>\n      <td>509368</td>\n      <td>182517</td>\n      <td>2.388420</td>\n      <td>516302</td>\n      <td>180206</td>\n      <td>516346</td>\n      <td>180172</td>\n      <td>1.013690</td>\n      <td>7436.660810</td>\n      <td>7361.488233</td>\n    </tr>\n  </tbody>\n</table>\n<p>9830 rows × 16 columns</p>\n</div>"
     },
     "execution_count": 188,
     "metadata": {},
     "output_type": "execute_result"
    }
   ],
   "source": [
    "result_2"
   ],
   "metadata": {
    "collapsed": false,
    "pycharm": {
     "name": "#%%\n"
    }
   }
  },
  {
   "cell_type": "code",
   "execution_count": 189,
   "outputs": [
    {
     "name": "stderr",
     "output_type": "stream",
     "text": [
      "C:\\Users\\aliyu\\AppData\\Local\\Temp/ipykernel_15308/3729526415.py:1: UserWarning: Geometry is in a geographic CRS. Results from 'centroid' are likely incorrect. Use 'GeoSeries.to_crs()' to re-project geometries to a projected CRS before this operation.\n",
      "\n",
      "  df_geo_json['longitude'] = df_geo_json.centroid.x\n",
      "C:\\Users\\aliyu\\AppData\\Local\\Temp/ipykernel_15308/3729526415.py:2: UserWarning: Geometry is in a geographic CRS. Results from 'centroid' are likely incorrect. Use 'GeoSeries.to_crs()' to re-project geometries to a projected CRS before this operation.\n",
      "\n",
      "  df_geo_json['latitude'] = df_geo_json.centroid.y\n"
     ]
    }
   ],
   "source": [
    "df_geo_json['longitude'] = df_geo_json.centroid.x\n",
    "df_geo_json['latitude'] = df_geo_json.centroid.y"
   ],
   "metadata": {
    "collapsed": false,
    "pycharm": {
     "name": "#%%\n"
    }
   }
  },
  {
   "cell_type": "code",
   "execution_count": 190,
   "outputs": [
    {
     "data": {
      "text/plain": "     msoa_code        msoa_name la_code      la_name  geoeast  geonorth  \\\n0    E02000508   Hillingdon 015    00AS   Hillingdon   506163    183536   \n1    E02000716       Newham 003    00BB       Newham   541978    186009   \n2    E02000747       Newham 034    00BB       Newham   539578    181317   \n3    E02000748       Newham 035    00BB       Newham   542500    181152   \n4    E02000749       Newham 036    00BB       Newham   541047    181103   \n..         ...              ...     ...          ...      ...       ...   \n978  E02000974  Westminster 015    00BK  Westminster   527028    181254   \n979  E02000975  Westminster 016    00BK  Westminster   526396    181129   \n980  E02000980  Westminster 021    00BK  Westminster   529921    178656   \n981  E02000981  Westminster 022    00BK  Westminster   529123    178488   \n982  E02000983  Westminster 024    00BK  Westminster   529464    178054   \n\n     popeast  popnorth  area_km2 MOVEMENT_ID             DISPLAY_NAME  \\\n0     505978    183811  2.746600           0     Hillingdon, 00AS (0)   \n1     541870    185568  1.565170           1         Newham, 00BB (1)   \n2     539891    181438  2.082410           2         Newham, 00BB (2)   \n3     542439    181339  1.331750           3         Newham, 00BB (3)   \n4     540847    181294  1.419020           4         Newham, 00BB (4)   \n..       ...       ...       ...         ...                      ...   \n978   527172    181179  0.689337         978  Westminster, 00BK (978)   \n979   526375    181042  0.484638         979  Westminster, 00BK (979)   \n980   529758    178698  0.539208         980  Westminster, 00BK (980)   \n981   529140    178401  0.363777         981  Westminster, 00BK (981)   \n982   529488    178111  0.559636         982  Westminster, 00BK (982)   \n\n                                              geometry  longitude   latitude  \n0    MULTIPOLYGON (((-0.47794 51.55485, -0.47665 51...  -0.470593  51.540762  \n1    MULTIPOLYGON (((0.05255 51.56171, 0.05310 51.5...   0.046567  51.555122  \n2    MULTIPOLYGON (((0.01001 51.52181, 0.01003 51.5...   0.010071  51.513538  \n3    MULTIPOLYGON (((0.05392 51.51611, 0.05174 51.5...   0.052078  51.511347  \n4    MULTIPOLYGON (((0.03241 51.51704, 0.03179 51.5...   0.031180  51.511230  \n..                                                 ...        ...        ...  \n978  MULTIPOLYGON (((-0.17019 51.51994, -0.16019 51...  -0.170714  51.515923  \n979  MULTIPOLYGON (((-0.17867 51.52008, -0.17898 51...  -0.179866  51.514957  \n980  MULTIPOLYGON (((-0.12279 51.49453, -0.12305 51...  -0.129992  51.491930  \n981  MULTIPOLYGON (((-0.14126 51.49455, -0.14080 51...  -0.141541  51.490604  \n982  MULTIPOLYGON (((-0.12710 51.48764, -0.12957 51...  -0.136853  51.486635  \n\n[983 rows x 14 columns]",
      "text/html": "<div>\n<style scoped>\n    .dataframe tbody tr th:only-of-type {\n        vertical-align: middle;\n    }\n\n    .dataframe tbody tr th {\n        vertical-align: top;\n    }\n\n    .dataframe thead th {\n        text-align: right;\n    }\n</style>\n<table border=\"1\" class=\"dataframe\">\n  <thead>\n    <tr style=\"text-align: right;\">\n      <th></th>\n      <th>msoa_code</th>\n      <th>msoa_name</th>\n      <th>la_code</th>\n      <th>la_name</th>\n      <th>geoeast</th>\n      <th>geonorth</th>\n      <th>popeast</th>\n      <th>popnorth</th>\n      <th>area_km2</th>\n      <th>MOVEMENT_ID</th>\n      <th>DISPLAY_NAME</th>\n      <th>geometry</th>\n      <th>longitude</th>\n      <th>latitude</th>\n    </tr>\n  </thead>\n  <tbody>\n    <tr>\n      <th>0</th>\n      <td>E02000508</td>\n      <td>Hillingdon 015</td>\n      <td>00AS</td>\n      <td>Hillingdon</td>\n      <td>506163</td>\n      <td>183536</td>\n      <td>505978</td>\n      <td>183811</td>\n      <td>2.746600</td>\n      <td>0</td>\n      <td>Hillingdon, 00AS (0)</td>\n      <td>MULTIPOLYGON (((-0.47794 51.55485, -0.47665 51...</td>\n      <td>-0.470593</td>\n      <td>51.540762</td>\n    </tr>\n    <tr>\n      <th>1</th>\n      <td>E02000716</td>\n      <td>Newham 003</td>\n      <td>00BB</td>\n      <td>Newham</td>\n      <td>541978</td>\n      <td>186009</td>\n      <td>541870</td>\n      <td>185568</td>\n      <td>1.565170</td>\n      <td>1</td>\n      <td>Newham, 00BB (1)</td>\n      <td>MULTIPOLYGON (((0.05255 51.56171, 0.05310 51.5...</td>\n      <td>0.046567</td>\n      <td>51.555122</td>\n    </tr>\n    <tr>\n      <th>2</th>\n      <td>E02000747</td>\n      <td>Newham 034</td>\n      <td>00BB</td>\n      <td>Newham</td>\n      <td>539578</td>\n      <td>181317</td>\n      <td>539891</td>\n      <td>181438</td>\n      <td>2.082410</td>\n      <td>2</td>\n      <td>Newham, 00BB (2)</td>\n      <td>MULTIPOLYGON (((0.01001 51.52181, 0.01003 51.5...</td>\n      <td>0.010071</td>\n      <td>51.513538</td>\n    </tr>\n    <tr>\n      <th>3</th>\n      <td>E02000748</td>\n      <td>Newham 035</td>\n      <td>00BB</td>\n      <td>Newham</td>\n      <td>542500</td>\n      <td>181152</td>\n      <td>542439</td>\n      <td>181339</td>\n      <td>1.331750</td>\n      <td>3</td>\n      <td>Newham, 00BB (3)</td>\n      <td>MULTIPOLYGON (((0.05392 51.51611, 0.05174 51.5...</td>\n      <td>0.052078</td>\n      <td>51.511347</td>\n    </tr>\n    <tr>\n      <th>4</th>\n      <td>E02000749</td>\n      <td>Newham 036</td>\n      <td>00BB</td>\n      <td>Newham</td>\n      <td>541047</td>\n      <td>181103</td>\n      <td>540847</td>\n      <td>181294</td>\n      <td>1.419020</td>\n      <td>4</td>\n      <td>Newham, 00BB (4)</td>\n      <td>MULTIPOLYGON (((0.03241 51.51704, 0.03179 51.5...</td>\n      <td>0.031180</td>\n      <td>51.511230</td>\n    </tr>\n    <tr>\n      <th>...</th>\n      <td>...</td>\n      <td>...</td>\n      <td>...</td>\n      <td>...</td>\n      <td>...</td>\n      <td>...</td>\n      <td>...</td>\n      <td>...</td>\n      <td>...</td>\n      <td>...</td>\n      <td>...</td>\n      <td>...</td>\n      <td>...</td>\n      <td>...</td>\n    </tr>\n    <tr>\n      <th>978</th>\n      <td>E02000974</td>\n      <td>Westminster 015</td>\n      <td>00BK</td>\n      <td>Westminster</td>\n      <td>527028</td>\n      <td>181254</td>\n      <td>527172</td>\n      <td>181179</td>\n      <td>0.689337</td>\n      <td>978</td>\n      <td>Westminster, 00BK (978)</td>\n      <td>MULTIPOLYGON (((-0.17019 51.51994, -0.16019 51...</td>\n      <td>-0.170714</td>\n      <td>51.515923</td>\n    </tr>\n    <tr>\n      <th>979</th>\n      <td>E02000975</td>\n      <td>Westminster 016</td>\n      <td>00BK</td>\n      <td>Westminster</td>\n      <td>526396</td>\n      <td>181129</td>\n      <td>526375</td>\n      <td>181042</td>\n      <td>0.484638</td>\n      <td>979</td>\n      <td>Westminster, 00BK (979)</td>\n      <td>MULTIPOLYGON (((-0.17867 51.52008, -0.17898 51...</td>\n      <td>-0.179866</td>\n      <td>51.514957</td>\n    </tr>\n    <tr>\n      <th>980</th>\n      <td>E02000980</td>\n      <td>Westminster 021</td>\n      <td>00BK</td>\n      <td>Westminster</td>\n      <td>529921</td>\n      <td>178656</td>\n      <td>529758</td>\n      <td>178698</td>\n      <td>0.539208</td>\n      <td>980</td>\n      <td>Westminster, 00BK (980)</td>\n      <td>MULTIPOLYGON (((-0.12279 51.49453, -0.12305 51...</td>\n      <td>-0.129992</td>\n      <td>51.491930</td>\n    </tr>\n    <tr>\n      <th>981</th>\n      <td>E02000981</td>\n      <td>Westminster 022</td>\n      <td>00BK</td>\n      <td>Westminster</td>\n      <td>529123</td>\n      <td>178488</td>\n      <td>529140</td>\n      <td>178401</td>\n      <td>0.363777</td>\n      <td>981</td>\n      <td>Westminster, 00BK (981)</td>\n      <td>MULTIPOLYGON (((-0.14126 51.49455, -0.14080 51...</td>\n      <td>-0.141541</td>\n      <td>51.490604</td>\n    </tr>\n    <tr>\n      <th>982</th>\n      <td>E02000983</td>\n      <td>Westminster 024</td>\n      <td>00BK</td>\n      <td>Westminster</td>\n      <td>529464</td>\n      <td>178054</td>\n      <td>529488</td>\n      <td>178111</td>\n      <td>0.559636</td>\n      <td>982</td>\n      <td>Westminster, 00BK (982)</td>\n      <td>MULTIPOLYGON (((-0.12710 51.48764, -0.12957 51...</td>\n      <td>-0.136853</td>\n      <td>51.486635</td>\n    </tr>\n  </tbody>\n</table>\n<p>983 rows × 14 columns</p>\n</div>"
     },
     "execution_count": 190,
     "metadata": {},
     "output_type": "execute_result"
    }
   ],
   "source": [
    "df_geo_json"
   ],
   "metadata": {
    "collapsed": false,
    "pycharm": {
     "name": "#%%\n"
    }
   }
  },
  {
   "cell_type": "code",
   "execution_count": 191,
   "outputs": [],
   "source": [
    "df_geo_json['longitude_rad'] = [radians(_) for _ in df_geo_json['longitude']]\n",
    "df_geo_json['latitude_rad'] = [radians(_) for _ in df_geo_json['latitude']]"
   ],
   "metadata": {
    "collapsed": false,
    "pycharm": {
     "name": "#%%\n"
    }
   }
  },
  {
   "cell_type": "code",
   "execution_count": 192,
   "outputs": [
    {
     "data": {
      "text/plain": "     msoa_code        msoa_name la_code      la_name  geoeast  geonorth  \\\n0    E02000508   Hillingdon 015    00AS   Hillingdon   506163    183536   \n1    E02000716       Newham 003    00BB       Newham   541978    186009   \n2    E02000747       Newham 034    00BB       Newham   539578    181317   \n3    E02000748       Newham 035    00BB       Newham   542500    181152   \n4    E02000749       Newham 036    00BB       Newham   541047    181103   \n..         ...              ...     ...          ...      ...       ...   \n978  E02000974  Westminster 015    00BK  Westminster   527028    181254   \n979  E02000975  Westminster 016    00BK  Westminster   526396    181129   \n980  E02000980  Westminster 021    00BK  Westminster   529921    178656   \n981  E02000981  Westminster 022    00BK  Westminster   529123    178488   \n982  E02000983  Westminster 024    00BK  Westminster   529464    178054   \n\n     popeast  popnorth  area_km2 MOVEMENT_ID             DISPLAY_NAME  \\\n0     505978    183811  2.746600           0     Hillingdon, 00AS (0)   \n1     541870    185568  1.565170           1         Newham, 00BB (1)   \n2     539891    181438  2.082410           2         Newham, 00BB (2)   \n3     542439    181339  1.331750           3         Newham, 00BB (3)   \n4     540847    181294  1.419020           4         Newham, 00BB (4)   \n..       ...       ...       ...         ...                      ...   \n978   527172    181179  0.689337         978  Westminster, 00BK (978)   \n979   526375    181042  0.484638         979  Westminster, 00BK (979)   \n980   529758    178698  0.539208         980  Westminster, 00BK (980)   \n981   529140    178401  0.363777         981  Westminster, 00BK (981)   \n982   529488    178111  0.559636         982  Westminster, 00BK (982)   \n\n                                              geometry  longitude   latitude  \\\n0    MULTIPOLYGON (((-0.47794 51.55485, -0.47665 51...  -0.470593  51.540762   \n1    MULTIPOLYGON (((0.05255 51.56171, 0.05310 51.5...   0.046567  51.555122   \n2    MULTIPOLYGON (((0.01001 51.52181, 0.01003 51.5...   0.010071  51.513538   \n3    MULTIPOLYGON (((0.05392 51.51611, 0.05174 51.5...   0.052078  51.511347   \n4    MULTIPOLYGON (((0.03241 51.51704, 0.03179 51.5...   0.031180  51.511230   \n..                                                 ...        ...        ...   \n978  MULTIPOLYGON (((-0.17019 51.51994, -0.16019 51...  -0.170714  51.515923   \n979  MULTIPOLYGON (((-0.17867 51.52008, -0.17898 51...  -0.179866  51.514957   \n980  MULTIPOLYGON (((-0.12279 51.49453, -0.12305 51...  -0.129992  51.491930   \n981  MULTIPOLYGON (((-0.14126 51.49455, -0.14080 51...  -0.141541  51.490604   \n982  MULTIPOLYGON (((-0.12710 51.48764, -0.12957 51...  -0.136853  51.486635   \n\n     longitude_rad  latitude_rad  \n0        -0.008213      0.899556  \n1         0.000813      0.899807  \n2         0.000176      0.899081  \n3         0.000909      0.899043  \n4         0.000544      0.899041  \n..             ...           ...  \n978      -0.002980      0.899122  \n979      -0.003139      0.899106  \n980      -0.002269      0.898704  \n981      -0.002470      0.898681  \n982      -0.002389      0.898611  \n\n[983 rows x 16 columns]",
      "text/html": "<div>\n<style scoped>\n    .dataframe tbody tr th:only-of-type {\n        vertical-align: middle;\n    }\n\n    .dataframe tbody tr th {\n        vertical-align: top;\n    }\n\n    .dataframe thead th {\n        text-align: right;\n    }\n</style>\n<table border=\"1\" class=\"dataframe\">\n  <thead>\n    <tr style=\"text-align: right;\">\n      <th></th>\n      <th>msoa_code</th>\n      <th>msoa_name</th>\n      <th>la_code</th>\n      <th>la_name</th>\n      <th>geoeast</th>\n      <th>geonorth</th>\n      <th>popeast</th>\n      <th>popnorth</th>\n      <th>area_km2</th>\n      <th>MOVEMENT_ID</th>\n      <th>DISPLAY_NAME</th>\n      <th>geometry</th>\n      <th>longitude</th>\n      <th>latitude</th>\n      <th>longitude_rad</th>\n      <th>latitude_rad</th>\n    </tr>\n  </thead>\n  <tbody>\n    <tr>\n      <th>0</th>\n      <td>E02000508</td>\n      <td>Hillingdon 015</td>\n      <td>00AS</td>\n      <td>Hillingdon</td>\n      <td>506163</td>\n      <td>183536</td>\n      <td>505978</td>\n      <td>183811</td>\n      <td>2.746600</td>\n      <td>0</td>\n      <td>Hillingdon, 00AS (0)</td>\n      <td>MULTIPOLYGON (((-0.47794 51.55485, -0.47665 51...</td>\n      <td>-0.470593</td>\n      <td>51.540762</td>\n      <td>-0.008213</td>\n      <td>0.899556</td>\n    </tr>\n    <tr>\n      <th>1</th>\n      <td>E02000716</td>\n      <td>Newham 003</td>\n      <td>00BB</td>\n      <td>Newham</td>\n      <td>541978</td>\n      <td>186009</td>\n      <td>541870</td>\n      <td>185568</td>\n      <td>1.565170</td>\n      <td>1</td>\n      <td>Newham, 00BB (1)</td>\n      <td>MULTIPOLYGON (((0.05255 51.56171, 0.05310 51.5...</td>\n      <td>0.046567</td>\n      <td>51.555122</td>\n      <td>0.000813</td>\n      <td>0.899807</td>\n    </tr>\n    <tr>\n      <th>2</th>\n      <td>E02000747</td>\n      <td>Newham 034</td>\n      <td>00BB</td>\n      <td>Newham</td>\n      <td>539578</td>\n      <td>181317</td>\n      <td>539891</td>\n      <td>181438</td>\n      <td>2.082410</td>\n      <td>2</td>\n      <td>Newham, 00BB (2)</td>\n      <td>MULTIPOLYGON (((0.01001 51.52181, 0.01003 51.5...</td>\n      <td>0.010071</td>\n      <td>51.513538</td>\n      <td>0.000176</td>\n      <td>0.899081</td>\n    </tr>\n    <tr>\n      <th>3</th>\n      <td>E02000748</td>\n      <td>Newham 035</td>\n      <td>00BB</td>\n      <td>Newham</td>\n      <td>542500</td>\n      <td>181152</td>\n      <td>542439</td>\n      <td>181339</td>\n      <td>1.331750</td>\n      <td>3</td>\n      <td>Newham, 00BB (3)</td>\n      <td>MULTIPOLYGON (((0.05392 51.51611, 0.05174 51.5...</td>\n      <td>0.052078</td>\n      <td>51.511347</td>\n      <td>0.000909</td>\n      <td>0.899043</td>\n    </tr>\n    <tr>\n      <th>4</th>\n      <td>E02000749</td>\n      <td>Newham 036</td>\n      <td>00BB</td>\n      <td>Newham</td>\n      <td>541047</td>\n      <td>181103</td>\n      <td>540847</td>\n      <td>181294</td>\n      <td>1.419020</td>\n      <td>4</td>\n      <td>Newham, 00BB (4)</td>\n      <td>MULTIPOLYGON (((0.03241 51.51704, 0.03179 51.5...</td>\n      <td>0.031180</td>\n      <td>51.511230</td>\n      <td>0.000544</td>\n      <td>0.899041</td>\n    </tr>\n    <tr>\n      <th>...</th>\n      <td>...</td>\n      <td>...</td>\n      <td>...</td>\n      <td>...</td>\n      <td>...</td>\n      <td>...</td>\n      <td>...</td>\n      <td>...</td>\n      <td>...</td>\n      <td>...</td>\n      <td>...</td>\n      <td>...</td>\n      <td>...</td>\n      <td>...</td>\n      <td>...</td>\n      <td>...</td>\n    </tr>\n    <tr>\n      <th>978</th>\n      <td>E02000974</td>\n      <td>Westminster 015</td>\n      <td>00BK</td>\n      <td>Westminster</td>\n      <td>527028</td>\n      <td>181254</td>\n      <td>527172</td>\n      <td>181179</td>\n      <td>0.689337</td>\n      <td>978</td>\n      <td>Westminster, 00BK (978)</td>\n      <td>MULTIPOLYGON (((-0.17019 51.51994, -0.16019 51...</td>\n      <td>-0.170714</td>\n      <td>51.515923</td>\n      <td>-0.002980</td>\n      <td>0.899122</td>\n    </tr>\n    <tr>\n      <th>979</th>\n      <td>E02000975</td>\n      <td>Westminster 016</td>\n      <td>00BK</td>\n      <td>Westminster</td>\n      <td>526396</td>\n      <td>181129</td>\n      <td>526375</td>\n      <td>181042</td>\n      <td>0.484638</td>\n      <td>979</td>\n      <td>Westminster, 00BK (979)</td>\n      <td>MULTIPOLYGON (((-0.17867 51.52008, -0.17898 51...</td>\n      <td>-0.179866</td>\n      <td>51.514957</td>\n      <td>-0.003139</td>\n      <td>0.899106</td>\n    </tr>\n    <tr>\n      <th>980</th>\n      <td>E02000980</td>\n      <td>Westminster 021</td>\n      <td>00BK</td>\n      <td>Westminster</td>\n      <td>529921</td>\n      <td>178656</td>\n      <td>529758</td>\n      <td>178698</td>\n      <td>0.539208</td>\n      <td>980</td>\n      <td>Westminster, 00BK (980)</td>\n      <td>MULTIPOLYGON (((-0.12279 51.49453, -0.12305 51...</td>\n      <td>-0.129992</td>\n      <td>51.491930</td>\n      <td>-0.002269</td>\n      <td>0.898704</td>\n    </tr>\n    <tr>\n      <th>981</th>\n      <td>E02000981</td>\n      <td>Westminster 022</td>\n      <td>00BK</td>\n      <td>Westminster</td>\n      <td>529123</td>\n      <td>178488</td>\n      <td>529140</td>\n      <td>178401</td>\n      <td>0.363777</td>\n      <td>981</td>\n      <td>Westminster, 00BK (981)</td>\n      <td>MULTIPOLYGON (((-0.14126 51.49455, -0.14080 51...</td>\n      <td>-0.141541</td>\n      <td>51.490604</td>\n      <td>-0.002470</td>\n      <td>0.898681</td>\n    </tr>\n    <tr>\n      <th>982</th>\n      <td>E02000983</td>\n      <td>Westminster 024</td>\n      <td>00BK</td>\n      <td>Westminster</td>\n      <td>529464</td>\n      <td>178054</td>\n      <td>529488</td>\n      <td>178111</td>\n      <td>0.559636</td>\n      <td>982</td>\n      <td>Westminster, 00BK (982)</td>\n      <td>MULTIPOLYGON (((-0.12710 51.48764, -0.12957 51...</td>\n      <td>-0.136853</td>\n      <td>51.486635</td>\n      <td>-0.002389</td>\n      <td>0.898611</td>\n    </tr>\n  </tbody>\n</table>\n<p>983 rows × 16 columns</p>\n</div>"
     },
     "execution_count": 192,
     "metadata": {},
     "output_type": "execute_result"
    }
   ],
   "source": [
    "df_geo_json"
   ],
   "metadata": {
    "collapsed": false,
    "pycharm": {
     "name": "#%%\n"
    }
   }
  },
  {
   "cell_type": "markdown",
   "source": [],
   "metadata": {
    "collapsed": false
   }
  },
  {
   "cell_type": "code",
   "execution_count": 193,
   "outputs": [],
   "source": [
    "df_extract_geo_json = df_geo_json[['MOVEMENT_ID','longitude_rad', 'latitude_rad']]"
   ],
   "metadata": {
    "collapsed": false,
    "pycharm": {
     "name": "#%%\n"
    }
   }
  },
  {
   "cell_type": "code",
   "execution_count": 194,
   "outputs": [
    {
     "data": {
      "text/plain": "      sourceid  dstid  dow  mean_travel_time  src_geoeast  src_geonorth  \\\n0           10    241    3           2334.43       542413        182380   \n1           10    612    5           1529.83       542413        182380   \n2           10    905    4           1390.04       542413        182380   \n3           10    407    7            157.91       542413        182380   \n4           10    603    4           1781.67       542413        182380   \n...        ...    ...  ...               ...          ...           ...   \n9825       657    207    6           1742.70       509284        182666   \n9826       657    359    2           2693.21       509284        182666   \n9827       657    656    7            298.18       509284        182666   \n9828       657    540    7            312.27       509284        182666   \n9829       657    560    1           1345.90       509284        182666   \n\n      src_popeast  src_popnorth  src_area  dst_geoeast  dst_geonorth  \\\n0          542450        182415  0.790802       530851        174285   \n1          542450        182415  0.790802       551347        192721   \n2          542450        182415  0.790802       535060        178641   \n3          542450        182415  0.790802       544366        183515   \n4          542450        182415  0.790802       532416        197315   \n...           ...           ...       ...          ...           ...   \n9825       509368        182517  2.388420       523999        180757   \n9826       509368        182517  2.388420       529177        181229   \n9827       509368        182517  2.388420       507078        182644   \n9828       509368        182517  2.388420       511046        183262   \n9829       509368        182517  2.388420       516302        180206   \n\n      dst_popeast  dst_popnorth  dst_area  geo_distance  pop_distance  \\\n0          530876        174289  0.584104  14114.137204  14141.759155   \n1          550534        191931  6.279430  13665.746851  12486.204868   \n2          535009        178663  0.662274   8249.044187   8333.425766   \n3          544543        183531  0.796626   2258.856791   2371.941188   \n4          532432        197391  1.282990  17972.040340  18017.793983   \n...           ...           ...       ...           ...           ...   \n9825       524025        180791  0.431376  14838.312101  14758.276492   \n9826       529175        181482  1.292420  19944.834369  19834.023142   \n9827       507235        182827  2.130680   2206.109698   2155.409242   \n9828       511310        183074  2.057230   1860.069891   2020.300225   \n9829       516346        180172  1.013690   7436.660810   7361.488233   \n\n      src_longitude_rad  src_latitude_rad  \n0              0.000896          0.899235  \n1              0.000896          0.899235  \n2              0.000896          0.899235  \n3              0.000896          0.899235  \n4              0.000896          0.899235  \n...                 ...               ...  \n9825          -0.007433          0.899409  \n9826          -0.007433          0.899409  \n9827          -0.007433          0.899409  \n9828          -0.007433          0.899409  \n9829          -0.007433          0.899409  \n\n[9830 rows x 18 columns]",
      "text/html": "<div>\n<style scoped>\n    .dataframe tbody tr th:only-of-type {\n        vertical-align: middle;\n    }\n\n    .dataframe tbody tr th {\n        vertical-align: top;\n    }\n\n    .dataframe thead th {\n        text-align: right;\n    }\n</style>\n<table border=\"1\" class=\"dataframe\">\n  <thead>\n    <tr style=\"text-align: right;\">\n      <th></th>\n      <th>sourceid</th>\n      <th>dstid</th>\n      <th>dow</th>\n      <th>mean_travel_time</th>\n      <th>src_geoeast</th>\n      <th>src_geonorth</th>\n      <th>src_popeast</th>\n      <th>src_popnorth</th>\n      <th>src_area</th>\n      <th>dst_geoeast</th>\n      <th>dst_geonorth</th>\n      <th>dst_popeast</th>\n      <th>dst_popnorth</th>\n      <th>dst_area</th>\n      <th>geo_distance</th>\n      <th>pop_distance</th>\n      <th>src_longitude_rad</th>\n      <th>src_latitude_rad</th>\n    </tr>\n  </thead>\n  <tbody>\n    <tr>\n      <th>0</th>\n      <td>10</td>\n      <td>241</td>\n      <td>3</td>\n      <td>2334.43</td>\n      <td>542413</td>\n      <td>182380</td>\n      <td>542450</td>\n      <td>182415</td>\n      <td>0.790802</td>\n      <td>530851</td>\n      <td>174285</td>\n      <td>530876</td>\n      <td>174289</td>\n      <td>0.584104</td>\n      <td>14114.137204</td>\n      <td>14141.759155</td>\n      <td>0.000896</td>\n      <td>0.899235</td>\n    </tr>\n    <tr>\n      <th>1</th>\n      <td>10</td>\n      <td>612</td>\n      <td>5</td>\n      <td>1529.83</td>\n      <td>542413</td>\n      <td>182380</td>\n      <td>542450</td>\n      <td>182415</td>\n      <td>0.790802</td>\n      <td>551347</td>\n      <td>192721</td>\n      <td>550534</td>\n      <td>191931</td>\n      <td>6.279430</td>\n      <td>13665.746851</td>\n      <td>12486.204868</td>\n      <td>0.000896</td>\n      <td>0.899235</td>\n    </tr>\n    <tr>\n      <th>2</th>\n      <td>10</td>\n      <td>905</td>\n      <td>4</td>\n      <td>1390.04</td>\n      <td>542413</td>\n      <td>182380</td>\n      <td>542450</td>\n      <td>182415</td>\n      <td>0.790802</td>\n      <td>535060</td>\n      <td>178641</td>\n      <td>535009</td>\n      <td>178663</td>\n      <td>0.662274</td>\n      <td>8249.044187</td>\n      <td>8333.425766</td>\n      <td>0.000896</td>\n      <td>0.899235</td>\n    </tr>\n    <tr>\n      <th>3</th>\n      <td>10</td>\n      <td>407</td>\n      <td>7</td>\n      <td>157.91</td>\n      <td>542413</td>\n      <td>182380</td>\n      <td>542450</td>\n      <td>182415</td>\n      <td>0.790802</td>\n      <td>544366</td>\n      <td>183515</td>\n      <td>544543</td>\n      <td>183531</td>\n      <td>0.796626</td>\n      <td>2258.856791</td>\n      <td>2371.941188</td>\n      <td>0.000896</td>\n      <td>0.899235</td>\n    </tr>\n    <tr>\n      <th>4</th>\n      <td>10</td>\n      <td>603</td>\n      <td>4</td>\n      <td>1781.67</td>\n      <td>542413</td>\n      <td>182380</td>\n      <td>542450</td>\n      <td>182415</td>\n      <td>0.790802</td>\n      <td>532416</td>\n      <td>197315</td>\n      <td>532432</td>\n      <td>197391</td>\n      <td>1.282990</td>\n      <td>17972.040340</td>\n      <td>18017.793983</td>\n      <td>0.000896</td>\n      <td>0.899235</td>\n    </tr>\n    <tr>\n      <th>...</th>\n      <td>...</td>\n      <td>...</td>\n      <td>...</td>\n      <td>...</td>\n      <td>...</td>\n      <td>...</td>\n      <td>...</td>\n      <td>...</td>\n      <td>...</td>\n      <td>...</td>\n      <td>...</td>\n      <td>...</td>\n      <td>...</td>\n      <td>...</td>\n      <td>...</td>\n      <td>...</td>\n      <td>...</td>\n      <td>...</td>\n    </tr>\n    <tr>\n      <th>9825</th>\n      <td>657</td>\n      <td>207</td>\n      <td>6</td>\n      <td>1742.70</td>\n      <td>509284</td>\n      <td>182666</td>\n      <td>509368</td>\n      <td>182517</td>\n      <td>2.388420</td>\n      <td>523999</td>\n      <td>180757</td>\n      <td>524025</td>\n      <td>180791</td>\n      <td>0.431376</td>\n      <td>14838.312101</td>\n      <td>14758.276492</td>\n      <td>-0.007433</td>\n      <td>0.899409</td>\n    </tr>\n    <tr>\n      <th>9826</th>\n      <td>657</td>\n      <td>359</td>\n      <td>2</td>\n      <td>2693.21</td>\n      <td>509284</td>\n      <td>182666</td>\n      <td>509368</td>\n      <td>182517</td>\n      <td>2.388420</td>\n      <td>529177</td>\n      <td>181229</td>\n      <td>529175</td>\n      <td>181482</td>\n      <td>1.292420</td>\n      <td>19944.834369</td>\n      <td>19834.023142</td>\n      <td>-0.007433</td>\n      <td>0.899409</td>\n    </tr>\n    <tr>\n      <th>9827</th>\n      <td>657</td>\n      <td>656</td>\n      <td>7</td>\n      <td>298.18</td>\n      <td>509284</td>\n      <td>182666</td>\n      <td>509368</td>\n      <td>182517</td>\n      <td>2.388420</td>\n      <td>507078</td>\n      <td>182644</td>\n      <td>507235</td>\n      <td>182827</td>\n      <td>2.130680</td>\n      <td>2206.109698</td>\n      <td>2155.409242</td>\n      <td>-0.007433</td>\n      <td>0.899409</td>\n    </tr>\n    <tr>\n      <th>9828</th>\n      <td>657</td>\n      <td>540</td>\n      <td>7</td>\n      <td>312.27</td>\n      <td>509284</td>\n      <td>182666</td>\n      <td>509368</td>\n      <td>182517</td>\n      <td>2.388420</td>\n      <td>511046</td>\n      <td>183262</td>\n      <td>511310</td>\n      <td>183074</td>\n      <td>2.057230</td>\n      <td>1860.069891</td>\n      <td>2020.300225</td>\n      <td>-0.007433</td>\n      <td>0.899409</td>\n    </tr>\n    <tr>\n      <th>9829</th>\n      <td>657</td>\n      <td>560</td>\n      <td>1</td>\n      <td>1345.90</td>\n      <td>509284</td>\n      <td>182666</td>\n      <td>509368</td>\n      <td>182517</td>\n      <td>2.388420</td>\n      <td>516302</td>\n      <td>180206</td>\n      <td>516346</td>\n      <td>180172</td>\n      <td>1.013690</td>\n      <td>7436.660810</td>\n      <td>7361.488233</td>\n      <td>-0.007433</td>\n      <td>0.899409</td>\n    </tr>\n  </tbody>\n</table>\n<p>9830 rows × 18 columns</p>\n</div>"
     },
     "execution_count": 194,
     "metadata": {},
     "output_type": "execute_result"
    }
   ],
   "source": [
    "result_3 = result_2.join(df_extract_geo_json,on='sourceid')\n",
    "result_3 = result_3.rename(columns={'longitude_rad':'src_longitude_rad', 'latitude_rad':'src_latitude_rad'})\n",
    "result_3.drop('MOVEMENT_ID', inplace=True, axis=1)\n",
    "result_3"
   ],
   "metadata": {
    "collapsed": false,
    "pycharm": {
     "name": "#%%\n"
    }
   }
  },
  {
   "cell_type": "code",
   "execution_count": 195,
   "outputs": [
    {
     "ename": "KeyError",
     "evalue": "\"['longitude_rad', 'latitude_rad', 'geoeast', 'geonorth', 'popeast', 'popnorth', 'area_km2'] not in index\"",
     "output_type": "error",
     "traceback": [
      "\u001B[1;31m---------------------------------------------------------------------------\u001B[0m",
      "\u001B[1;31mKeyError\u001B[0m                                  Traceback (most recent call last)",
      "\u001B[1;32m~\\AppData\\Local\\Temp/ipykernel_15308/1458351153.py\u001B[0m in \u001B[0;36m<module>\u001B[1;34m\u001B[0m\n\u001B[0;32m      1\u001B[0m \u001B[0mresult_4\u001B[0m \u001B[1;33m=\u001B[0m \u001B[0mresult_3\u001B[0m\u001B[1;33m.\u001B[0m\u001B[0mjoin\u001B[0m\u001B[1;33m(\u001B[0m\u001B[0mdf_extract_geo_json\u001B[0m\u001B[1;33m,\u001B[0m\u001B[0mon\u001B[0m\u001B[1;33m=\u001B[0m\u001B[1;34m'dstid'\u001B[0m\u001B[1;33m)\u001B[0m\u001B[1;33m\u001B[0m\u001B[1;33m\u001B[0m\u001B[0m\n\u001B[0;32m      2\u001B[0m \u001B[0mresult_4\u001B[0m \u001B[1;33m=\u001B[0m \u001B[0mresult_4\u001B[0m\u001B[1;33m.\u001B[0m\u001B[0mrename\u001B[0m\u001B[1;33m(\u001B[0m\u001B[0mcolumns\u001B[0m\u001B[1;33m=\u001B[0m\u001B[1;33m{\u001B[0m\u001B[1;34m'longitude_rad'\u001B[0m\u001B[1;33m:\u001B[0m\u001B[1;34m'dst_longitude_rad'\u001B[0m\u001B[1;33m,\u001B[0m \u001B[1;34m'latitude_rad'\u001B[0m\u001B[1;33m:\u001B[0m\u001B[1;34m'dst_latitude_rad'\u001B[0m\u001B[1;33m}\u001B[0m\u001B[1;33m)\u001B[0m\u001B[1;33m\u001B[0m\u001B[1;33m\u001B[0m\u001B[0m\n\u001B[1;32m----> 3\u001B[1;33m \u001B[0mdf_extract_geo_json\u001B[0m \u001B[1;33m=\u001B[0m \u001B[0mresult_4\u001B[0m\u001B[1;33m[\u001B[0m\u001B[1;33m[\u001B[0m\u001B[1;34m'MOVEMENT_ID'\u001B[0m\u001B[1;33m,\u001B[0m\u001B[1;34m'longitude_rad'\u001B[0m\u001B[1;33m,\u001B[0m \u001B[1;34m'latitude_rad'\u001B[0m\u001B[1;33m,\u001B[0m\u001B[1;34m'geoeast'\u001B[0m\u001B[1;33m,\u001B[0m \u001B[1;34m'geonorth'\u001B[0m\u001B[1;33m,\u001B[0m  \u001B[1;34m'popeast'\u001B[0m\u001B[1;33m,\u001B[0m \u001B[1;34m'popnorth'\u001B[0m\u001B[1;33m,\u001B[0m\u001B[1;34m'area_km2'\u001B[0m\u001B[1;33m]\u001B[0m\u001B[1;33m]\u001B[0m\u001B[1;33m\u001B[0m\u001B[1;33m\u001B[0m\u001B[0m\n\u001B[0m\u001B[0;32m      4\u001B[0m \u001B[0mresult_4\u001B[0m\u001B[1;33m.\u001B[0m\u001B[0mdrop\u001B[0m\u001B[1;33m(\u001B[0m\u001B[1;34m'MOVEMENT_ID'\u001B[0m\u001B[1;33m,\u001B[0m \u001B[0minplace\u001B[0m\u001B[1;33m=\u001B[0m\u001B[1;32mTrue\u001B[0m\u001B[1;33m,\u001B[0m \u001B[0maxis\u001B[0m\u001B[1;33m=\u001B[0m\u001B[1;36m1\u001B[0m\u001B[1;33m)\u001B[0m\u001B[1;33m\u001B[0m\u001B[1;33m\u001B[0m\u001B[0m\n\u001B[0;32m      5\u001B[0m \u001B[0mresult_4\u001B[0m\u001B[1;33m\u001B[0m\u001B[1;33m\u001B[0m\u001B[0m\n",
      "\u001B[1;32m~\\anaconda3\\envs\\ali_root\\lib\\site-packages\\pandas\\core\\frame.py\u001B[0m in \u001B[0;36m__getitem__\u001B[1;34m(self, key)\u001B[0m\n\u001B[0;32m   3462\u001B[0m             \u001B[1;32mif\u001B[0m \u001B[0mis_iterator\u001B[0m\u001B[1;33m(\u001B[0m\u001B[0mkey\u001B[0m\u001B[1;33m)\u001B[0m\u001B[1;33m:\u001B[0m\u001B[1;33m\u001B[0m\u001B[1;33m\u001B[0m\u001B[0m\n\u001B[0;32m   3463\u001B[0m                 \u001B[0mkey\u001B[0m \u001B[1;33m=\u001B[0m \u001B[0mlist\u001B[0m\u001B[1;33m(\u001B[0m\u001B[0mkey\u001B[0m\u001B[1;33m)\u001B[0m\u001B[1;33m\u001B[0m\u001B[1;33m\u001B[0m\u001B[0m\n\u001B[1;32m-> 3464\u001B[1;33m             \u001B[0mindexer\u001B[0m \u001B[1;33m=\u001B[0m \u001B[0mself\u001B[0m\u001B[1;33m.\u001B[0m\u001B[0mloc\u001B[0m\u001B[1;33m.\u001B[0m\u001B[0m_get_listlike_indexer\u001B[0m\u001B[1;33m(\u001B[0m\u001B[0mkey\u001B[0m\u001B[1;33m,\u001B[0m \u001B[0maxis\u001B[0m\u001B[1;33m=\u001B[0m\u001B[1;36m1\u001B[0m\u001B[1;33m)\u001B[0m\u001B[1;33m[\u001B[0m\u001B[1;36m1\u001B[0m\u001B[1;33m]\u001B[0m\u001B[1;33m\u001B[0m\u001B[1;33m\u001B[0m\u001B[0m\n\u001B[0m\u001B[0;32m   3465\u001B[0m \u001B[1;33m\u001B[0m\u001B[0m\n\u001B[0;32m   3466\u001B[0m         \u001B[1;31m# take() does not accept boolean indexers\u001B[0m\u001B[1;33m\u001B[0m\u001B[1;33m\u001B[0m\u001B[1;33m\u001B[0m\u001B[0m\n",
      "\u001B[1;32m~\\anaconda3\\envs\\ali_root\\lib\\site-packages\\pandas\\core\\indexing.py\u001B[0m in \u001B[0;36m_get_listlike_indexer\u001B[1;34m(self, key, axis)\u001B[0m\n\u001B[0;32m   1312\u001B[0m             \u001B[0mkeyarr\u001B[0m\u001B[1;33m,\u001B[0m \u001B[0mindexer\u001B[0m\u001B[1;33m,\u001B[0m \u001B[0mnew_indexer\u001B[0m \u001B[1;33m=\u001B[0m \u001B[0max\u001B[0m\u001B[1;33m.\u001B[0m\u001B[0m_reindex_non_unique\u001B[0m\u001B[1;33m(\u001B[0m\u001B[0mkeyarr\u001B[0m\u001B[1;33m)\u001B[0m\u001B[1;33m\u001B[0m\u001B[1;33m\u001B[0m\u001B[0m\n\u001B[0;32m   1313\u001B[0m \u001B[1;33m\u001B[0m\u001B[0m\n\u001B[1;32m-> 1314\u001B[1;33m         \u001B[0mself\u001B[0m\u001B[1;33m.\u001B[0m\u001B[0m_validate_read_indexer\u001B[0m\u001B[1;33m(\u001B[0m\u001B[0mkeyarr\u001B[0m\u001B[1;33m,\u001B[0m \u001B[0mindexer\u001B[0m\u001B[1;33m,\u001B[0m \u001B[0maxis\u001B[0m\u001B[1;33m)\u001B[0m\u001B[1;33m\u001B[0m\u001B[1;33m\u001B[0m\u001B[0m\n\u001B[0m\u001B[0;32m   1315\u001B[0m \u001B[1;33m\u001B[0m\u001B[0m\n\u001B[0;32m   1316\u001B[0m         if needs_i8_conversion(ax.dtype) or isinstance(\n",
      "\u001B[1;32m~\\anaconda3\\envs\\ali_root\\lib\\site-packages\\pandas\\core\\indexing.py\u001B[0m in \u001B[0;36m_validate_read_indexer\u001B[1;34m(self, key, indexer, axis)\u001B[0m\n\u001B[0;32m   1375\u001B[0m \u001B[1;33m\u001B[0m\u001B[0m\n\u001B[0;32m   1376\u001B[0m             \u001B[0mnot_found\u001B[0m \u001B[1;33m=\u001B[0m \u001B[0mlist\u001B[0m\u001B[1;33m(\u001B[0m\u001B[0mensure_index\u001B[0m\u001B[1;33m(\u001B[0m\u001B[0mkey\u001B[0m\u001B[1;33m)\u001B[0m\u001B[1;33m[\u001B[0m\u001B[0mmissing_mask\u001B[0m\u001B[1;33m.\u001B[0m\u001B[0mnonzero\u001B[0m\u001B[1;33m(\u001B[0m\u001B[1;33m)\u001B[0m\u001B[1;33m[\u001B[0m\u001B[1;36m0\u001B[0m\u001B[1;33m]\u001B[0m\u001B[1;33m]\u001B[0m\u001B[1;33m.\u001B[0m\u001B[0munique\u001B[0m\u001B[1;33m(\u001B[0m\u001B[1;33m)\u001B[0m\u001B[1;33m)\u001B[0m\u001B[1;33m\u001B[0m\u001B[1;33m\u001B[0m\u001B[0m\n\u001B[1;32m-> 1377\u001B[1;33m             \u001B[1;32mraise\u001B[0m \u001B[0mKeyError\u001B[0m\u001B[1;33m(\u001B[0m\u001B[1;34mf\"{not_found} not in index\"\u001B[0m\u001B[1;33m)\u001B[0m\u001B[1;33m\u001B[0m\u001B[1;33m\u001B[0m\u001B[0m\n\u001B[0m\u001B[0;32m   1378\u001B[0m \u001B[1;33m\u001B[0m\u001B[0m\n\u001B[0;32m   1379\u001B[0m \u001B[1;33m\u001B[0m\u001B[0m\n",
      "\u001B[1;31mKeyError\u001B[0m: \"['longitude_rad', 'latitude_rad', 'geoeast', 'geonorth', 'popeast', 'popnorth', 'area_km2'] not in index\""
     ]
    }
   ],
   "source": [
    "result_4 = result_3.join(df_extract_geo_json,on='dstid')\n",
    "result_4 = result_4.rename(columns={'longitude_rad':'dst_longitude_rad', 'latitude_rad':'dst_latitude_rad'})\n",
    "df_extract_geo_json = result_4[['MOVEMENT_ID','longitude_rad', 'latitude_rad','geoeast', 'geonorth',  'popeast', 'popnorth','area_km2']]\n",
    "result_4.drop('MOVEMENT_ID', inplace=True, axis=1)\n",
    "result_4"
   ],
   "metadata": {
    "collapsed": false,
    "pycharm": {
     "name": "#%%\n"
    }
   }
  },
  {
   "cell_type": "code",
   "execution_count": null,
   "outputs": [],
   "source": [
    "from math import radians, cos, sin, asin, sqrt\n",
    "\n",
    "def haversine(lon1, lat1, lon2, lat2):\n",
    "    \"\"\"\n",
    "    Calculate the great circle distance between two points\n",
    "    on the earth (specified in decimal degrees)\n",
    "    \"\"\"\n",
    "\n",
    "    # haversine formula\n",
    "    dlon = lon2 - lon1\n",
    "    dlat = lat2 - lat1\n",
    "    a = sin(dlat/2)**2 + cos(lat1) * cos(lat2) * sin(dlon/2)**2\n",
    "    c = 2 * asin(sqrt(a))\n",
    "    r = 3956 # Radius of earth in miles. Use 6371 for kilometers\n",
    "    return c * r"
   ],
   "metadata": {
    "collapsed": false,
    "pycharm": {
     "name": "#%%\n"
    }
   }
  },
  {
   "cell_type": "code",
   "execution_count": null,
   "outputs": [],
   "source": [
    "distances = []\n",
    "for i in range(9830):\n",
    "    distance = haversine(result_4['src_longitude_rad'][i], result_4['src_latitude_rad'][i], result_4['dst_longitude_rad'][i], result_4['dst_latitude_rad'][i])\n",
    "    distances.append(distance)"
   ],
   "metadata": {
    "collapsed": false,
    "pycharm": {
     "name": "#%%\n"
    }
   }
  },
  {
   "cell_type": "code",
   "execution_count": null,
   "outputs": [],
   "source": [
    "result_4['haversine_distances'] = np.array(distances)"
   ],
   "metadata": {
    "collapsed": false,
    "pycharm": {
     "name": "#%%\n"
    }
   }
  },
  {
   "cell_type": "code",
   "execution_count": null,
   "outputs": [],
   "source": [
    "result_4"
   ],
   "metadata": {
    "collapsed": false,
    "pycharm": {
     "name": "#%%\n"
    }
   }
  },
  {
   "cell_type": "code",
   "execution_count": null,
   "outputs": [],
   "source": [],
   "metadata": {
    "collapsed": false,
    "pycharm": {
     "name": "#%%\n"
    }
   }
  },
  {
   "cell_type": "code",
   "execution_count": null,
   "outputs": [],
   "source": [
    "x = result_4[['dow', 'geo_distance', 'pop_distance','src_area', 'dst_area', 'haversine_distances']]\n",
    "y = result_4['mean_travel_time']"
   ],
   "metadata": {
    "collapsed": false,
    "pycharm": {
     "name": "#%%\n"
    }
   }
  },
  {
   "cell_type": "code",
   "execution_count": null,
   "outputs": [],
   "source": [
    "from sklearn.model_selection import train_test_split\n",
    "\n",
    "x_train, x_test, y_train, y_test = train_test_split(x, y, test_size=0.3, random_state=123)\n",
    "from sklearn.ensemble import RandomForestRegressor\n",
    "\n",
    "rf = RandomForestRegressor(random_state=123)\n",
    "rf.fit(x_train, y_train)\n",
    "y_pred = rf.predict(x_test)\n",
    "\n",
    "from sklearn.metrics import mean_squared_error\n",
    "mse = mean_squared_error(y_test, y_pred)\n",
    "mse"
   ],
   "metadata": {
    "collapsed": false,
    "pycharm": {
     "name": "#%%\n"
    }
   }
  },
  {
   "cell_type": "code",
   "execution_count": null,
   "outputs": [],
   "source": [
    "import seaborn as sns\n",
    "sns.scatterplot(x=y_pred, y=y_test)"
   ],
   "metadata": {
    "collapsed": false,
    "pycharm": {
     "name": "#%%\n"
    }
   }
  },
  {
   "cell_type": "code",
   "execution_count": null,
   "outputs": [],
   "source": [
    "\n",
    "from sklearn.model_selection import train_test_split\n",
    "from xgboost import XGBRegressor\n",
    "\n",
    "x_train, x_test, y_train, y_test = train_test_split(x, y, test_size=0.3, random_state=123)\n",
    "xgb = XGBRegressor(random_state=123)\n",
    "xgb.fit(x_train, y_train)\n",
    "result = xgb.predict(x_test)\n",
    "\n",
    "mse = mean_squared_error(y_test, result)\n",
    "mse"
   ],
   "metadata": {
    "collapsed": false,
    "pycharm": {
     "name": "#%%\n"
    }
   }
  },
  {
   "cell_type": "code",
   "execution_count": null,
   "outputs": [],
   "source": [
    "result_4.drop(['sourceid', 'dstid'], axis=1, inplace=True)"
   ],
   "metadata": {
    "collapsed": false,
    "pycharm": {
     "name": "#%%\n"
    }
   }
  },
  {
   "cell_type": "code",
   "execution_count": null,
   "outputs": [],
   "source": [
    "result_4"
   ],
   "metadata": {
    "collapsed": false,
    "pycharm": {
     "name": "#%%\n"
    }
   }
  },
  {
   "cell_type": "code",
   "execution_count": null,
   "outputs": [],
   "source": [
    "final_df = result_2[['dow', 'geo_distance', 'pop_distance', 'src_area', 'dst_area', 'mean_travel_time']]"
   ],
   "metadata": {
    "collapsed": false,
    "pycharm": {
     "name": "#%%\n"
    }
   }
  },
  {
   "cell_type": "code",
   "execution_count": null,
   "outputs": [],
   "source": [
    "# from sklearn.preprocessing import StandardScaler\n",
    "# sc = StandardScaler()\n",
    "# # sc.fit_transform(final_df[['dow', 'geo_distance', 'pop_distance', 'src_area', 'dst_area']])\n",
    "# final_df[['dow', 'geo_distance', 'pop_distance', 'src_area', 'dst_area']] = sc.fit_transform(final_df[['dow', 'geo_distance', 'pop_distance', 'src_area', 'dst_area']])\n"
   ],
   "metadata": {
    "collapsed": false,
    "pycharm": {
     "name": "#%%\n"
    }
   }
  },
  {
   "cell_type": "code",
   "execution_count": null,
   "outputs": [],
   "source": [
    "df_test = pd.read_csv('C:\\\\Users\\\\aliyu\\DataspellProjects\\MEC-DS-Competition\\\\testing_dataset.csv')\n",
    "result_test=df_test.join(df_extract_geo_json, on='sourceid')\n",
    "result_test = result_test.rename(columns={'geoeast': 'src_geoeast', 'geonorth': 'src_geonorth', 'popeast': 'src_popeast', 'popnorth': 'src_popnorth', 'area_km2':'src_area'})\n",
    "result_test.drop('MOVEMENT_ID', inplace=True, axis=1)\n",
    "result_test_2=result_test.join(df_extract_geo_json, on='dstid')\n",
    "result_test_2.drop('MOVEMENT_ID', inplace=True, axis=1)\n",
    "result_test_2 = result_test_2.rename(columns={'geoeast': 'dst_geoeast', 'geonorth': 'dst_geonorth', 'popeast': 'dst_popeast', 'popnorth': 'dst_popnorth', 'area_km2':'dst_area'})\n",
    "\n",
    "result_test_2['geo_distance'] = np.sqrt(((result_test_2['src_geoeast'] - result_test_2['dst_geoeast'])**2) + (result_test_2['src_geonorth'] - result_test_2['dst_geonorth'])**2)\n",
    "\n",
    "result_test_2['pop_distance'] = np.sqrt(((result_test_2['src_popeast'] - result_test_2['dst_popeast'])**2) + (result_test_2['src_popnorth'] - result_test_2['dst_popnorth'])**2)\n",
    "\n",
    "# result_test_3 = result_test_2.join(df_extract_geo_json,on='sourceid')\n",
    "# result_test_3 = result_test_3.rename(columns={'longitude_rad':'src_longitude_rad', 'latitude_rad':'src_latitude_rad'})\n",
    "# result_test_3.drop('MOVEMENT_ID', inplace=True, axis=1)\n",
    "\n",
    "# result_test_4 = result_test_3.join(df_extract_geo_json,on='dstid')\n",
    "# result_test_4 = result_test_4.rename(columns={'longitude_rad':'dst_longitude_rad', 'latitude_rad':'dst_latitude_rad'})\n",
    "# result_test_4.drop('MOVEMENT_ID', inplace=True, axis=1)\n",
    "#\n",
    "# distances = []\n",
    "# for i in range(9830):\n",
    "#     distance = haversine(result_test_4['src_longitude_rad'][i], result_test_4['src_latitude_rad'][i], result_test_4['dst_longitude_rad'][i], result_test_4['dst_latitude_rad'][i])\n",
    "#     distances.append(distance)\n",
    "#\n",
    "# result_test_4['haversine_distances'] = np.array(distances)\n",
    "\n",
    "# result_test_4\n"
   ],
   "metadata": {
    "collapsed": false,
    "pycharm": {
     "name": "#%%\n"
    }
   }
  },
  {
   "cell_type": "code",
   "execution_count": null,
   "outputs": [],
   "source": [
    "final_df_2 = result_test_3[['dow', 'geo_distance', 'pop_distance', 'src_area', 'dst_area']]\n",
    "final_df_2"
   ],
   "metadata": {
    "collapsed": false,
    "pycharm": {
     "name": "#%%\n"
    }
   }
  },
  {
   "cell_type": "code",
   "execution_count": null,
   "outputs": [],
   "source": [
    "\n",
    "\n",
    "df_keep = df_test[['sourceid','dstid', 'dow']]\n",
    "\n",
    "\n",
    "y_pred = xgb.predict(final_df_2)\n",
    "df_keep['mean_travel_time'] = y_pred\n",
    "df_keep\n",
    "df_keep.to_csv('submission2.csv',index=False)"
   ],
   "metadata": {
    "collapsed": false,
    "pycharm": {
     "name": "#%%\n"
    }
   }
  }
 ],
 "metadata": {
  "kernelspec": {
   "display_name": "Python 3",
   "language": "python",
   "name": "python3"
  },
  "language_info": {
   "codemirror_mode": {
    "name": "ipython",
    "version": 2
   },
   "file_extension": ".py",
   "mimetype": "text/x-python",
   "name": "python",
   "nbconvert_exporter": "python",
   "pygments_lexer": "ipython2",
   "version": "2.7.6"
  }
 },
 "nbformat": 4,
 "nbformat_minor": 0
}