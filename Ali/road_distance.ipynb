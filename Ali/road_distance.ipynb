{
 "cells": [
  {
   "cell_type": "code",
   "execution_count": 1,
   "metadata": {
    "collapsed": true
   },
   "outputs": [],
   "source": [
    "import pandas as pd\n",
    "import geopandas as gpd"
   ]
  },
  {
   "cell_type": "code",
   "execution_count": 3,
   "outputs": [],
   "source": [
    "df_distance=pd.read_csv('C:\\\\Users\\\\aliyu\\DataspellProjects\\MEC-DS-Competition\\Ali\\\\road_distances.csv')"
   ],
   "metadata": {
    "collapsed": false,
    "pycharm": {
     "name": "#%%\n"
    }
   }
  },
  {
   "cell_type": "code",
   "execution_count": 7,
   "outputs": [],
   "source": [
    "df_distance.drop(\"Unnamed: 0\", axis=1, inplace=True)"
   ],
   "metadata": {
    "collapsed": false,
    "pycharm": {
     "name": "#%%\n"
    }
   }
  },
  {
   "cell_type": "code",
   "execution_count": 8,
   "outputs": [
    {
     "data": {
      "text/plain": "      sourceid  dstid  dow  mean_travel_time  src_area  dst_area  \\\n0           10    241    3           2334.43  0.790802  0.584104   \n1           10    612    5           1529.83  0.790802  6.279430   \n2           10    905    4           1390.04  0.790802  0.662274   \n3           10    407    7            157.91  0.790802  0.796626   \n4           10    603    4           1781.67  0.790802  1.282990   \n...        ...    ...  ...               ...       ...       ...   \n9825       657    207    6           1742.70  2.388420  0.431376   \n9826       657    359    2           2693.21  2.388420  1.292420   \n9827       657    656    7            298.18  2.388420  2.130680   \n9828       657    540    7            312.27  2.388420  2.057230   \n9829       657    560    1           1345.90  2.388420  1.013690   \n\n      geo_distance  pop_distance  src_longitude  src_latitude  dst_longitude  \\\n0        14.114137     14.141759       0.000896      0.899235      -0.002063   \n1        13.665747     12.486205       0.000896      0.899235       0.003220   \n2         8.249044      8.333426       0.000896      0.899235      -0.000978   \n3         2.258857      2.371941       0.000896      0.899235       0.001395   \n4        17.972040     18.017794       0.000896      0.899235      -0.001519   \n...            ...           ...            ...           ...            ...   \n9825     14.838312     14.758276      -0.007433      0.899409      -0.003744   \n9826     19.944834     19.834023      -0.007433      0.899409      -0.002439   \n9827      2.206110      2.155409      -0.007433      0.899409      -0.007988   \n9828      1.860070      2.020300      -0.007433      0.899409      -0.006987   \n9829      7.436661      7.361488      -0.007433      0.899409      -0.005682   \n\n      dst_latitude  haversine_distances  \n0         0.898014            14.083140  \n1         0.900817            13.644253  \n2         0.898681             8.227685  \n3         0.899404             2.251140  \n4         0.901620            17.952686  \n...            ...                  ...  \n9825      0.899056            14.794136  \n9826      0.899110            19.885227  \n9827      0.899413             2.200808  \n9828      0.899496             1.853358  \n9829      0.898998             7.417313  \n\n[9830 rows x 13 columns]",
      "text/html": "<div>\n<style scoped>\n    .dataframe tbody tr th:only-of-type {\n        vertical-align: middle;\n    }\n\n    .dataframe tbody tr th {\n        vertical-align: top;\n    }\n\n    .dataframe thead th {\n        text-align: right;\n    }\n</style>\n<table border=\"1\" class=\"dataframe\">\n  <thead>\n    <tr style=\"text-align: right;\">\n      <th></th>\n      <th>sourceid</th>\n      <th>dstid</th>\n      <th>dow</th>\n      <th>mean_travel_time</th>\n      <th>src_area</th>\n      <th>dst_area</th>\n      <th>geo_distance</th>\n      <th>pop_distance</th>\n      <th>src_longitude</th>\n      <th>src_latitude</th>\n      <th>dst_longitude</th>\n      <th>dst_latitude</th>\n      <th>haversine_distances</th>\n    </tr>\n  </thead>\n  <tbody>\n    <tr>\n      <th>0</th>\n      <td>10</td>\n      <td>241</td>\n      <td>3</td>\n      <td>2334.43</td>\n      <td>0.790802</td>\n      <td>0.584104</td>\n      <td>14.114137</td>\n      <td>14.141759</td>\n      <td>0.000896</td>\n      <td>0.899235</td>\n      <td>-0.002063</td>\n      <td>0.898014</td>\n      <td>14.083140</td>\n    </tr>\n    <tr>\n      <th>1</th>\n      <td>10</td>\n      <td>612</td>\n      <td>5</td>\n      <td>1529.83</td>\n      <td>0.790802</td>\n      <td>6.279430</td>\n      <td>13.665747</td>\n      <td>12.486205</td>\n      <td>0.000896</td>\n      <td>0.899235</td>\n      <td>0.003220</td>\n      <td>0.900817</td>\n      <td>13.644253</td>\n    </tr>\n    <tr>\n      <th>2</th>\n      <td>10</td>\n      <td>905</td>\n      <td>4</td>\n      <td>1390.04</td>\n      <td>0.790802</td>\n      <td>0.662274</td>\n      <td>8.249044</td>\n      <td>8.333426</td>\n      <td>0.000896</td>\n      <td>0.899235</td>\n      <td>-0.000978</td>\n      <td>0.898681</td>\n      <td>8.227685</td>\n    </tr>\n    <tr>\n      <th>3</th>\n      <td>10</td>\n      <td>407</td>\n      <td>7</td>\n      <td>157.91</td>\n      <td>0.790802</td>\n      <td>0.796626</td>\n      <td>2.258857</td>\n      <td>2.371941</td>\n      <td>0.000896</td>\n      <td>0.899235</td>\n      <td>0.001395</td>\n      <td>0.899404</td>\n      <td>2.251140</td>\n    </tr>\n    <tr>\n      <th>4</th>\n      <td>10</td>\n      <td>603</td>\n      <td>4</td>\n      <td>1781.67</td>\n      <td>0.790802</td>\n      <td>1.282990</td>\n      <td>17.972040</td>\n      <td>18.017794</td>\n      <td>0.000896</td>\n      <td>0.899235</td>\n      <td>-0.001519</td>\n      <td>0.901620</td>\n      <td>17.952686</td>\n    </tr>\n    <tr>\n      <th>...</th>\n      <td>...</td>\n      <td>...</td>\n      <td>...</td>\n      <td>...</td>\n      <td>...</td>\n      <td>...</td>\n      <td>...</td>\n      <td>...</td>\n      <td>...</td>\n      <td>...</td>\n      <td>...</td>\n      <td>...</td>\n      <td>...</td>\n    </tr>\n    <tr>\n      <th>9825</th>\n      <td>657</td>\n      <td>207</td>\n      <td>6</td>\n      <td>1742.70</td>\n      <td>2.388420</td>\n      <td>0.431376</td>\n      <td>14.838312</td>\n      <td>14.758276</td>\n      <td>-0.007433</td>\n      <td>0.899409</td>\n      <td>-0.003744</td>\n      <td>0.899056</td>\n      <td>14.794136</td>\n    </tr>\n    <tr>\n      <th>9826</th>\n      <td>657</td>\n      <td>359</td>\n      <td>2</td>\n      <td>2693.21</td>\n      <td>2.388420</td>\n      <td>1.292420</td>\n      <td>19.944834</td>\n      <td>19.834023</td>\n      <td>-0.007433</td>\n      <td>0.899409</td>\n      <td>-0.002439</td>\n      <td>0.899110</td>\n      <td>19.885227</td>\n    </tr>\n    <tr>\n      <th>9827</th>\n      <td>657</td>\n      <td>656</td>\n      <td>7</td>\n      <td>298.18</td>\n      <td>2.388420</td>\n      <td>2.130680</td>\n      <td>2.206110</td>\n      <td>2.155409</td>\n      <td>-0.007433</td>\n      <td>0.899409</td>\n      <td>-0.007988</td>\n      <td>0.899413</td>\n      <td>2.200808</td>\n    </tr>\n    <tr>\n      <th>9828</th>\n      <td>657</td>\n      <td>540</td>\n      <td>7</td>\n      <td>312.27</td>\n      <td>2.388420</td>\n      <td>2.057230</td>\n      <td>1.860070</td>\n      <td>2.020300</td>\n      <td>-0.007433</td>\n      <td>0.899409</td>\n      <td>-0.006987</td>\n      <td>0.899496</td>\n      <td>1.853358</td>\n    </tr>\n    <tr>\n      <th>9829</th>\n      <td>657</td>\n      <td>560</td>\n      <td>1</td>\n      <td>1345.90</td>\n      <td>2.388420</td>\n      <td>1.013690</td>\n      <td>7.436661</td>\n      <td>7.361488</td>\n      <td>-0.007433</td>\n      <td>0.899409</td>\n      <td>-0.005682</td>\n      <td>0.898998</td>\n      <td>7.417313</td>\n    </tr>\n  </tbody>\n</table>\n<p>9830 rows × 13 columns</p>\n</div>"
     },
     "execution_count": 8,
     "metadata": {},
     "output_type": "execute_result"
    }
   ],
   "source": [
    "df_distance"
   ],
   "metadata": {
    "collapsed": false,
    "pycharm": {
     "name": "#%%\n"
    }
   }
  },
  {
   "cell_type": "code",
   "execution_count": null,
   "outputs": [],
   "source": [],
   "metadata": {
    "collapsed": false,
    "pycharm": {
     "name": "#%%\n"
    }
   }
  }
 ],
 "metadata": {
  "kernelspec": {
   "display_name": "Python 3",
   "language": "python",
   "name": "python3"
  },
  "language_info": {
   "codemirror_mode": {
    "name": "ipython",
    "version": 2
   },
   "file_extension": ".py",
   "mimetype": "text/x-python",
   "name": "python",
   "nbconvert_exporter": "python",
   "pygments_lexer": "ipython2",
   "version": "2.7.6"
  }
 },
 "nbformat": 4,
 "nbformat_minor": 0
}